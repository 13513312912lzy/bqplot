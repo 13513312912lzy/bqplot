{
 "cells": [
  {
   "cell_type": "markdown",
   "metadata": {},
   "source": [
    "## The `Lines` Mark\n",
    "\n",
    "`Lines` is a `Mark` object that is primarily used to visualize quantitative data. It works particularly well for continuous data, or when the shape of the data needs to be extracted."
   ]
  },
  {
   "cell_type": "markdown",
   "metadata": {},
   "source": [
    "### Introduction\n",
    "\n",
    "The `Lines` object provides the following features:\n",
    "\n",
    "1. Ability to plot a single set or multiple sets of y-values as a function of a set or multiple sets of x-values\n",
    "2. Ability to style the line object in different ways, by setting its:\n",
    "    + `colors` - allows the user to control the color of each line, takes as input a list of any RGB, HEX, or HTML color name\n",
    "    + `opacities` - allows the user to control the opacity of each line, takes as input a real number between 0 and 1\n",
    "    + `stroke_width` - allows the user to control the width of all lines, takes as input a real number\n",
    "    + `line_style` - allows the user to control whether a line is solid, dashed, dotted or both dashed and dotted\n",
    "    + `interpolation` - allows the user to control the type of interpolation between two points\n",
    "3. Ability to specify a marker at each point passed to the line. The marker can be a shape which is at the points between which the line is interpolated and can be set through:\n",
    "    + `marker` - allows the user to control the shape of the marker by choosing from any of the available options\n",
    "    + `marker_size` - allows the user to control the size of the marker, takes as input a non-negative integer"
   ]
  },
  {
   "cell_type": "markdown",
   "metadata": {},
   "source": [
    "To explore more features, run the following lines of code:\n",
    "    \n",
    "```python\n",
    "from bqplot import Lines\n",
    "??Lines\n",
    "```\n",
    "\n",
    "or visit the [`Lines` documentation page](http://bqplot.readthedocs.io/en/stable/_generate/bqplot.marks.Lines.html#bqplot.marks.Lines)"
   ]
  },
  {
   "cell_type": "markdown",
   "metadata": {},
   "source": [
    "**Let's explore these features one by one**"
   ]
  },
  {
   "cell_type": "markdown",
   "metadata": {},
   "source": [
    "We begin by importing the modules that we will need in this example"
   ]
  },
  {
   "cell_type": "code",
   "execution_count": null,
   "metadata": {
    "collapsed": false
   },
   "outputs": [],
   "source": [
    "import numpy as np #For numerical programming and multi-dimensional arrays\n",
    "from pandas import date_range #For date-rate generation\n",
    "from IPython.display import display #The display function allows us to display bqplot figures or general GUIs\n",
    "from bqplot import * #We import the relevant modules from bqplot"
   ]
  },
  {
   "cell_type": "markdown",
   "metadata": {},
   "source": [
    "**Random Data Generation**"
   ]
  },
  {
   "cell_type": "code",
   "execution_count": null,
   "metadata": {
    "collapsed": false
   },
   "outputs": [],
   "source": [
    "security_1 = np.cumsum(np.random.randn(150)) + 100.\n",
    "security_2 = np.cumsum(np.random.randn(150)) + 100."
   ]
  },
  {
   "cell_type": "markdown",
   "metadata": {},
   "source": [
    "## Basic Line Chart"
   ]
  },
  {
   "cell_type": "markdown",
   "metadata": {},
   "source": [
    "Using the `bqplot`, object oriented API, we can generate a Line Chart with the following code snippet:"
   ]
  },
  {
   "cell_type": "code",
   "execution_count": null,
   "metadata": {
    "collapsed": false
   },
   "outputs": [],
   "source": [
    "sc_x = LinearScale()\n",
    "sc_y = LinearScale()\n",
    "\n",
    "line = Lines(x=np.arange(len(security_1)), y=security_1,\n",
    "             scales={'x': sc_x, 'y': sc_y})\n",
    "ax_x = Axis(scale=sc_x, label='Index')\n",
    "ax_y = Axis(scale=sc_y, orientation='vertical', label='y-values of Security 1')\n",
    "\n",
    "fig = Figure(marks=[line], axes=[ax_x, ax_y], title='Security 1')\n",
    "display(fig) "
   ]
  },
  {
   "cell_type": "markdown",
   "metadata": {},
   "source": [
    "The `x` attribute refers to the data represented horizontally, while the `y` attribute refers the data represented vertically. \n",
    "\n",
    "**We can explore the different attributes by changing each of them for the plot above:**"
   ]
  },
  {
   "cell_type": "code",
   "execution_count": null,
   "metadata": {
    "collapsed": false
   },
   "outputs": [],
   "source": [
    "line.colors = ['DarkOrange']"
   ]
  },
  {
   "cell_type": "markdown",
   "metadata": {},
   "source": [
    "In a similar way, we can also change any attribute after the plot has been displayed to change the plot. Run each of the cells below, and try changing the attributes to explore the different features and how they affect the plot."
   ]
  },
  {
   "cell_type": "code",
   "execution_count": null,
   "metadata": {
    "collapsed": true
   },
   "outputs": [],
   "source": [
    "# The opacity allows us to display the Line while featuring other Marks that may be on the Figure\n",
    "line.opacities = [.5]"
   ]
  },
  {
   "cell_type": "code",
   "execution_count": null,
   "metadata": {
    "collapsed": true
   },
   "outputs": [],
   "source": [
    "line.stroke_width = 2.5"
   ]
  },
  {
   "cell_type": "code",
   "execution_count": null,
   "metadata": {
    "collapsed": true
   },
   "outputs": [],
   "source": [
    "line.line_style = 'dashed'"
   ]
  },
  {
   "cell_type": "code",
   "execution_count": null,
   "metadata": {
    "collapsed": true
   },
   "outputs": [],
   "source": [
    "line.interpolation = 'basis'"
   ]
  },
  {
   "cell_type": "markdown",
   "metadata": {},
   "source": [
    "While a `Lines` plot allows the user to extract the general shape of the data being plotted, there may be a need to visualize discrete data points along with this shape. This is where the `markers` attribute comes in."
   ]
  },
  {
   "cell_type": "code",
   "execution_count": null,
   "metadata": {
    "collapsed": false
   },
   "outputs": [],
   "source": [
    "line.marker = 'triangle-down'"
   ]
  },
  {
   "cell_type": "markdown",
   "metadata": {},
   "source": [
    "The `marker` attributes accepts the values `square`, `circle`, `cross`, `diamond`, `square`, `triangle-down`, `triangle-up`, `arrow`, `rectangle`, `ellipse`. Try changing the string above and re-running the cell to see how each `marker` type looks."
   ]
  },
  {
   "cell_type": "markdown",
   "metadata": {
    "collapsed": true
   },
   "source": [
    "## Plotting a Time-Series"
   ]
  },
  {
   "cell_type": "markdown",
   "metadata": {},
   "source": [
    "The `DateScale` allows us to plot time series as a `Lines` plot conveniently with most `date` formats."
   ]
  },
  {
   "cell_type": "code",
   "execution_count": null,
   "metadata": {
    "collapsed": true
   },
   "outputs": [],
   "source": [
    "# Here we define the dates we would like to use\n",
    "dates = date_range(start='01-01-2007', periods=150)"
   ]
  },
  {
   "cell_type": "code",
   "execution_count": null,
   "metadata": {
    "collapsed": false
   },
   "outputs": [],
   "source": [
    "dt_x = DateScale()\n",
    "sc_y = LinearScale()\n",
    "\n",
    "time_series = Lines(x=dates, y=security_1, scales={'x': dt_x, 'y': sc_y})\n",
    "ax_x = Axis(scale=dt_x, label='Date')\n",
    "ax_y = Axis(scale=sc_y, orientation='vertical', label='Security 1')\n",
    "\n",
    "fig = Figure(marks=[time_series], axes=[ax_x, ax_y], title='A Time Series Plot')\n",
    "display(fig) "
   ]
  },
  {
   "cell_type": "markdown",
   "metadata": {},
   "source": [
    "## Plotting Multiples Sets of Data with `Lines`"
   ]
  },
  {
   "cell_type": "markdown",
   "metadata": {},
   "source": [
    "The `Lines` mark allows the user to plot multiple `y`-values for a single `x`-value. This can be done by passing an `ndarray` or a list of the different `y`-values as the y-attribute of the `Lines` as shown below."
   ]
  },
  {
   "cell_type": "code",
   "execution_count": null,
   "metadata": {
    "collapsed": true
   },
   "outputs": [],
   "source": [
    "x_dt = DateScale()\n",
    "y_sc = LinearScale()"
   ]
  },
  {
   "cell_type": "markdown",
   "metadata": {},
   "source": [
    "We pass each data set as an element of a `list`. The colors attribute allows us to pass a specific color for each line."
   ]
  },
  {
   "cell_type": "code",
   "execution_count": null,
   "metadata": {
    "collapsed": false
   },
   "outputs": [],
   "source": [
    "dates_new = date_range(start='06-01-2007', periods=150)"
   ]
  },
  {
   "cell_type": "code",
   "execution_count": null,
   "metadata": {
    "collapsed": true
   },
   "outputs": [],
   "source": [
    "securities = np.cumsum(np.random.randn(150, 10), axis=0)\n",
    "positions = np.random.randint(0, 2, size=10)"
   ]
  },
  {
   "cell_type": "code",
   "execution_count": null,
   "metadata": {
    "collapsed": false
   },
   "outputs": [],
   "source": [
    "# We pass the color scale and the color data to the lines\n",
    "line = Lines(x=dates, y=[security_1, security_2], \n",
    "             scales={'x': x_dt, 'y': y_sc},\n",
    "             labels=['Security 1', 'Security 2'])"
   ]
  },
  {
   "cell_type": "code",
   "execution_count": null,
   "metadata": {
    "collapsed": false
   },
   "outputs": [],
   "source": [
    "ax_x = Axis(scale=x_dt, label='Date')\n",
    "ax_y = Axis(scale=y_sc, orientation='vertical', label='Security 1')\n",
    "\n",
    "fig = Figure(marks=[line], axes=[ax_x, ax_y], legend_location='top-left')\n",
    "display(fig) "
   ]
  },
  {
   "cell_type": "markdown",
   "metadata": {},
   "source": [
    "Similarly, we can also pass multiple `x`-values for multiple sets of `y`-values"
   ]
  },
  {
   "cell_type": "code",
   "execution_count": null,
   "metadata": {
    "collapsed": false
   },
   "outputs": [],
   "source": [
    "line.x, line.y = [dates, dates_new], [security_1, security_2]"
   ]
  },
  {
   "cell_type": "markdown",
   "metadata": {},
   "source": [
    "### Coloring Lines according to data"
   ]
  },
  {
   "cell_type": "markdown",
   "metadata": {},
   "source": [
    "The `color` attribute of a `Lines` mark can also be used to encode one more dimension of data. Suppose we have a portfolio of securities and we would like to color them based on whether we have bought or sold them. We can use the `color` attribute to encode this information."
   ]
  },
  {
   "cell_type": "code",
   "execution_count": null,
   "metadata": {
    "collapsed": false
   },
   "outputs": [],
   "source": [
    "x_dt = DateScale()\n",
    "y_sc = LinearScale()\n",
    "col_sc = ColorScale(colors=['Red', 'Green'])"
   ]
  },
  {
   "cell_type": "code",
   "execution_count": null,
   "metadata": {
    "collapsed": true
   },
   "outputs": [],
   "source": [
    "dates_color = date_range(start='06-01-2007', periods=150)"
   ]
  },
  {
   "cell_type": "code",
   "execution_count": null,
   "metadata": {
    "collapsed": true
   },
   "outputs": [],
   "source": [
    "securities = 100. + np.cumsum(np.random.randn(150, 10), axis=0)\n",
    "positions = np.random.randint(0, 2, size=10)\n",
    "# Here we generate 10 random price series and 10 random positions"
   ]
  },
  {
   "cell_type": "code",
   "execution_count": null,
   "metadata": {
    "collapsed": true
   },
   "outputs": [],
   "source": [
    "# We pass the color scale and the color data to the lines\n",
    "line = Lines(x=dates_color, y=securities.T, \n",
    "             scales={'x': x_dt, 'y': y_sc, 'color': col_sc}, color=positions,\n",
    "             labels=['Security 1', 'Security 2'])"
   ]
  },
  {
   "cell_type": "code",
   "execution_count": null,
   "metadata": {
    "collapsed": false
   },
   "outputs": [],
   "source": [
    "ax_x = Axis(scale=x_dt, label='Date')\n",
    "ax_y = Axis(scale=y_sc, orientation='vertical', label='Security 1')\n",
    "\n",
    "fig = Figure(marks=[line], axes=[ax_x, ax_y], legend_location='top-left')\n",
    "display(fig) "
   ]
  },
  {
   "cell_type": "markdown",
   "metadata": {},
   "source": [
    "We can also reset the colors of the Line to their defaults by setting the `color` attribute to `None`."
   ]
  },
  {
   "cell_type": "code",
   "execution_count": null,
   "metadata": {
    "collapsed": false
   },
   "outputs": [],
   "source": [
    "line.color = None"
   ]
  },
  {
   "cell_type": "markdown",
   "metadata": {},
   "source": [
    "## Patches"
   ]
  },
  {
   "cell_type": "code",
   "execution_count": null,
   "metadata": {
    "collapsed": false
   },
   "outputs": [],
   "source": [
    "sc_x = LinearScale()\n",
    "sc_y = LinearScale()\n",
    "\n",
    "patch = Lines(x=[[0, 2, 1.2], [0.5, 2.5, 1.7], [4,5,6, 6, 5, 4, 3]], \n",
    "              y=[[0, 0, 1], [0.5, 0.5, -0.5], [1, 1.1, 1.2, 2.3, 2.2, 2.7, 1.0]],\n",
    "              fill_colors=['orange', 'blue', 'red'],\n",
    "              fill='inside',\n",
    "              stroke_width=10,\n",
    "              close_path=True,\n",
    "              scales={'x': sc_x, 'y': sc_y},\n",
    "              display_legend=True)\n",
    "\n",
    "fig = Figure(marks=[patch], animation_duration=1000)\n",
    "display(fig) "
   ]
  },
  {
   "cell_type": "code",
   "execution_count": null,
   "metadata": {
    "collapsed": true
   },
   "outputs": [],
   "source": [
    "patch.fill = 'inside'"
   ]
  },
  {
   "cell_type": "code",
   "execution_count": null,
   "metadata": {
    "collapsed": true
   },
   "outputs": [],
   "source": [
    "patch.opacities = [0.1, 0.2]"
   ]
  },
  {
   "cell_type": "code",
   "execution_count": null,
   "metadata": {
    "collapsed": true
   },
   "outputs": [],
   "source": [
    "patch.x = [[2, 3, 3.2], [0.5, 2.5, 1.7], [4,5,6, 6, 5, 4, 3]]"
   ]
  },
  {
   "cell_type": "code",
   "execution_count": null,
   "metadata": {
    "collapsed": false
   },
   "outputs": [],
   "source": [
    "#patch.fill=['', 'blue']\n",
    "patch.close_path = False"
   ]
  }
 ],
 "metadata": {
  "kernelspec": {
   "display_name": "Python 2",
   "language": "python",
   "name": "python2"
  },
  "language_info": {
   "codemirror_mode": {
    "name": "ipython",
    "version": 2
   },
   "file_extension": ".py",
   "mimetype": "text/x-python",
   "name": "python",
   "nbconvert_exporter": "python",
   "pygments_lexer": "ipython2",
   "version": "2.7.11"
  },
  "widgets": {
   "state": {},
   "version": "2.0.0-dev"
  }
 },
 "nbformat": 4,
 "nbformat_minor": 0
}
