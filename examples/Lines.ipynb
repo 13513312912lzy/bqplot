{
 "cells": [
  {
   "cell_type": "markdown",
   "metadata": {},
   "source": [
    "## The `Lines` Mark\n",
    "\n",
    "`Lines` is a `Mark` object that is primarily used to visualize quantitative data. It works particularly well for continuous data, or when the shape of the data needs to be extracted."
   ]
  },
  {
   "cell_type": "markdown",
   "metadata": {},
   "source": [
    "### Introduction\n",
    "\n",
    "The `Lines` object provides the following features:\n",
    "\n",
    "1. Ability to plot a single set or multiple sets of y-values as a function of a set or multiple sets of x-values\n",
    "2. Ability to style the line object in different ways, by setting its:\n",
    "    + `colors` - allows the user to control the color of each line, takes as input a list of any RGB, HEX, or HTML color name\n",
    "    + `opacities` - allows the user to control the opacity of each line, takes as input a real number between 0 and 1\n",
    "    + `stroke_width` - allows the user to control the width of all lines, takes as input a real number\n",
    "    + `line_style` - allows the user to control whether a line is solid, dashed, dotted or both dashed and dotted\n",
    "    + `interpolation` - allows the user to control the type of interpolation between two points\n",
    "3. Ability to specify a marker at each point passed to the line. The marker can be a shape which is at the points between which the line is interpolated and can be set through:\n",
    "    + `marker` - allows the user to control the shape of the marker by choosing from any of the available options\n",
    "    + `marker_size` - allows the user to control the size of the marker, takes as input a non-negative integer"
   ]
  },
  {
   "cell_type": "markdown",
   "metadata": {},
   "source": [
    "To explore more features, run the following lines of code:\n",
    "    \n",
    "```python\n",
    "from bqplot import Lines\n",
    "??Lines\n",
    "```\n",
    "\n",
    "or visit the [`Lines` documentation page](http://bqplot.readthedocs.io/en/stable/_generate/bqplot.marks.Lines.html#bqplot.marks.Lines)"
   ]
  },
  {
   "cell_type": "markdown",
   "metadata": {},
   "source": [
    "**Let's explore these features one by one**"
   ]
  },
  {
   "cell_type": "markdown",
   "metadata": {},
   "source": [
    "We begin by importing the modules that we will need in this example"
   ]
  },
  {
   "cell_type": "code",
   "execution_count": null,
   "metadata": {
    "collapsed": false
   },
   "outputs": [],
   "source": [
    "import numpy as np #For numerical programming and multi-dimensional arrays\n",
    "from pandas import date_range #For date-rate generation\n",
    "from IPython.display import display #The display function allows us to display bqplot figures or general GUIs\n",
    "from bqplot import * #We import the relevant modules from bqplot"
   ]
  },
  {
   "cell_type": "markdown",
   "metadata": {},
   "source": [
    "**Random Data Generation**"
   ]
  },
  {
   "cell_type": "code",
   "execution_count": null,
   "metadata": {
    "collapsed": false
   },
   "outputs": [],
   "source": [
    "security_1 = np.cumsum(np.random.randn(150)) + 100.\n",
    "security_2 = np.cumsum(np.random.randn(150)) + 100."
   ]
  },
  {
   "cell_type": "code",
   "execution_count": null,
   "metadata": {
    "collapsed": true
   },
   "outputs": [],
   "source": [
    "price_data = pd.DataFrame(np.cumsum(np.random.randn(150, 2).dot([[0.5, 0.8], [0.8, 1.0]]), axis=0) + 100,\n",
    "                          columns=['Security 1', 'Security 2'],\n",
    "                          index=pd.date_range(start='01-01-2007', periods=150))"
   ]
  },
  {
   "cell_type": "markdown",
   "metadata": {},
   "source": [
    "## Basic Line Chart"
   ]
  },
  {
   "cell_type": "markdown",
   "metadata": {},
   "source": [
    "Using the `bqplot`, object oriented API, we can generate a Line Chart with the following code snippet:"
   ]
  },
  {
   "cell_type": "code",
   "execution_count": null,
   "metadata": {
    "collapsed": false
   },
   "outputs": [],
   "source": [
    "sc_x = LinearScale()\n",
    "sc_y = LinearScale()\n",
    "\n",
    "line = Lines(x=np.arange(len(security_1)), y=security_1,\n",
    "             scales={'x': sc_x, 'y': sc_y})\n",
    "ax_x = Axis(scale=sc_x, label='Index')\n",
    "ax_y = Axis(scale=sc_y, orientation='vertical', label='y-values of Security 1')\n",
    "\n",
    "fig = Figure(marks=[line], axes=[ax_x, ax_y], title='Security 1')\n",
    "display(fig) "
   ]
  },
  {
   "cell_type": "markdown",
   "metadata": {},
   "source": [
    "The `x` attribute refers to the data represented horizontally, while the `y` attribute refers the data represented vertically. \n",
    "\n",
    "**We can explore the different attributes by changing each of them for the plot above:**"
   ]
  },
  {
   "cell_type": "code",
   "execution_count": null,
   "metadata": {
    "collapsed": false
   },
   "outputs": [],
   "source": [
    "line.colors = ['DarkOrange']"
   ]
  },
  {
   "cell_type": "markdown",
   "metadata": {},
   "source": [
    "In a similar way, we can also change any attribute after the plot has been displayed to change the plot. Run each of the cells below, and try changing the attributes to explore the different features and how they effect the plot."
   ]
  },
  {
   "cell_type": "code",
   "execution_count": null,
   "metadata": {
    "collapsed": true
   },
   "outputs": [],
   "source": [
    "# The opacity allows us to display the Line while featuring other Marks that may be on the Figure\n",
    "line.opacities = [.5]"
   ]
  },
  {
   "cell_type": "code",
   "execution_count": null,
   "metadata": {
    "collapsed": true
   },
   "outputs": [],
   "source": [
    "line.stroke_width = 2.5"
   ]
  },
  {
   "cell_type": "code",
   "execution_count": null,
   "metadata": {
    "collapsed": true
   },
   "outputs": [],
   "source": [
    "line.line_style = 'dashed'"
   ]
  },
  {
   "cell_type": "code",
   "execution_count": null,
   "metadata": {
    "collapsed": true
   },
   "outputs": [],
   "source": [
    "line.interpolation = 'basis'"
   ]
  },
  {
   "cell_type": "markdown",
   "metadata": {},
   "source": [
    "While a `Lines` plot allows the user to extract the general shape of the data being plotted, there may be a need to visualize discrete data points along with this shape. This is where the `markers` attribute comes in."
   ]
  },
  {
   "cell_type": "code",
   "execution_count": null,
   "metadata": {
    "collapsed": false
   },
   "outputs": [],
   "source": [
    "line.marker = 'triangle-down'"
   ]
  },
  {
   "cell_type": "markdown",
   "metadata": {},
   "source": [
    "The `marker` attributes accepts the values `square`, `circle`, `cross`, `diamond`, `square`, `triangle-down`, `triangle-up`, `arrow`, `rectangle`, `ellipse`. Try changing the string above and re-running the cell to see how each `marker` type looks."
   ]
  },
  {
   "cell_type": "markdown",
   "metadata": {
    "collapsed": true
   },
   "source": [
    "## Plotting a Time-Series"
   ]
  },
  {
   "cell_type": "markdown",
   "metadata": {},
   "source": [
    "Most applications typically require the representation of a Time-Series as a `Lines` plot. The `DateScale` allows us to do this conveniently with most used `date` formats."
   ]
  },
  {
   "cell_type": "code",
   "execution_count": null,
   "metadata": {
    "collapsed": true
   },
   "outputs": [],
   "source": [
    "# Here we define the dates we would like to use\n",
    "dates = date_range(start='01-01-2007', periods=150)"
   ]
  },
  {
   "cell_type": "code",
   "execution_count": null,
   "metadata": {
    "collapsed": true
   },
   "outputs": [],
   "source": [
    "dt_x = DateScale()\n",
    "sc_y = LinearScale()\n",
    "\n",
    "line = Lines(x=dates, y=security_1, scales={'x': dt_x, 'y': sc_y})\n",
    "ax_x = Axis(scale=dt_x, label='Date')\n",
    "ax_y = Axis(scale=sc_y, orientation='vertical', label='Security 1')\n",
    "\n",
    "fig = Figure(marks=[line], axes=[ax_x, ax_y], title='A Time Series Plot')\n",
    "display(fig) "
   ]
  },
  {
   "cell_type": "markdown",
   "metadata": {},
   "source": [
    "## Patches"
   ]
  },
  {
   "cell_type": "code",
   "execution_count": null,
   "metadata": {
    "collapsed": false
   },
   "outputs": [],
   "source": [
    "sc_x = LinearScale()\n",
    "sc_y = LinearScale()\n",
    "\n",
    "patch = Lines(x=[[0, 2, 1.2], [0.5, 2.5, 1.7], [4,5,6, 6, 5, 4, 3]], \n",
    "              y=[[0, 0, 1], [0.5, 0.5, -0.5], [1, 1.1, 1.2, 2.3, 2.2, 2.7, 1.0]],\n",
    "              fill_colors=['orange', 'blue', 'red'],\n",
    "              fill='inside',\n",
    "              stroke_width=10,\n",
    "              close_path=True,\n",
    "              scales={'x': sc_x, 'y': sc_y},\n",
    "              display_legend=True)\n",
    "\n",
    "fig = Figure(marks=[patch], animation_duration=1000)\n",
    "display(fig) "
   ]
  },
  {
   "cell_type": "code",
   "execution_count": null,
   "metadata": {
    "collapsed": true
   },
   "outputs": [],
   "source": [
    "patch.opacities = [0.1, 0.2]"
   ]
  },
  {
   "cell_type": "code",
   "execution_count": null,
   "metadata": {
    "collapsed": true
   },
   "outputs": [],
   "source": [
    "patch.x = [[2, 3, 3.2], [0.5, 2.5, 1.7], [4,5,6, 6, 5, 4, 3]]"
   ]
  },
  {
   "cell_type": "code",
   "execution_count": null,
   "metadata": {
    "collapsed": false
   },
   "outputs": [],
   "source": [
    "#patch.fill=['', 'blue']\n",
    "patch.close_path = False"
   ]
  },
  {
   "cell_type": "code",
   "execution_count": null,
   "metadata": {
    "collapsed": false
   },
   "outputs": [],
   "source": []
  },
  {
   "cell_type": "markdown",
   "metadata": {},
   "source": [
    "## Line with single X and multiple Y"
   ]
  },
  {
   "cell_type": "code",
   "execution_count": null,
   "metadata": {
    "collapsed": false
   },
   "outputs": [],
   "source": [
    "dt_x = DateScale()\n",
    "sc_y = LinearScale()\n",
    "\n",
    "line = Lines(x=price_data.index.values, y=[price_data['Security 1'].values, price_data['Security 2'].values], \n",
    "             scales={'x': dt_x, 'y': sc_y},\n",
    "             labels=['Security 1', 'Security 2'], display_legend=True, colors=['blue', 'orangered'])\n",
    "ax_x = Axis(scale=dt_x, label='Date')\n",
    "ax_y = Axis(scale=sc_y, orientation='vertical', label='Security 1')\n",
    "\n",
    "fig = Figure(marks=[line], axes=[ax_x, ax_y], legend_location='top-left')\n",
    "display(fig) "
   ]
  },
  {
   "cell_type": "markdown",
   "metadata": {},
   "source": [
    "## Line with multiple X and multiple Y"
   ]
  },
  {
   "cell_type": "code",
   "execution_count": null,
   "metadata": {
    "collapsed": false
   },
   "outputs": [],
   "source": [
    "sc_x = LinearScale()\n",
    "sc_y = LinearScale()\n",
    "\n",
    "data_len = len(price_data['Security 1'].values)\n",
    "line = Lines(x=[np.arange(data_len).tolist(), np.arange(30, data_len).tolist()], \n",
    "             y=[price_data['Security 1'].values, price_data['Security 2'].values], \n",
    "             scales={'x': sc_x, 'y': sc_y},\n",
    "             labels=['Security 1', 'Security 2'], display_legend=True, colors=['blue', 'orangered'])\n",
    "ax_x = Axis(scale=sc_x, label='index')\n",
    "ax_y = Axis(scale=sc_y, orientation='vertical', label='Security 1')\n",
    "\n",
    "fig = Figure(marks=[line], axes=[ax_x, ax_y], legend_location='top-left')\n",
    "display(fig) "
   ]
  },
  {
   "cell_type": "markdown",
   "metadata": {},
   "source": [
    "## Multiple lines with color representing data"
   ]
  },
  {
   "cell_type": "code",
   "execution_count": null,
   "metadata": {
    "collapsed": false
   },
   "outputs": [],
   "source": [
    "sc_x = LinearScale()\n",
    "sc_y = LinearScale()\n",
    "col_sc = ColorScale()\n",
    "\n",
    "data_len = len(price_data['Security 1'].values)\n",
    "line = Lines(x=[np.arange(data_len).tolist(), np.arange(30, data_len).tolist()], \n",
    "             y=[price_data['Security 1'].values, price_data['Security 2'].values], \n",
    "             scales={'x': sc_x, 'y': sc_y, 'color': col_sc},\n",
    "             labels=['Security 1', 'Security 2'], display_legend=True, colors=['blue', 'orangered'],\n",
    "             color=[-1.0, 1.0])\n",
    "ax_x = Axis(scale=sc_x, label='index')\n",
    "ax_y = Axis(scale=sc_y, orientation='vertical', label='Security 1')\n",
    "\n",
    "fig = Figure(marks=[line], axes=[ax_x, ax_y], legend_location='top-left')\n",
    "display(fig) "
   ]
  },
  {
   "cell_type": "code",
   "execution_count": null,
   "metadata": {
    "collapsed": false
   },
   "outputs": [],
   "source": [
    "# resetting the color to None\n",
    "line.color = None"
   ]
  },
  {
   "cell_type": "markdown",
   "metadata": {
    "collapsed": true
   },
   "source": [
    "## Styling line chart"
   ]
  },
  {
   "cell_type": "code",
   "execution_count": null,
   "metadata": {
    "collapsed": true
   },
   "outputs": [],
   "source": [
    "# Drawing a dashed line\n",
    "dt_x = LinearScale()\n",
    "sc_y = LinearScale()\n",
    "\n",
    "line = Lines(x=[np.arange(data_len).tolist()], \n",
    "             y=price_data['Security 1'].values, scales={'x': dt_x, 'y': sc_y},\n",
    "             line_style='dashed', apply_clip=False, labels=['Brownian'])\n",
    "ax_x = Axis(scale=dt_x, label='index')\n",
    "ax_y = Axis(scale=sc_y, orientation='vertical', label='SPX Price')\n",
    "\n",
    "fig = Figure(marks=[line], axes=[ax_x, ax_y])\n",
    "display(fig) "
   ]
  },
  {
   "cell_type": "code",
   "execution_count": null,
   "metadata": {
    "collapsed": true
   },
   "outputs": [],
   "source": [
    "# making it dotted\n",
    "line.line_style = 'dotted'"
   ]
  },
  {
   "cell_type": "code",
   "execution_count": null,
   "metadata": {
    "collapsed": true
   },
   "outputs": [],
   "source": [
    "# increasing the width\n",
    "line.line_style = 'solid'\n",
    "line.stroke_width = 3"
   ]
  },
  {
   "cell_type": "code",
   "execution_count": null,
   "metadata": {
    "collapsed": false
   },
   "outputs": [],
   "source": [
    "# Filling the area\n",
    "line.fill = 'bottom'\n",
    "line.fill_opacities = [0.4]"
   ]
  },
  {
   "cell_type": "code",
   "execution_count": null,
   "metadata": {
    "collapsed": true
   },
   "outputs": [],
   "source": [
    "# Displaying label at the end of the line.\n",
    "# For this to be displayed, apply_clip of the line has to be False\n",
    "line.labels_visibility = 'label'"
   ]
  }
 ],
 "metadata": {
  "kernelspec": {
   "display_name": "Python 2",
   "language": "python",
   "name": "python2"
  },
  "language_info": {
   "codemirror_mode": {
    "name": "ipython",
    "version": 2
   },
   "file_extension": ".py",
   "mimetype": "text/x-python",
   "name": "python",
   "nbconvert_exporter": "python",
   "pygments_lexer": "ipython2",
   "version": "2.7.10"
  }
 },
 "nbformat": 4,
 "nbformat_minor": 0
}
