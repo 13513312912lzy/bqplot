{
 "cells": [
  {
   "cell_type": "code",
   "execution_count": 133,
   "metadata": {
    "collapsed": true
   },
   "outputs": [],
   "source": [
    "from bqplot import *\n",
    "from IPython.display import display"
   ]
  },
  {
   "cell_type": "code",
   "execution_count": 134,
   "metadata": {
    "collapsed": false
   },
   "outputs": [],
   "source": [
    "xs = LinearScale()\n",
    "ys = LinearScale()\n",
    "\n",
    "line = MarkerLines(x=np.arange(10), y=np.cumsum(np.random.randn(3, 10), axis=1), \n",
    "                   scales={'x': xs, 'y': ys}, marker='square', display_legend=True)\n",
    "\n",
    "xax = Axis(scale=xs, label='X', grid_lines='solid')\n",
    "yax = Axis(scale=ys, orientation='vertical', label='Y', grid_lines='solid')\n",
    "\n",
    "fig = Figure(marks=[line], axes=[xax, yax], title='Marker Line')\n",
    "display(fig) "
   ]
  },
  {
   "cell_type": "code",
   "execution_count": 85,
   "metadata": {
    "collapsed": true
   },
   "outputs": [],
   "source": [
    "with line.hold_sync():\n",
    "    line.x = np.arange(30)\n",
    "    line.y = np.cumsum(np.random.randn(30))"
   ]
  },
  {
   "cell_type": "code",
   "execution_count": 76,
   "metadata": {
    "collapsed": true
   },
   "outputs": [],
   "source": [
    "line.marker='diamond'"
   ]
  },
  {
   "cell_type": "code",
   "execution_count": 77,
   "metadata": {
    "collapsed": true
   },
   "outputs": [],
   "source": [
    "line.line_style = 'dashed'"
   ]
  },
  {
   "cell_type": "code",
   "execution_count": 140,
   "metadata": {
    "collapsed": true
   },
   "outputs": [],
   "source": [
    "line.marker_size = 6"
   ]
  },
  {
   "cell_type": "code",
   "execution_count": null,
   "metadata": {
    "collapsed": true
   },
   "outputs": [],
   "source": []
  }
 ],
 "metadata": {
  "kernelspec": {
   "display_name": "Python 2",
   "language": "python",
   "name": "python2"
  },
  "language_info": {
   "codemirror_mode": {
    "name": "ipython",
    "version": 2
   },
   "file_extension": ".py",
   "mimetype": "text/x-python",
   "name": "python",
   "nbconvert_exporter": "python",
   "pygments_lexer": "ipython2",
   "version": "2.7.10"
  }
 },
 "nbformat": 4,
 "nbformat_minor": 0
}
