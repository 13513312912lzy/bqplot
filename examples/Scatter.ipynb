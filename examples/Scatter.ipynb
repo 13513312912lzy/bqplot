{
 "cells": [
  {
   "cell_type": "code",
   "execution_count": null,
   "metadata": {
    "collapsed": false,
    "input_collapsed": false
   },
   "outputs": [],
   "source": [
    "from __future__ import print_function\n",
    "import numpy as np\n",
    "import pandas as pd\n",
    "from IPython.display import display\n",
    "from bqplot import *"
   ]
  },
  {
   "cell_type": "markdown",
   "metadata": {},
   "source": [
    "## Get Data"
   ]
  },
  {
   "cell_type": "code",
   "execution_count": null,
   "metadata": {
    "collapsed": false
   },
   "outputs": [],
   "source": [
    "price_data = pd.DataFrame(np.cumsum(np.random.randn(150, 2).dot([[1.0, -0.8], [-0.8, 1.0]]), axis=0) + 100,\n",
    "                          columns=['Security 1', 'Security 2'], index=pd.date_range(start='01-01-2007', periods=150))\n",
    "size = 100\n",
    "np.random.seed(0)\n",
    "x_data = range(size)\n",
    "y_data = np.cumsum(np.random.randn(size) * 100.0)\n",
    "ord_keys = np.array(['A', 'B', 'C', 'D', 'E', 'F'])\n",
    "ordinal_data = np.random.randint(5, size=size)"
   ]
  },
  {
   "cell_type": "code",
   "execution_count": null,
   "metadata": {
    "collapsed": false,
    "input_collapsed": false
   },
   "outputs": [],
   "source": [
    "symbols = ['Security 1', 'Security 2']\n",
    "\n",
    "dates_all = price_data.index.values\n",
    "dates_all_t = dates_all[1:]\n",
    "sec1_levels = np.array(price_data[symbols[0]].values.flatten())\n",
    "log_sec1 = np.log(sec1_levels)\n",
    "sec1_returns = log_sec1[1:] - log_sec1[:-1]\n",
    "\n",
    "sec2_levels = np.array(price_data[symbols[1]].values.flatten())"
   ]
  },
  {
   "cell_type": "markdown",
   "metadata": {},
   "source": [
    "# Basic Scatter"
   ]
  },
  {
   "cell_type": "code",
   "execution_count": null,
   "metadata": {
    "collapsed": false
   },
   "outputs": [],
   "source": [
    "sc_x = DateScale()\n",
    "sc_y = LinearScale()\n",
    "\n",
    "scatt = Scatter(x=dates_all, y=sec2_levels, scales={'x': sc_x, 'y': sc_y}, default_colors=['dodgerblue'])\n",
    "ax_x = Axis(scale=sc_x, label='Date')\n",
    "ax_y = Axis(scale=sc_y, orientation='vertical', tick_format='0.2f', label='Security 2')\n",
    "\n",
    "fig = Figure(marks=[scatt], axes=[ax_x, ax_y])\n",
    "display(fig)"
   ]
  },
  {
   "cell_type": "markdown",
   "metadata": {},
   "source": [
    "## Changing the marker and adding text to each point of the scatter"
   ]
  },
  {
   "cell_type": "code",
   "execution_count": null,
   "metadata": {
    "collapsed": false
   },
   "outputs": [],
   "source": [
    "# Changing the marker as \n",
    "sc_x = LinearScale()\n",
    "sc_y = LinearScale()\n",
    "\n",
    "scatt = Scatter(x=x_data[:10], y=y_data[:10], names=np.arange(10),\n",
    "                scales={'x': sc_x, 'y': sc_y}, default_colors=['red'], marker='cross')\n",
    "ax_x = Axis(scale=sc_x)\n",
    "ax_y = Axis(scale=sc_y, orientation='vertical', tick_format='0.2f')\n",
    "\n",
    "fig = Figure(marks=[scatt], axes=[ax_x, ax_y], padding_x=0.025)\n",
    "display(fig)"
   ]
  },
  {
   "cell_type": "markdown",
   "metadata": {},
   "source": [
    "## Changing the opacity of each marker"
   ]
  },
  {
   "cell_type": "code",
   "execution_count": null,
   "metadata": {
    "collapsed": true
   },
   "outputs": [],
   "source": [
    "scatt.default_opacities = [0.3, 0.5, 1.]"
   ]
  },
  {
   "cell_type": "markdown",
   "metadata": {},
   "source": [
    "# Representing additional dimensions of data"
   ]
  },
  {
   "cell_type": "markdown",
   "metadata": {
    "input_collapsed": false
   },
   "source": [
    "## Linear Scale for Color Data"
   ]
  },
  {
   "cell_type": "code",
   "execution_count": null,
   "metadata": {
    "collapsed": false,
    "input_collapsed": false
   },
   "outputs": [],
   "source": [
    "sc_x = DateScale()\n",
    "sc_y = LinearScale()\n",
    "\n",
    "sc_c1 = ColorScale()\n",
    "scatter = Scatter(x=dates_all, y=sec2_levels, color=sec1_returns,\n",
    "                  scales={'x': sc_x, 'y': sc_y, 'color': sc_c1}, \n",
    "                  stroke='black')\n",
    "\n",
    "ax_y = Axis(label='Security 2', scale=sc_y, \n",
    "            orientation='vertical', side='left')\n",
    "\n",
    "ax_x = Axis(label='Date', scale=sc_x, num_ticks=10, label_location='end')\n",
    "ax_c = ColorAxis(scale=sc_c1, tick_format='0.2%', label='Returns', orientation='vertical', side='right')\n",
    "\n",
    "m_chart = dict(top=50, bottom=70, left=50, right=100)\n",
    "fig = Figure(axes=[ax_x, ax_c, ax_y], marks=[scatter], fig_margin=m_chart, title='Scatter of Security 2 vs Dates')\n",
    "display(fig)"
   ]
  },
  {
   "cell_type": "code",
   "execution_count": null,
   "metadata": {
    "collapsed": false
   },
   "outputs": [],
   "source": [
    "## Changing the default color. \n",
    "scatter.default_colors = ['blue']  # In this case, the dot with the highest X changes to blue."
   ]
  },
  {
   "cell_type": "code",
   "execution_count": null,
   "metadata": {
    "collapsed": false
   },
   "outputs": [],
   "source": [
    "## setting the fill to be empty\n",
    "scatter.stroke = None\n",
    "scatter.fill = False"
   ]
  },
  {
   "cell_type": "code",
   "execution_count": null,
   "metadata": {
    "collapsed": false
   },
   "outputs": [],
   "source": [
    "## Setting the fill back\n",
    "scatter.stroke = 'black'\n",
    "scatter.fill = True"
   ]
  },
  {
   "cell_type": "code",
   "execution_count": null,
   "metadata": {
    "collapsed": false
   },
   "outputs": [],
   "source": [
    "## Changing the color to a different variable\n",
    "scatter.color = sec2_levels\n",
    "ax_c.tick_format = '0.0f'\n",
    "ax_c.label = 'Security 2'"
   ]
  },
  {
   "cell_type": "code",
   "execution_count": null,
   "metadata": {
    "collapsed": true
   },
   "outputs": [],
   "source": [
    "## Changing the range of the color scale\n",
    "sc_c1.colors = ['blue', 'green', 'orange']"
   ]
  },
  {
   "cell_type": "markdown",
   "metadata": {},
   "source": [
    "## Date Scale for Color Data"
   ]
  },
  {
   "cell_type": "code",
   "execution_count": null,
   "metadata": {
    "collapsed": false
   },
   "outputs": [],
   "source": [
    "sc_x = LinearScale()\n",
    "sc_y = LinearScale()\n",
    "\n",
    "sc_c1 = DateColorScale(scheme='Reds')\n",
    "scatter = Scatter(x=sec2_levels, y=sec1_levels, color=dates_all,\n",
    "                  scales={'x': sc_x, 'y': sc_y, 'color': sc_c1}, default_size=128,\n",
    "                  stroke='black')\n",
    "\n",
    "ax_y = Axis(label='Security 1 Level', scale=sc_y, orientation='vertical', side='left')\n",
    "\n",
    "ax_x = Axis(label='Security 2', scale=sc_x)\n",
    "ax_c = ColorAxis(scale=sc_c1, label='Date', num_ticks=10)\n",
    "\n",
    "m_chart = dict(top=50, bottom=80, left=50, right=50)\n",
    "fig = Figure(axes=[ax_x, ax_c, ax_y], marks=[scatter], fig_margin=m_chart)\n",
    "display(fig)"
   ]
  },
  {
   "cell_type": "markdown",
   "metadata": {
    "input_collapsed": false
   },
   "source": [
    "## Ordinal Scale for Color"
   ]
  },
  {
   "cell_type": "code",
   "execution_count": null,
   "metadata": {
    "collapsed": false,
    "input_collapsed": false
   },
   "outputs": [],
   "source": [
    "factor = np.ceil(len(sec2_levels) * 1.0 / len(ordinal_data))\n",
    "ordinal_data = np.tile(ordinal_data, factor)\n",
    "\n",
    "c_ord = OrdinalColorScale(colors=['DodgerBlue', 'SeaGreen', 'Yellow', 'HotPink', 'OrangeRed'])\n",
    "sc_x = LinearScale()\n",
    "sc_y = LinearScale()\n",
    "\n",
    "scatter2 = Scatter(x=sec2_levels[1:],\n",
    "                   y=sec1_returns,\n",
    "                   color=ordinal_data,\n",
    "                   scales={'x': sc_x, 'y': sc_y, 'color': c_ord}, \n",
    "                   legend='__no_legend__',\n",
    "                   stroke='black')\n",
    "\n",
    "ax_y = Axis(label='Security 1 Returns', scale=sc_y, orientation='vertical', tick_format='.2%')\n",
    "\n",
    "ax_x = Axis(label='Security 2', scale=sc_x, label_location='end')\n",
    "ax_c = ColorAxis(scale=c_ord, label='Class', side='right', orientation='vertical')\n",
    "\n",
    "m_chart = dict(top=50, bottom=70, left=100, right=100)\n",
    "fig2 = Figure(axes=[ax_x, ax_y, ax_c], marks=[scatter2], fig_margin=m_chart)\n",
    "display(fig2)"
   ]
  },
  {
   "cell_type": "code",
   "execution_count": null,
   "metadata": {
    "collapsed": false
   },
   "outputs": [],
   "source": [
    "ax_c.tick_format = \"0.2f\"\n",
    "c_ord.colors = ['blue', 'red', 'green', 'yellow', 'orange']"
   ]
  },
  {
   "cell_type": "markdown",
   "metadata": {
    "input_collapsed": false
   },
   "source": [
    "## Setting size and opacity based on data"
   ]
  },
  {
   "cell_type": "code",
   "execution_count": null,
   "metadata": {
    "collapsed": false,
    "input_collapsed": false
   },
   "outputs": [],
   "source": [
    "from bqplot.interacts import BrushSelector\n",
    "\n",
    "sc_x = LinearScale()\n",
    "sc_y = LinearScale()\n",
    "sc_y2 = LinearScale()\n",
    "\n",
    "sc_size = LinearScale()\n",
    "sc_opacity = LinearScale()\n",
    "\n",
    "\n",
    "scatter2 = Scatter(x=sec2_levels[1:], y=sec1_levels, size=sec1_returns,\n",
    "                   scales={'x': sc_x, 'y': sc_y, 'size': sc_size, 'opacity': sc_opacity}, \n",
    "                   default_size=128, default_colors=['orangered'], stroke='black')\n",
    "\n",
    "ax_y = Axis(label='Security 1', scale=sc_y, orientation='vertical', side='left')\n",
    "ax_x = Axis(label='Security 2', scale=sc_x)\n",
    "\n",
    "fig2 = Figure(axes=[ax_x, ax_y], marks=[scatter2])\n",
    "display(fig2)"
   ]
  },
  {
   "cell_type": "code",
   "execution_count": null,
   "metadata": {
    "collapsed": false
   },
   "outputs": [],
   "source": [
    "## Changing the opacity of the scatter\n",
    "scatter2.default_opacities = [0.5, 0.3, 0.1]"
   ]
  },
  {
   "cell_type": "code",
   "execution_count": null,
   "metadata": {
    "collapsed": false
   },
   "outputs": [],
   "source": [
    "## Resetting the size for the scatter\n",
    "scatter2.size=None"
   ]
  },
  {
   "cell_type": "code",
   "execution_count": null,
   "metadata": {
    "collapsed": true
   },
   "outputs": [],
   "source": [
    "## Resetting the opacity and setting the opacity according to the date\n",
    "scatter2.default_opacities = [1.0]"
   ]
  },
  {
   "cell_type": "code",
   "execution_count": null,
   "metadata": {
    "collapsed": true
   },
   "outputs": [],
   "source": [
    "scatter2.opacity = dates_all"
   ]
  },
  {
   "cell_type": "markdown",
   "metadata": {},
   "source": [
    "## Changing the skew of the marker"
   ]
  },
  {
   "cell_type": "code",
   "execution_count": null,
   "metadata": {
    "collapsed": false
   },
   "outputs": [],
   "source": [
    "sc_x = LinearScale()\n",
    "sc_y = LinearScale()\n",
    "sc_e = LinearScale()\n",
    "\n",
    "scatter = Scatter(scales={'x': sc_x, 'y': sc_y, 'skew': sc_e}, \n",
    "                  x=sec2_levels[1:], y=sec1_levels,\n",
    "                  skew=sec1_returns, stroke=\"black\",\n",
    "                  default_colors=['gold'], default_size=200, \n",
    "                  marker='rectangle', default_skew=0)\n",
    "\n",
    "ax_y = Axis(label='Security 1', scale=sc_y, orientation='vertical', side='left')\n",
    "ax_x = Axis(label='Security 2', scale=sc_x)\n",
    "\n",
    "Figure(axes=[ax_x, ax_y], marks=[scatter], animation_duration=1000)"
   ]
  },
  {
   "cell_type": "code",
   "execution_count": null,
   "metadata": {
    "collapsed": true
   },
   "outputs": [],
   "source": [
    "scatter.skew = None"
   ]
  },
  {
   "cell_type": "code",
   "execution_count": null,
   "metadata": {
    "collapsed": true
   },
   "outputs": [],
   "source": [
    "scatter.skew = sec1_returns"
   ]
  },
  {
   "cell_type": "markdown",
   "metadata": {},
   "source": [
    "## Rotation scale"
   ]
  },
  {
   "cell_type": "code",
   "execution_count": null,
   "metadata": {
    "collapsed": false
   },
   "outputs": [],
   "source": [
    "sc_x = LinearScale()\n",
    "sc_y = LinearScale()\n",
    "sc_e = LinearScale()\n",
    "sc_c = ColorScale(scheme='Reds')\n",
    "x1 = np.linspace(-1, 1, 30)\n",
    "y1 = np.linspace(-1, 1, 30)\n",
    "x, y = np.meshgrid(x1,y1)\n",
    "x, y = x.flatten(), y.flatten()\n",
    "rot = x**2 + y**2\n",
    "color=x-y\n",
    "scatter = Scatter(scales={'x': sc_x, 'y': sc_y, 'color': sc_c, 'rotation': sc_e}, \n",
    "                  x=x, y=y, rotation=rot, color=color,\n",
    "                  stroke=\"black\", default_size=200, \n",
    "                  marker='arrow', default_skew=0.5,)\n",
    "Figure(marks=[scatter], animation_duration=1000)"
   ]
  },
  {
   "cell_type": "code",
   "execution_count": null,
   "metadata": {
    "collapsed": true
   },
   "outputs": [],
   "source": [
    "scatter.rotation = 1.0 / (x ** 2 + y ** 2 + 1)"
   ]
  },
  {
   "cell_type": "markdown",
   "metadata": {},
   "source": [
    "# Scatter Chart Interactions"
   ]
  },
  {
   "cell_type": "markdown",
   "metadata": {},
   "source": [
    "## Moving points in Scatter"
   ]
  },
  {
   "cell_type": "code",
   "execution_count": null,
   "metadata": {
    "collapsed": false
   },
   "outputs": [],
   "source": [
    "## Enabling moving of points in scatter. Try to click and drag any of the points in the scatter and \n",
    "## notice the line representing the mean of the data update\n",
    "sc_x = LinearScale()\n",
    "sc_y = LinearScale()\n",
    "\n",
    "scat = Scatter(x=x_data[:10], y=y_data[:10], scales={'x': sc_x, 'y': sc_y}, default_colors=['orange'],\n",
    "               enable_move=True)\n",
    "lin = Lines(scales={'x': sc_x, 'y': sc_y}, line_style='dotted', colors=['orange'])\n",
    "\n",
    "def update_line(change=None):\n",
    "    with lin.hold_sync():\n",
    "        lin.x = [np.min(scat.x), np.max(scat.x)]\n",
    "        lin.y = [np.mean(scat.y), np.mean(scat.y)]\n",
    "\n",
    "update_line()\n",
    "# update line on change of x or y of scatter\n",
    "scat.observe(update_line, names=['x'])\n",
    "scat.observe(update_line, names=['y'])\n",
    "\n",
    "ax_x = Axis(scale=sc_x)\n",
    "ax_y = Axis(scale=sc_y, tick_format='0.2f', orientation='vertical')\n",
    "\n",
    "fig = Figure(marks=[scat, lin], axes=[ax_x, ax_y])\n",
    "display(fig)"
   ]
  },
  {
   "cell_type": "code",
   "execution_count": null,
   "metadata": {
    "collapsed": true
   },
   "outputs": [],
   "source": [
    "## Restricting movement to only along the Y-axis\n",
    "scat.restrict_y = True"
   ]
  },
  {
   "cell_type": "markdown",
   "metadata": {},
   "source": [
    "## Adding points to Scatter"
   ]
  },
  {
   "cell_type": "code",
   "execution_count": null,
   "metadata": {
    "collapsed": true
   },
   "outputs": [],
   "source": [
    "## Enabling adding the points to Scatter. Try clicking anywhere on the scatter to add points\n",
    "with scat.hold_sync():\n",
    "    scat.enable_move = False\n",
    "    scat.interactions = {'click': 'add'}"
   ]
  },
  {
   "cell_type": "markdown",
   "metadata": {},
   "source": [
    "## Updating X and Y while moving the point"
   ]
  },
  {
   "cell_type": "code",
   "execution_count": null,
   "metadata": {
    "collapsed": true
   },
   "outputs": [],
   "source": [
    "## In this case on drag, the line updates as you move the points.\n",
    "with scat.hold_sync():\n",
    "    scat.enable_move = True\n",
    "    scat.update_on_move = True\n",
    "    scat.interactions = {'click': None}"
   ]
  },
  {
   "cell_type": "markdown",
   "metadata": {},
   "source": [
    "## Custom event on end of drag"
   ]
  },
  {
   "cell_type": "code",
   "execution_count": null,
   "metadata": {
    "collapsed": false
   },
   "outputs": [],
   "source": [
    "## Whenever drag is ended, there is a custom event dispatched which can be listened to.\n",
    "## try dragging a point and see the data associated with the event being printed\n",
    "def test_func(self, content):\n",
    "    print(\"received drag end\", content)\n",
    "\n",
    "scat.on_drag_end(test_func)"
   ]
  },
  {
   "cell_type": "markdown",
   "metadata": {
    "collapsed": true
   },
   "source": [
    "## Adding tooltip"
   ]
  },
  {
   "cell_type": "code",
   "execution_count": null,
   "metadata": {
    "collapsed": false
   },
   "outputs": [],
   "source": [
    "x_sc = LinearScale()\n",
    "y_sc = LinearScale()\n",
    "\n",
    "x_data = x_data[:50]\n",
    "y_data = y_data[:50]\n",
    "\n",
    "def_tt = Tooltip(fields=['x', 'y'], formats=['', '.2f'])\n",
    "\n",
    "scatter_chart = Scatter(x=x_data, y=y_data, scales= {'x': x_sc, 'y': y_sc}, default_colors=['dodgerblue'],\n",
    "                        tooltip=def_tt)\n",
    "ax_x = Axis(scale=x_sc)\n",
    "ax_y = Axis(scale=y_sc, orientation='vertical', tick_format='0.2f')\n",
    "\n",
    "fig = Figure(marks=[scatter_chart], axes=[ax_x, ax_y])\n",
    "display(fig)"
   ]
  },
  {
   "cell_type": "code",
   "execution_count": null,
   "metadata": {
    "collapsed": true
   },
   "outputs": [],
   "source": [
    "## removing field names from the tooltip\n",
    "def_tt.show_names = False"
   ]
  },
  {
   "cell_type": "code",
   "execution_count": null,
   "metadata": {
    "collapsed": true
   },
   "outputs": [],
   "source": [
    "## changing the fields displayed in the tooltip\n",
    "def_tt.fields = ['y']"
   ]
  }
 ],
 "metadata": {
  "kernelspec": {
   "display_name": "Python 2",
   "language": "python",
   "name": "python2"
  },
  "language_info": {
   "codemirror_mode": {
    "name": "ipython",
    "version": 2
   },
   "file_extension": ".py",
   "mimetype": "text/x-python",
   "name": "python",
   "nbconvert_exporter": "python",
   "pygments_lexer": "ipython2",
   "version": "2.7.11"
  },
  "widgets": {
   "state": {
    "003d9b5ec9a644c3b8d58f49b6100060": {
     "views": []
    },
    "02c96a8d8eee4bcb91bf11aecea988b6": {
     "views": [
      {
       "cell_index": 30
      }
     ]
    },
    "03ac7db6113b4747a15c4c748ac00c91": {
     "views": []
    },
    "0abf873c023948ac8629d78c15b4cdc1": {
     "views": []
    },
    "0ce3b0950cd74d4a9a2c22f18b8e35f3": {
     "views": [
      {
       "cell_index": 12
      }
     ]
    },
    "14936419b1954385bd972bc44e74170d": {
     "views": []
    },
    "192a7dd037b04b3cb915d06f8a5f521b": {
     "views": []
    },
    "19f72420eea44f1a87c1944410b5f5a5": {
     "views": []
    },
    "1bbfa4768b6f41eaa4a5c6b7cd9d7ec2": {
     "views": []
    },
    "1d7ab24d5ff844528135ca3cf137aa00": {
     "views": []
    },
    "203964e614c147298d040ff149a7b96d": {
     "views": []
    },
    "214707ad855346c8bcab880fd1c06464": {
     "views": []
    },
    "257ef13cc53143c68132db3df995381d": {
     "views": []
    },
    "280c18d5457d41e3a5ef31c9d16af660": {
     "views": []
    },
    "298d852af8844a35a308440b30e4f043": {
     "views": []
    },
    "304d90227fc94e7d93e49c76112c565b": {
     "views": []
    },
    "37776ad6ac5743d2b5cd239defcacf0f": {
     "views": []
    },
    "3d1c79ce5e224167a4ca5237a223b3d8": {
     "views": []
    },
    "40d907cd541c46eb97211490bae598fe": {
     "views": []
    },
    "4131698e9ac148ad8043bebc3ac6bbe1": {
     "views": []
    },
    "4426515042b64e24bd7aa9b04fb1d081": {
     "views": []
    },
    "473287e5cbbb45ebaaa409ac129db569": {
     "views": []
    },
    "474d7f4d21b84aef8492f330ebc0ffe3": {
     "views": []
    },
    "4adda665e44940db9ddcd0b452fde753": {
     "views": []
    },
    "4ea9e9487ceb44fe93c901aecf7e053e": {
     "views": []
    },
    "4ed77a0b54274801a7a3074298b6eb52": {
     "views": []
    },
    "4f49ff114e51492ba2087ed5bb56f8cb": {
     "views": []
    },
    "53784c8823f2471e9e69360c923b0684": {
     "views": []
    },
    "54478a12849b43f0a0f116e83e0f2f33": {
     "views": []
    },
    "56fa8a135df84446acf8765b741ce786": {
     "views": []
    },
    "5b001c3b339e440ab01ad387391cf638": {
     "views": []
    },
    "5dad5287fbdd48899b9145786ba8908f": {
     "views": []
    },
    "5e9a00987203443a80f641dbe37dcd3e": {
     "views": []
    },
    "5f2178e179c04da9accc0c58e728e0d6": {
     "views": []
    },
    "6101562ded904be0a485021244416e8e": {
     "views": []
    },
    "63c3810655d74e4c89efdbf28a1156f5": {
     "views": [
      {
       "cell_index": 34
      }
     ]
    },
    "65775c873e6b43aa8c507e99c24cdd61": {
     "views": []
    },
    "661c55b3d3674e1d855b9c701a1b2f76": {
     "views": []
    },
    "66da3c13b21d478fabef9b9ec128a3f4": {
     "views": []
    },
    "66dd351b498542b3bbd0ba59dbf01be7": {
     "views": []
    },
    "67930e8179ff4e109748900978ac0255": {
     "views": []
    },
    "68b9de19dfc34470b271e625a6a42b0a": {
     "views": []
    },
    "68e32ecada484fa3b0bfde796bd2e43b": {
     "views": []
    },
    "6956b91b316b4c8ea582a0b54de7e6e5": {
     "views": []
    },
    "6c6cc4c656a24a05924c38820c00b463": {
     "views": []
    },
    "6d50a0b2276c409bac89cda38f66d8b5": {
     "views": []
    },
    "70874f5b2f264bb1b68f696967585bae": {
     "views": []
    },
    "725654140aa448d08d4a0a3010959ff8": {
     "views": []
    },
    "7387a9697dd349a4a5d7b1f47fd65d62": {
     "views": []
    },
    "79911c8eb53b4fbdb268510e861a09a7": {
     "views": []
    },
    "7bd5d395669e435fad444c7791505b7f": {
     "views": []
    },
    "7c87ee0b6b514605a2c802c0153eb0b3": {
     "views": [
      {
       "cell_index": 21
      }
     ]
    },
    "7e425bb3ea7a4adfbdfec9a780dcd3bc": {
     "views": []
    },
    "7f16fcaa35b84ae1b200ad4cf3884f1b": {
     "views": []
    },
    "7f5dde4390444c069069bd05acf7aa23": {
     "views": []
    },
    "804f75af18b742db8b8fe683892e2f28": {
     "views": []
    },
    "82b6e1bf191c40899629b14d8928b1b3": {
     "views": []
    },
    "83a91da2dc65423ea4455f8969689788": {
     "views": []
    },
    "850d9b0b83e441738a5019236e94a8a9": {
     "views": []
    },
    "87f181a1962a4055a77ab0bb44baeb7b": {
     "views": []
    },
    "8c6d882349da4df89542089e9e9ec819": {
     "views": [
      {
       "cell_index": 5
      }
     ]
    },
    "917912a780cc47819a46f60695aac439": {
     "views": [
      {
       "cell_index": 19
      }
     ]
    },
    "91f607d1dedd4b69a1b0a69cbdcc9981": {
     "views": []
    },
    "9380fd90364344579894f018a2ae00b9": {
     "views": []
    },
    "9adfac7526c449278b12019d27edb901": {
     "views": []
    },
    "a4b03093b662483bab510c880ec2b746": {
     "views": []
    },
    "a9df60aab1324053a53b5b3e9a061980": {
     "views": []
    },
    "ac015487bdab464892813c15f7a6bf61": {
     "views": []
    },
    "afe46a20e82c4a0d9c7cce075c2de878": {
     "views": []
    },
    "b7275c92db7042529496bb7dc7ad1bce": {
     "views": []
    },
    "b8727666ebce4f21baf9e7280684c626": {
     "views": []
    },
    "bc5d5e6ba7ae41568f8542d94c0ff681": {
     "views": []
    },
    "bd0d658abc3545718d1320051d11e67b": {
     "views": [
      {
       "cell_index": 7
      }
     ]
    },
    "c1e2e6b8f9504713a562680883248747": {
     "views": []
    },
    "c3edc82a510348398163c34e6fc181a2": {
     "views": []
    },
    "c555234c92f540fcb7f69006466fa807": {
     "views": []
    },
    "c6e6509faa474dc3b91a95395c77b40e": {
     "views": [
      {
       "cell_index": 38
      }
     ]
    },
    "cbff75079a10455d93847596f001b644": {
     "views": []
    },
    "ce4f7597166f47cab5004515679d378c": {
     "views": []
    },
    "cf087822794541d495fcf67264a68637": {
     "views": []
    },
    "d248ee9aa3c34fb4971e872a949bd08a": {
     "views": []
    },
    "d593a976fc9741d981dce21917df585a": {
     "views": []
    },
    "d9f9f7389b58417aba5116d7cf44dd3c": {
     "views": []
    },
    "dcd22f38d4a54b5589c372f6a41182de": {
     "views": []
    },
    "e48db504eba8496fbf8b279a933e1e9b": {
     "views": [
      {
       "cell_index": 24
      }
     ]
    },
    "ef87e5c797664488810af848bf913dad": {
     "views": []
    },
    "f12cbaec173e407eaa78aac9ebfcbc41": {
     "views": []
    },
    "f19ad47b40b54f8ba8cc2bd2ad54eeec": {
     "views": []
    },
    "f27eb5f2f96b4c238ca80cc23f70c171": {
     "views": []
    },
    "f700cd86168c4490b80b14fd11888caf": {
     "views": []
    },
    "faea2d78d5fc47a9be6f968933c5227b": {
     "views": []
    },
    "fc2c8781792249eb89929b9cd1d952bc": {
     "views": []
    }
   },
   "version": "2.0.0-dev"
  }
 },
 "nbformat": 4,
 "nbformat_minor": 0
}
