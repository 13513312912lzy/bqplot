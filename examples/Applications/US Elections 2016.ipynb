{
 "cells": [
  {
   "cell_type": "code",
   "execution_count": null,
   "metadata": {
    "collapsed": false
   },
   "outputs": [],
   "source": [
    "import pandas as pd\n",
    "import os\n",
    "\n",
    "data = pd.read_csv(os.path.abspath('../data_files/primary_results.csv'))"
   ]
  },
  {
   "cell_type": "code",
   "execution_count": null,
   "metadata": {
    "collapsed": true
   },
   "outputs": [],
   "source": [
    "from bqplot import *"
   ]
  },
  {
   "cell_type": "code",
   "execution_count": null,
   "metadata": {
    "collapsed": false
   },
   "outputs": [],
   "source": [
    "clinton_data = data[data['candidate']=='Hillary Clinton']\n",
    "sanders_data = data[data['candidate']=='Bernie Sanders']"
   ]
  },
  {
   "cell_type": "code",
   "execution_count": null,
   "metadata": {
    "collapsed": false
   },
   "outputs": [],
   "source": [
    "clinton_map_data = dict(zip(clinton_data.fips.values.astype(int), clinton_data.fraction_votes.values))"
   ]
  },
  {
   "cell_type": "code",
   "execution_count": null,
   "metadata": {
    "collapsed": true
   },
   "outputs": [],
   "source": [
    "def_tt = Tooltip(fields=['id', 'name', 'color'])"
   ]
  },
  {
   "cell_type": "code",
   "execution_count": null,
   "metadata": {
    "collapsed": false
   },
   "outputs": [],
   "source": [
    "sc_geo = Mercator()\n",
    "sc_c1 = ColorScale(scheme='Blues')\n",
    "\n",
    "map_styles = {'color': clinton_map_data,\n",
    "              'scales': {'projection': sc_geo, 'color': sc_c1}, 'colors': {'default_color': 'Grey'}}\n",
    "\n",
    "axis = ColorAxis(scale=sc_c1)\n",
    "\n",
    "chloro_map = Map(map_data=topo_load('map_data/USCountiesMapData.json'), tooltip=def_tt, **map_styles)\n",
    "Figure(marks=[chloro_map], axes=[axis],title='US Elections')"
   ]
  }
 ],
 "metadata": {
  "kernelspec": {
   "display_name": "Python 2",
   "language": "python",
   "name": "python2"
  },
  "language_info": {
   "codemirror_mode": {
    "name": "ipython",
    "version": 2
   },
   "file_extension": ".py",
   "mimetype": "text/x-python",
   "name": "python",
   "nbconvert_exporter": "python",
   "pygments_lexer": "ipython2",
   "version": "2.7.11"
  },
  "widgets": {
   "state": {
    "dc3e53e7c0e84377ab7fed7d4ff46020": {
     "views": [
      {
       "cell_index": 6
      }
     ]
    }
   },
   "version": "2.0.0-dev"
  }
 },
 "nbformat": 4,
 "nbformat_minor": 0
}
