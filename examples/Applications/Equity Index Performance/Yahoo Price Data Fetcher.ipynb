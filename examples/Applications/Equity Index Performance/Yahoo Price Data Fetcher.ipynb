{
 "cells": [
  {
   "cell_type": "markdown",
   "metadata": {},
   "source": [
    "This notebook can be used to fetch stock prices using `yahoofinancials` API. Requires `yahoofinancials` python package."
   ]
  },
  {
   "cell_type": "code",
   "execution_count": null,
   "metadata": {},
   "outputs": [],
   "source": [
    "import pandas as pd\n",
    "from yahoofinancials import YahooFinancials\n",
    "\n",
    "def get_historical_data(ticker, start, end, freq):\n",
    "    fin = YahooFinancials(ticker)\n",
    "    data = fin.get_historical_price_data(start, end, freq)\n",
    "    prices = pd.DataFrame(data[ticker]['prices'], dtype='float')\n",
    "    return prices"
   ]
  },
  {
   "cell_type": "code",
   "execution_count": null,
   "metadata": {},
   "outputs": [],
   "source": [
    "# S&P Index ticker\n",
    "ticker = '^GSPC'\n",
    "prices = get_historical_data(ticker, '1995-01-01', '2020-07-31', 'daily')"
   ]
  },
  {
   "cell_type": "code",
   "execution_count": null,
   "metadata": {},
   "outputs": [],
   "source": [
    "(prices[['formatted_date', 'adjclose']]\n",
    ".rename(columns={'formatted_date': 'date'})\n",
    ".to_csv('spx_prices.csv', index=False))"
   ]
  }
 ],
 "metadata": {
  "kernelspec": {
   "display_name": "Python 3",
   "language": "python",
   "name": "python3"
  },
  "language_info": {
   "codemirror_mode": {
    "name": "ipython",
    "version": 3
   },
   "file_extension": ".py",
   "mimetype": "text/x-python",
   "name": "python",
   "nbconvert_exporter": "python",
   "pygments_lexer": "ipython3",
   "version": "3.8.2"
  }
 },
 "nbformat": 4,
 "nbformat_minor": 2
}
