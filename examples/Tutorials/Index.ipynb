{
 "cells": [
  {
   "cell_type": "markdown",
   "metadata": {
    "deletable": true,
    "editable": true
   },
   "source": [
    "# Tutorials"
   ]
  },
  {
   "cell_type": "markdown",
   "metadata": {
    "deletable": true,
    "editable": true
   },
   "source": [
    "## Basic Plotting\n",
    "* [Using the Object Model](Object Model.ipynb)\n",
    "* [Using `pyplot`](Pyplot.ipynb)\n",
    "\n",
    "## Interactive Plotting\n",
    "* [Updating plots](Updating Plots.ipynb)\n",
    "* ### Integrating with `ipywidgets`    \n",
    "    * [Linking with ipywidgets](Linking Plots With Widgets.ipynb)\n",
    "    * [Application: Gaussian Density](Gaussian Density.ipynb)\n",
    "\n",
    "* ### Using Selectors\n",
    "    * [Fast Interval Selector](Dynamic Interval Selector.ipynb)\n",
    "    * [Linking plots using selectors](Linking Plots Using Selectors.ipynb)"
   ]
  }
 ],
 "metadata": {
  "kernelspec": {
   "display_name": "Python 3",
   "language": "python",
   "name": "python3"
  },
  "language_info": {
   "codemirror_mode": {
    "name": "ipython",
    "version": 3
   },
   "file_extension": ".py",
   "mimetype": "text/x-python",
   "name": "python",
   "nbconvert_exporter": "python",
   "pygments_lexer": "ipython3",
   "version": "3.6.4"
  }
 },
 "nbformat": 4,
 "nbformat_minor": 1
}
