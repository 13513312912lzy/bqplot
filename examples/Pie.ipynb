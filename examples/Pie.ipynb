{
 "cells": [
  {
   "cell_type": "code",
   "execution_count": null,
   "metadata": {
    "collapsed": false
   },
   "outputs": [],
   "source": [
    "from bqplot import Pie, Figure\n",
    "from IPython.display import display\n",
    "import numpy as np"
   ]
  },
  {
   "cell_type": "markdown",
   "metadata": {},
   "source": [
    "## Basic Pie Chart"
   ]
  },
  {
   "cell_type": "markdown",
   "metadata": {},
   "source": [
    "Generating the simplest possible pie chart and plotting it in a `Figure`.\n",
    "\n",
    "The area and angle of each slice will be proportional to the data passed to `sizes`"
   ]
  },
  {
   "cell_type": "code",
   "execution_count": null,
   "metadata": {
    "collapsed": false
   },
   "outputs": [],
   "source": [
    "data = range(1, 6)\n",
    "pie = Pie(sizes=data)\n",
    "fig = Figure(marks=[pie], animation_duration=1000)\n",
    "# Add `animation_duration` (in milliseconds) to have smooth transitions\n",
    "display(fig)"
   ]
  },
  {
   "cell_type": "markdown",
   "metadata": {},
   "source": [
    "As with all bqplot Marks, pie data can be dynamically modified"
   ]
  },
  {
   "cell_type": "code",
   "execution_count": null,
   "metadata": {
    "collapsed": false
   },
   "outputs": [],
   "source": [
    "Nslices = 5\n",
    "pie.sizes = np.random.rand(Nslices)"
   ]
  },
  {
   "cell_type": "markdown",
   "metadata": {},
   "source": [
    "Sort the pie slices by ascending size"
   ]
  },
  {
   "cell_type": "code",
   "execution_count": null,
   "metadata": {
    "collapsed": false
   },
   "outputs": [],
   "source": [
    "pie.sort = True"
   ]
  },
  {
   "cell_type": "markdown",
   "metadata": {},
   "source": [
    "Setting different styles for selected slices"
   ]
  },
  {
   "cell_type": "code",
   "execution_count": null,
   "metadata": {
    "collapsed": true
   },
   "outputs": [],
   "source": [
    "pie.selected_style = {\"opacity\": \"1\", \"stroke\": \"white\", \"stroke-width\": \"2\"}\n",
    "pie.unselected_style = {\"opacity\": \"0.2\"}\n",
    "pie.selected = [3]"
   ]
  },
  {
   "cell_type": "code",
   "execution_count": null,
   "metadata": {
    "collapsed": true
   },
   "outputs": [],
   "source": [
    "pie.selected = None"
   ]
  },
  {
   "cell_type": "markdown",
   "metadata": {},
   "source": [
    "For more on piechart interactions, see the [Mark Interactions notebook](Mark Interactions.ipynb)"
   ]
  },
  {
   "cell_type": "markdown",
   "metadata": {},
   "source": [
    "### Adding labels"
   ]
  },
  {
   "cell_type": "code",
   "execution_count": null,
   "metadata": {
    "collapsed": false
   },
   "outputs": [],
   "source": [
    "pie.labels = ['{:.2f}'.format(d) for d in pie.sizes]\n",
    "fig"
   ]
  },
  {
   "cell_type": "markdown",
   "metadata": {},
   "source": [
    "Modify label styling"
   ]
  },
  {
   "cell_type": "code",
   "execution_count": null,
   "metadata": {
    "collapsed": false
   },
   "outputs": [],
   "source": [
    "pie.label_color = 'white'\n",
    "pie.font_size = '20px'\n",
    "pie.font_weight = 'normal'"
   ]
  },
  {
   "cell_type": "markdown",
   "metadata": {},
   "source": [
    "## Updating pie shape and style"
   ]
  },
  {
   "cell_type": "code",
   "execution_count": null,
   "metadata": {
    "collapsed": false
   },
   "outputs": [],
   "source": [
    "pie1 = Pie(sizes=np.random.rand(6), inner_radius=0.05)\n",
    "fig1 = Figure(marks=[pie1], animation_duration=1000)\n",
    "display(fig1)"
   ]
  },
  {
   "cell_type": "markdown",
   "metadata": {},
   "source": [
    "### Change pie dimensions"
   ]
  },
  {
   "cell_type": "code",
   "execution_count": null,
   "metadata": {
    "collapsed": true
   },
   "outputs": [],
   "source": [
    "# As of now, the radius sizes are absolute, in pixels\n",
    "pie1.radius = 250\n",
    "pie1.inner_radius = 80"
   ]
  },
  {
   "cell_type": "code",
   "execution_count": null,
   "metadata": {
    "collapsed": false
   },
   "outputs": [],
   "source": [
    "# Angles are in radians, 0 being the top vertical\n",
    "pie1.start_angle = -90\n",
    "pie1.end_angle = 90"
   ]
  },
  {
   "cell_type": "markdown",
   "metadata": {},
   "source": [
    "### Moving the pie around\n",
    "`x` and `y` attributes control the position of the pie in the figure.\n",
    "If no scales are passed for `x` and `y`, they are taken in absolute \n",
    "figure coordinates, between 0 and 1."
   ]
  },
  {
   "cell_type": "code",
   "execution_count": null,
   "metadata": {
    "collapsed": true
   },
   "outputs": [],
   "source": [
    "pie1.y = 0.9\n",
    "pie1.x = 0.4\n",
    "pie1.radius = 320"
   ]
  },
  {
   "cell_type": "markdown",
   "metadata": {},
   "source": [
    "### Changing slice styles\n",
    "Pie slice colors cycle through the `colors` and `opacities` attribute, as the `Lines` Mark."
   ]
  },
  {
   "cell_type": "code",
   "execution_count": null,
   "metadata": {
    "collapsed": false
   },
   "outputs": [],
   "source": [
    "pie1.stroke = 'brown'\n",
    "pie1.colors = ['orange', 'darkviolet']\n",
    "pie1.opacities = [.1, 1]\n",
    "display(fig1)"
   ]
  },
  {
   "cell_type": "markdown",
   "metadata": {},
   "source": [
    "## Representing an additional dimension using Color"
   ]
  },
  {
   "cell_type": "markdown",
   "metadata": {},
   "source": [
    "The `Pie` allows for its colors to be determined by data, that is passed to the `color` attribute. \n",
    "A `ColorScale` with the desired color scheme must also be passed."
   ]
  },
  {
   "cell_type": "code",
   "execution_count": null,
   "metadata": {
    "collapsed": false
   },
   "outputs": [],
   "source": [
    "from bqplot import ColorScale, ColorAxis\n",
    "\n",
    "Nslices = 7\n",
    "size_data = np.random.rand(Nslices)\n",
    "color_data = np.random.randn(Nslices)\n",
    "\n",
    "sc = ColorScale(scheme='Reds')\n",
    "# The ColorAxis gives a visual representation of its ColorScale\n",
    "ax = ColorAxis(scale=sc)\n",
    "\n",
    "pie2 = Pie(sizes=size_data, scales={'color': sc}, color=color_data)\n",
    "Figure(marks=[pie2], axes=[ax])"
   ]
  },
  {
   "cell_type": "markdown",
   "metadata": {},
   "source": [
    "## Positioning the Pie using custom scales"
   ]
  },
  {
   "cell_type": "markdown",
   "metadata": {},
   "source": [
    "Pies can be positioned, via the `x` and `y` attributes, \n",
    "using either absolute figure scales or custom 'x' or 'y' scales"
   ]
  },
  {
   "cell_type": "code",
   "execution_count": null,
   "metadata": {
    "collapsed": false
   },
   "outputs": [],
   "source": [
    "from datetime import datetime\n",
    "from bqplot.traits import convert_to_date\n",
    "from bqplot import DateScale, LinearScale, Axis\n",
    "\n",
    "avg_precipitation_days = [(d/30., 1-d/30.) for d in [2, 3, 4, 6, 12, 17, 23, 22, 15, 4, 1, 1]]\n",
    "temperatures = [9, 12, 16, 20, 22, 23, 22, 22, 22, 20, 15, 11]\n",
    "\n",
    "dates = [datetime(2010, k, 1) for k in range(1, 13)]\n",
    "\n",
    "sc_x = DateScale()\n",
    "sc_y = LinearScale()\n",
    "ax_x = Axis(scale=sc_x, label='month', tick_format='%B')\n",
    "ax_y = Axis(scale=sc_y, orientation='vertical', label='average temperature')\n",
    "\n",
    "pies = [Pie(sizes=precipit, x=date, y=temp, \n",
    "            scales={\"x\": sc_x, \"y\": sc_y}, radius=30., stroke='navy',\n",
    "            colors=['navy', 'navy'], opacities=[1, .1]) \n",
    "        for precipit, date, temp in zip(avg_precipitation_days, dates, temperatures)]\n",
    "\n",
    "Figure(title='Kathmandu precipitation', marks=pies, axes=[ax_x, ax_y],\n",
    "       padding_x=.05, padding_y=.1)"
   ]
  }
 ],
 "metadata": {
  "kernelspec": {
   "display_name": "Python 2",
   "language": "python",
   "name": "python2"
  },
  "language_info": {
   "codemirror_mode": {
    "name": "ipython",
    "version": 2
   },
   "file_extension": ".py",
   "mimetype": "text/x-python",
   "name": "python",
   "nbconvert_exporter": "python",
   "pygments_lexer": "ipython2",
   "version": "2.7.11"
  },
  "widgets": {
   "state": {},
   "version": "2.0.0-dev"
  }
 },
 "nbformat": 4,
 "nbformat_minor": 1
}
