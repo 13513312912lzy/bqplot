{
 "cells": [
  {
   "cell_type": "code",
   "execution_count": 1,
   "metadata": {
    "collapsed": false,
    "deletable": true,
    "editable": true
   },
   "outputs": [],
   "source": [
    "from bqplot import Pie, Figure\n",
    "import numpy as np"
   ]
  },
  {
   "cell_type": "markdown",
   "metadata": {
    "deletable": true,
    "editable": true
   },
   "source": [
    "## Basic Pie Chart"
   ]
  },
  {
   "cell_type": "markdown",
   "metadata": {
    "deletable": true,
    "editable": true
   },
   "source": [
    "Generating the simplest possible pie chart and plotting it in a `Figure`.\n",
    "\n",
    "The area and angle of each slice will be proportional to the data passed to `sizes`"
   ]
  },
  {
   "cell_type": "code",
   "execution_count": 2,
   "metadata": {
    "collapsed": false,
    "deletable": true,
    "editable": true
   },
   "outputs": [
    {
     "data": {
      "application/vnd.jupyter.widget-view+json": {
       "model_id": "7db787074ae8477786ee2e2be6e03a4f"
      }
     },
     "metadata": {},
     "output_type": "display_data"
    }
   ],
   "source": [
    "data = range(1, 6)\n",
    "pie = Pie(sizes=data)\n",
    "# Set `animation_duration` (in milliseconds) to have smooth transitions\n",
    "fig = Figure(marks=[pie], animation_duration=1000)\n",
    "fig"
   ]
  },
  {
   "cell_type": "markdown",
   "metadata": {
    "deletable": true,
    "editable": true
   },
   "source": [
    "As with all bqplot Marks, pie data can be dynamically modified"
   ]
  },
  {
   "cell_type": "code",
   "execution_count": 3,
   "metadata": {
    "collapsed": false,
    "deletable": true,
    "editable": true
   },
   "outputs": [],
   "source": [
    "Nslices = 5\n",
    "pie.sizes = np.random.rand(Nslices)"
   ]
  },
  {
   "cell_type": "markdown",
   "metadata": {
    "deletable": true,
    "editable": true
   },
   "source": [
    "Sort the pie slices by ascending size"
   ]
  },
  {
   "cell_type": "code",
   "execution_count": 4,
   "metadata": {
    "collapsed": false,
    "deletable": true,
    "editable": true
   },
   "outputs": [],
   "source": [
    "pie.sort = True"
   ]
  },
  {
   "cell_type": "markdown",
   "metadata": {
    "deletable": true,
    "editable": true
   },
   "source": [
    "Setting different styles for selected slices"
   ]
  },
  {
   "cell_type": "code",
   "execution_count": 5,
   "metadata": {
    "collapsed": true,
    "deletable": true,
    "editable": true
   },
   "outputs": [],
   "source": [
    "pie.selected_style = {\"opacity\": \"1\", \"stroke\": \"white\", \"stroke-width\": \"2\"}\n",
    "pie.unselected_style = {\"opacity\": \"0.2\"}\n",
    "pie.selected = [3]"
   ]
  },
  {
   "cell_type": "code",
   "execution_count": 6,
   "metadata": {
    "collapsed": true,
    "deletable": true,
    "editable": true
   },
   "outputs": [],
   "source": [
    "pie.selected = None"
   ]
  },
  {
   "cell_type": "markdown",
   "metadata": {
    "deletable": true,
    "editable": true
   },
   "source": [
    "For more on piechart interactions, see the [Mark Interactions notebook](Mark Interactions.ipynb)"
   ]
  },
  {
   "cell_type": "markdown",
   "metadata": {
    "deletable": true,
    "editable": true
   },
   "source": [
    "### Adding labels"
   ]
  },
  {
   "cell_type": "code",
   "execution_count": 7,
   "metadata": {
    "collapsed": false,
    "deletable": true,
    "editable": true
   },
   "outputs": [
    {
     "data": {
      "application/vnd.jupyter.widget-view+json": {
       "model_id": "7db787074ae8477786ee2e2be6e03a4f"
      }
     },
     "metadata": {},
     "output_type": "display_data"
    }
   ],
   "source": [
    "pie.labels = ['{:.2f}'.format(d) for d in pie.sizes]\n",
    "fig"
   ]
  },
  {
   "cell_type": "markdown",
   "metadata": {
    "deletable": true,
    "editable": true
   },
   "source": [
    "Modify label styling"
   ]
  },
  {
   "cell_type": "code",
   "execution_count": 8,
   "metadata": {
    "collapsed": false,
    "deletable": true,
    "editable": true
   },
   "outputs": [],
   "source": [
    "pie.label_color = 'white'\n",
    "pie.font_size = '20px'\n",
    "pie.font_weight = 'normal'"
   ]
  },
  {
   "cell_type": "markdown",
   "metadata": {
    "deletable": true,
    "editable": true
   },
   "source": [
    "## Updating pie shape and style"
   ]
  },
  {
   "cell_type": "code",
   "execution_count": 9,
   "metadata": {
    "collapsed": false,
    "deletable": true,
    "editable": true
   },
   "outputs": [
    {
     "data": {
      "application/vnd.jupyter.widget-view+json": {
       "model_id": "6b2a7f31d84a42aea64f1075de66a670"
      }
     },
     "metadata": {},
     "output_type": "display_data"
    }
   ],
   "source": [
    "pie1 = Pie(sizes=np.random.rand(6), inner_radius=0.05)\n",
    "fig1 = Figure(marks=[pie1], animation_duration=1000)\n",
    "fig1"
   ]
  },
  {
   "cell_type": "markdown",
   "metadata": {
    "deletable": true,
    "editable": true
   },
   "source": [
    "### Change pie dimensions"
   ]
  },
  {
   "cell_type": "code",
   "execution_count": 10,
   "metadata": {
    "collapsed": true,
    "deletable": true,
    "editable": true
   },
   "outputs": [],
   "source": [
    "# As of now, the radius sizes are absolute, in pixels\n",
    "pie1.radius = 250\n",
    "pie1.inner_radius = 80"
   ]
  },
  {
   "cell_type": "code",
   "execution_count": 11,
   "metadata": {
    "collapsed": false,
    "deletable": true,
    "editable": true
   },
   "outputs": [],
   "source": [
    "# Angles are in radians, 0 being the top vertical\n",
    "pie1.start_angle = -90\n",
    "pie1.end_angle = 90"
   ]
  },
  {
   "cell_type": "markdown",
   "metadata": {
    "deletable": true,
    "editable": true
   },
   "source": [
    "### Moving the pie around\n",
    "`x` and `y` attributes control the position of the pie in the figure.\n",
    "If no scales are passed for `x` and `y`, they are taken in absolute \n",
    "figure coordinates, between 0 and 1."
   ]
  },
  {
   "cell_type": "code",
   "execution_count": 12,
   "metadata": {
    "collapsed": true,
    "deletable": true,
    "editable": true
   },
   "outputs": [],
   "source": [
    "pie1.y = 0.9\n",
    "pie1.x = 0.4\n",
    "pie1.radius = 320"
   ]
  },
  {
   "cell_type": "markdown",
   "metadata": {
    "deletable": true,
    "editable": true
   },
   "source": [
    "### Changing slice styles\n",
    "Pie slice colors cycle through the `colors` and `opacities` attribute, as the `Lines` Mark."
   ]
  },
  {
   "cell_type": "code",
   "execution_count": 13,
   "metadata": {
    "collapsed": false,
    "deletable": true,
    "editable": true
   },
   "outputs": [
    {
     "data": {
      "application/vnd.jupyter.widget-view+json": {
       "model_id": "6b2a7f31d84a42aea64f1075de66a670"
      }
     },
     "metadata": {},
     "output_type": "display_data"
    }
   ],
   "source": [
    "pie1.stroke = 'brown'\n",
    "pie1.colors = ['orange', 'darkviolet']\n",
    "pie1.opacities = [.1, 1]\n",
    "fig1"
   ]
  },
  {
   "cell_type": "markdown",
   "metadata": {
    "deletable": true,
    "editable": true
   },
   "source": [
    "## Representing an additional dimension using Color"
   ]
  },
  {
   "cell_type": "markdown",
   "metadata": {
    "deletable": true,
    "editable": true
   },
   "source": [
    "The `Pie` allows for its colors to be determined by data, that is passed to the `color` attribute. \n",
    "A `ColorScale` with the desired color scheme must also be passed."
   ]
  },
  {
   "cell_type": "code",
   "execution_count": 14,
   "metadata": {
    "collapsed": false,
    "deletable": true,
    "editable": true
   },
   "outputs": [
    {
     "data": {
      "application/vnd.jupyter.widget-view+json": {
       "model_id": "424fd08eacab444090c51ac5be7df167"
      }
     },
     "metadata": {},
     "output_type": "display_data"
    }
   ],
   "source": [
    "from bqplot import ColorScale, ColorAxis\n",
    "\n",
    "Nslices = 7\n",
    "size_data = np.random.rand(Nslices)\n",
    "color_data = np.random.randn(Nslices)\n",
    "\n",
    "sc = ColorScale(scheme='Reds')\n",
    "# The ColorAxis gives a visual representation of its ColorScale\n",
    "ax = ColorAxis(scale=sc)\n",
    "\n",
    "pie2 = Pie(sizes=size_data, scales={'color': sc}, color=color_data)\n",
    "Figure(marks=[pie2], axes=[ax])"
   ]
  },
  {
   "cell_type": "markdown",
   "metadata": {
    "deletable": true,
    "editable": true
   },
   "source": [
    "## Positioning the Pie using custom scales"
   ]
  },
  {
   "cell_type": "markdown",
   "metadata": {
    "deletable": true,
    "editable": true
   },
   "source": [
    "Pies can be positioned, via the `x` and `y` attributes, \n",
    "using either absolute figure scales or custom 'x' or 'y' scales"
   ]
  },
  {
   "cell_type": "code",
   "execution_count": 15,
   "metadata": {
    "collapsed": false,
    "deletable": true,
    "editable": true
   },
   "outputs": [
    {
     "data": {
      "application/vnd.jupyter.widget-view+json": {
       "model_id": "05cc810fbcbc48e8b339f5bf290de6ad"
      }
     },
     "metadata": {},
     "output_type": "display_data"
    }
   ],
   "source": [
    "from datetime import datetime\n",
    "from bqplot.traits import convert_to_date\n",
    "from bqplot import DateScale, LinearScale, Axis\n",
    "\n",
    "avg_precipitation_days = [(d/30., 1-d/30.) for d in [2, 3, 4, 6, 12, 17, 23, 22, 15, 4, 1, 1]]\n",
    "temperatures = [9, 12, 16, 20, 22, 23, 22, 22, 22, 20, 15, 11]\n",
    "\n",
    "dates = [datetime(2010, k, 1) for k in range(1, 13)]\n",
    "\n",
    "sc_x = DateScale()\n",
    "sc_y = LinearScale()\n",
    "ax_x = Axis(scale=sc_x, label='month', tick_format='%B')\n",
    "ax_y = Axis(scale=sc_y, orientation='vertical', label='average temperature')\n",
    "\n",
    "pies = [Pie(sizes=precipit, x=date, y=temp, \n",
    "            scales={\"x\": sc_x, \"y\": sc_y}, radius=30., stroke='navy',\n",
    "            colors=['navy', 'navy'], opacities=[1, .1]) \n",
    "        for precipit, date, temp in zip(avg_precipitation_days, dates, temperatures)]\n",
    "\n",
    "Figure(title='Kathmandu precipitation', marks=pies, axes=[ax_x, ax_y],\n",
    "       padding_x=.05, padding_y=.1)"
   ]
  },
  {
   "cell_type": "code",
   "execution_count": null,
   "metadata": {
    "collapsed": true
   },
   "outputs": [],
   "source": []
  },
  {
   "cell_type": "code",
   "execution_count": null,
   "metadata": {
    "collapsed": true
   },
   "outputs": [],
   "source": []
  }
 ],
 "metadata": {
  "kernelspec": {
   "display_name": "Python [default]",
   "language": "python",
   "name": "python2"
  },
  "language_info": {
   "codemirror_mode": {
    "name": "ipython",
    "version": 2
   },
   "file_extension": ".py",
   "mimetype": "text/x-python",
   "name": "python",
   "nbconvert_exporter": "python",
   "pygments_lexer": "ipython2",
   "version": "2.7.12"
  },
  "widgets": {
   "application/vnd.jupyter.widget-state+json": {
    "state": {
     "05cc810fbcbc48e8b339f5bf290de6ad": {
      "model_module": "bqplot",
      "model_module_version": "^0.2.3",
      "model_name": "FigureModel",
      "state": {
       "_dom_classes": [],
       "axes": [
        "IPY_MODEL_bb41a8374d024ee0babf1239ccdbf6e4",
        "IPY_MODEL_be1f49dc601544dea4d2fe6a6725b516"
       ],
       "layout": "IPY_MODEL_7d9e5ea8ce974864a5da69171edea6d1",
       "marks": [
        "IPY_MODEL_e736c86ea7654f1c858e6cef37b5cdc6",
        "IPY_MODEL_e951fd56036c4629833bd0d9a4ea390d",
        "IPY_MODEL_065cd6825de342c59cbdcbdc222aee62",
        "IPY_MODEL_1f56fae942bf429c970c32354e3ed397",
        "IPY_MODEL_79f4861697e74960a5eac89029db06e1",
        "IPY_MODEL_87b2051c6bd44ad59e1ea7b9f23dfefb",
        "IPY_MODEL_9a13be9f9c11479a8cfaa6d7e3e8ec43",
        "IPY_MODEL_b8f6b29eefc84513aed28b6062d0d9a1",
        "IPY_MODEL_826af0e95f0e4159a566d8814edd1364",
        "IPY_MODEL_f0c38b106a02492b8576f683d3254973",
        "IPY_MODEL_a6d75c71f5044036b37963eaa606658a",
        "IPY_MODEL_50128eb81ef04484a4f2a8d7ae8588d1"
       ],
       "max_aspect_ratio": 6,
       "padding_x": 0.05,
       "padding_y": 0.1,
       "scale_x": "IPY_MODEL_9ad796dab76d4a3eb6c5e0b363e2bb8e",
       "scale_y": "IPY_MODEL_5ad04c3ed32c46fab074b9c868d9be89",
       "title": "Kathmandu precipitation"
      }
     },
     "065cd6825de342c59cbdcbdc222aee62": {
      "model_module": "bqplot",
      "model_module_version": "^0.2.3",
      "model_name": "PieModel",
      "state": {
       "color": {
        "type": null,
        "values": null
       },
       "colors": [
        "navy",
        "navy"
       ],
       "display_labels": true,
       "display_legend": false,
       "font_size": "10px",
       "font_weight": "normal",
       "label_color": null,
       "opacities": [
        1,
        0.1
       ],
       "radius": 30,
       "scales": {
        "x": "IPY_MODEL_42985c75b3ac44e782d4757884927697",
        "y": "IPY_MODEL_b06fef8c70354c7e8d03a715d54f6852"
       },
       "selected": [],
       "sizes": {
        "type": "float",
        "values": [
         0.13333333333333333,
         0.8666666666666667
        ]
       },
       "stroke": "navy",
       "x": "2010-03-01T00:00:00.000000",
       "y": 16
      }
     },
     "1f56fae942bf429c970c32354e3ed397": {
      "model_module": "bqplot",
      "model_module_version": "^0.2.3",
      "model_name": "PieModel",
      "state": {
       "color": {
        "type": null,
        "values": null
       },
       "colors": [
        "navy",
        "navy"
       ],
       "display_labels": true,
       "display_legend": false,
       "font_size": "10px",
       "font_weight": "normal",
       "label_color": null,
       "opacities": [
        1,
        0.1
       ],
       "radius": 30,
       "scales": {
        "x": "IPY_MODEL_42985c75b3ac44e782d4757884927697",
        "y": "IPY_MODEL_b06fef8c70354c7e8d03a715d54f6852"
       },
       "selected": [],
       "sizes": {
        "type": "float",
        "values": [
         0.2,
         0.8
        ]
       },
       "stroke": "navy",
       "x": "2010-04-01T00:00:00.000000",
       "y": 20
      }
     },
     "2bab301c6e4b447097efd8609ba2555a": {
      "model_module": "jupyter-js-widgets",
      "model_module_version": "~2.1.4",
      "model_name": "LayoutModel",
      "state": {
       "_model_module_version": "~2.1.4",
       "_view_module_version": "~2.1.4",
       "min_width": "125px"
      }
     },
     "3545b4c2721e477aaa43f941af6ea4e4": {
      "model_module": "bqplot",
      "model_module_version": "^0.2.3",
      "model_name": "ColorScaleModel",
      "state": {
       "_model_name": "ColorScaleModel",
       "_view_name": "ColorScale",
       "colors": [],
       "mid": null,
       "scale_type": "linear",
       "scheme": "Reds"
      }
     },
     "424fd08eacab444090c51ac5be7df167": {
      "model_module": "bqplot",
      "model_module_version": "^0.2.3",
      "model_name": "FigureModel",
      "state": {
       "_dom_classes": [],
       "axes": [
        "IPY_MODEL_77b412a181224a649189cb9cc88ee2eb"
       ],
       "layout": "IPY_MODEL_2bab301c6e4b447097efd8609ba2555a",
       "marks": [
        "IPY_MODEL_917d8c9a6f3348868c5ef57cf6e98240"
       ],
       "max_aspect_ratio": 6,
       "scale_x": "IPY_MODEL_a2b5832fa6de4927aa336b0fe2282d13",
       "scale_y": "IPY_MODEL_f6682e8bd1fb4393ba357c0044264a67"
      }
     },
     "42985c75b3ac44e782d4757884927697": {
      "model_module": "bqplot",
      "model_module_version": "^0.2.3",
      "model_name": "DateScaleModel",
      "state": {}
     },
     "50128eb81ef04484a4f2a8d7ae8588d1": {
      "model_module": "bqplot",
      "model_module_version": "^0.2.3",
      "model_name": "PieModel",
      "state": {
       "color": {
        "type": null,
        "values": null
       },
       "colors": [
        "navy",
        "navy"
       ],
       "display_labels": true,
       "display_legend": false,
       "font_size": "10px",
       "font_weight": "normal",
       "label_color": null,
       "opacities": [
        1,
        0.1
       ],
       "radius": 30,
       "scales": {
        "x": "IPY_MODEL_42985c75b3ac44e782d4757884927697",
        "y": "IPY_MODEL_b06fef8c70354c7e8d03a715d54f6852"
       },
       "selected": [],
       "sizes": {
        "type": "float",
        "values": [
         0.03333333333333333,
         0.9666666666666667
        ]
       },
       "stroke": "navy",
       "x": "2010-12-01T00:00:00.000000",
       "y": 11
      }
     },
     "5ad04c3ed32c46fab074b9c868d9be89": {
      "model_module": "bqplot",
      "model_module_version": "^0.2.3",
      "model_name": "LinearScaleModel",
      "state": {
       "allow_padding": false,
       "max": 1,
       "min": 0,
       "stabilized": false
      }
     },
     "651721ae1f424ea68b5d9c8a94ae1fd8": {
      "model_module": "bqplot",
      "model_module_version": "^0.2.3",
      "model_name": "PieModel",
      "state": {
       "color": {
        "type": null,
        "values": null
       },
       "colors": [
        "orange",
        "darkviolet"
       ],
       "display_labels": true,
       "display_legend": false,
       "end_angle": 90,
       "font_size": "10px",
       "font_weight": "normal",
       "inner_radius": 80,
       "label_color": null,
       "opacities": [
        0.1,
        1
       ],
       "radius": 320,
       "selected": [],
       "sizes": {
        "type": "float",
        "values": [
         0.3620942054065436,
         0.272846446998267,
         0.6729498647494196,
         0.3122375653535614,
         0.14474824058898428,
         0.7995710324433937
        ]
       },
       "start_angle": -90,
       "stroke": "brown",
       "x": 0.4,
       "y": 0.9
      }
     },
     "6b2a7f31d84a42aea64f1075de66a670": {
      "model_module": "bqplot",
      "model_module_version": "^0.2.3",
      "model_name": "FigureModel",
      "state": {
       "_dom_classes": [],
       "animation_duration": 1000,
       "layout": "IPY_MODEL_bdaa5ba66419411b9168f7786dfb806f",
       "marks": [
        "IPY_MODEL_651721ae1f424ea68b5d9c8a94ae1fd8"
       ],
       "max_aspect_ratio": 6,
       "scale_x": "IPY_MODEL_ffc668b89dcd49b6880eb33140092311",
       "scale_y": "IPY_MODEL_823e5c49ceab49f59b0221702147028e"
      }
     },
     "77b412a181224a649189cb9cc88ee2eb": {
      "model_module": "bqplot",
      "model_module_version": "^0.2.3",
      "model_name": "ColorAxisModel",
      "state": {
       "scale": "IPY_MODEL_3545b4c2721e477aaa43f941af6ea4e4",
       "side": "bottom",
       "tick_values": {
        "type": null,
        "values": null
       }
      }
     },
     "79f4861697e74960a5eac89029db06e1": {
      "model_module": "bqplot",
      "model_module_version": "^0.2.3",
      "model_name": "PieModel",
      "state": {
       "color": {
        "type": null,
        "values": null
       },
       "colors": [
        "navy",
        "navy"
       ],
       "display_labels": true,
       "display_legend": false,
       "font_size": "10px",
       "font_weight": "normal",
       "label_color": null,
       "opacities": [
        1,
        0.1
       ],
       "radius": 30,
       "scales": {
        "x": "IPY_MODEL_42985c75b3ac44e782d4757884927697",
        "y": "IPY_MODEL_b06fef8c70354c7e8d03a715d54f6852"
       },
       "selected": [],
       "sizes": {
        "type": "float",
        "values": [
         0.4,
         0.6
        ]
       },
       "stroke": "navy",
       "x": "2010-05-01T00:00:00.000000",
       "y": 22
      }
     },
     "7d9e5ea8ce974864a5da69171edea6d1": {
      "model_module": "jupyter-js-widgets",
      "model_module_version": "~2.1.4",
      "model_name": "LayoutModel",
      "state": {
       "_model_module_version": "~2.1.4",
       "_view_module_version": "~2.1.4",
       "min_width": "125px"
      }
     },
     "7db787074ae8477786ee2e2be6e03a4f": {
      "model_module": "bqplot",
      "model_module_version": "^0.2.3",
      "model_name": "FigureModel",
      "state": {
       "_dom_classes": [],
       "animation_duration": 1000,
       "layout": "IPY_MODEL_b9aa11b7d4af403da5090b4437eefb96",
       "marks": [
        "IPY_MODEL_e42c844ddad14f2eaa2f71b7e26bdaea"
       ],
       "max_aspect_ratio": 6,
       "scale_x": "IPY_MODEL_aeafd561faaa418f8bcecc3d7b42c77f",
       "scale_y": "IPY_MODEL_f527b594f3d848c2bcb07586322f316f"
      }
     },
     "823e5c49ceab49f59b0221702147028e": {
      "model_module": "bqplot",
      "model_module_version": "^0.2.3",
      "model_name": "LinearScaleModel",
      "state": {
       "allow_padding": false,
       "max": 1,
       "min": 0,
       "stabilized": false
      }
     },
     "826af0e95f0e4159a566d8814edd1364": {
      "model_module": "bqplot",
      "model_module_version": "^0.2.3",
      "model_name": "PieModel",
      "state": {
       "color": {
        "type": null,
        "values": null
       },
       "colors": [
        "navy",
        "navy"
       ],
       "display_labels": true,
       "display_legend": false,
       "font_size": "10px",
       "font_weight": "normal",
       "label_color": null,
       "opacities": [
        1,
        0.1
       ],
       "radius": 30,
       "scales": {
        "x": "IPY_MODEL_42985c75b3ac44e782d4757884927697",
        "y": "IPY_MODEL_b06fef8c70354c7e8d03a715d54f6852"
       },
       "selected": [],
       "sizes": {
        "type": "float",
        "values": [
         0.5,
         0.5
        ]
       },
       "stroke": "navy",
       "x": "2010-09-01T00:00:00.000000",
       "y": 22
      }
     },
     "87b2051c6bd44ad59e1ea7b9f23dfefb": {
      "model_module": "bqplot",
      "model_module_version": "^0.2.3",
      "model_name": "PieModel",
      "state": {
       "color": {
        "type": null,
        "values": null
       },
       "colors": [
        "navy",
        "navy"
       ],
       "display_labels": true,
       "display_legend": false,
       "font_size": "10px",
       "font_weight": "normal",
       "label_color": null,
       "opacities": [
        1,
        0.1
       ],
       "radius": 30,
       "scales": {
        "x": "IPY_MODEL_42985c75b3ac44e782d4757884927697",
        "y": "IPY_MODEL_b06fef8c70354c7e8d03a715d54f6852"
       },
       "selected": [],
       "sizes": {
        "type": "float",
        "values": [
         0.5666666666666667,
         0.43333333333333335
        ]
       },
       "stroke": "navy",
       "x": "2010-06-01T00:00:00.000000",
       "y": 23
      }
     },
     "917d8c9a6f3348868c5ef57cf6e98240": {
      "model_module": "bqplot",
      "model_module_version": "^0.2.3",
      "model_name": "PieModel",
      "state": {
       "color": {
        "type": "float",
        "values": [
         0.2142652180683396,
         0.3222097312358253,
         -0.25016832880648227,
         0.7841827850392675,
         1.3348643936291695,
         0.40301077548276254,
         0.6103080162181601
        ]
       },
       "display_labels": true,
       "display_legend": false,
       "font_size": "10px",
       "font_weight": "normal",
       "label_color": null,
       "scales": {
        "color": "IPY_MODEL_3545b4c2721e477aaa43f941af6ea4e4"
       },
       "selected": [],
       "sizes": {
        "type": "float",
        "values": [
         0.40716543790729787,
         0.16745311964615195,
         0.6687491799006888,
         0.9715501155125855,
         0.3689656747997013,
         0.8087860139124062,
         0.8502716047184048
        ]
       }
      }
     },
     "9a13be9f9c11479a8cfaa6d7e3e8ec43": {
      "model_module": "bqplot",
      "model_module_version": "^0.2.3",
      "model_name": "PieModel",
      "state": {
       "color": {
        "type": null,
        "values": null
       },
       "colors": [
        "navy",
        "navy"
       ],
       "display_labels": true,
       "display_legend": false,
       "font_size": "10px",
       "font_weight": "normal",
       "label_color": null,
       "opacities": [
        1,
        0.1
       ],
       "radius": 30,
       "scales": {
        "x": "IPY_MODEL_42985c75b3ac44e782d4757884927697",
        "y": "IPY_MODEL_b06fef8c70354c7e8d03a715d54f6852"
       },
       "selected": [],
       "sizes": {
        "type": "float",
        "values": [
         0.7666666666666667,
         0.23333333333333328
        ]
       },
       "stroke": "navy",
       "x": "2010-07-01T00:00:00.000000",
       "y": 22
      }
     },
     "9ad796dab76d4a3eb6c5e0b363e2bb8e": {
      "model_module": "bqplot",
      "model_module_version": "^0.2.3",
      "model_name": "LinearScaleModel",
      "state": {
       "allow_padding": false,
       "max": 1,
       "min": 0,
       "stabilized": false
      }
     },
     "a2b5832fa6de4927aa336b0fe2282d13": {
      "model_module": "bqplot",
      "model_module_version": "^0.2.3",
      "model_name": "LinearScaleModel",
      "state": {
       "allow_padding": false,
       "max": 1,
       "min": 0,
       "stabilized": false
      }
     },
     "a6d75c71f5044036b37963eaa606658a": {
      "model_module": "bqplot",
      "model_module_version": "^0.2.3",
      "model_name": "PieModel",
      "state": {
       "color": {
        "type": null,
        "values": null
       },
       "colors": [
        "navy",
        "navy"
       ],
       "display_labels": true,
       "display_legend": false,
       "font_size": "10px",
       "font_weight": "normal",
       "label_color": null,
       "opacities": [
        1,
        0.1
       ],
       "radius": 30,
       "scales": {
        "x": "IPY_MODEL_42985c75b3ac44e782d4757884927697",
        "y": "IPY_MODEL_b06fef8c70354c7e8d03a715d54f6852"
       },
       "selected": [],
       "sizes": {
        "type": "float",
        "values": [
         0.03333333333333333,
         0.9666666666666667
        ]
       },
       "stroke": "navy",
       "x": "2010-11-01T00:00:00.000000",
       "y": 15
      }
     },
     "aeafd561faaa418f8bcecc3d7b42c77f": {
      "model_module": "bqplot",
      "model_module_version": "^0.2.3",
      "model_name": "LinearScaleModel",
      "state": {
       "allow_padding": false,
       "max": 1,
       "min": 0,
       "stabilized": false
      }
     },
     "b06fef8c70354c7e8d03a715d54f6852": {
      "model_module": "bqplot",
      "model_module_version": "^0.2.3",
      "model_name": "LinearScaleModel",
      "state": {
       "stabilized": false
      }
     },
     "b8f6b29eefc84513aed28b6062d0d9a1": {
      "model_module": "bqplot",
      "model_module_version": "^0.2.3",
      "model_name": "PieModel",
      "state": {
       "color": {
        "type": null,
        "values": null
       },
       "colors": [
        "navy",
        "navy"
       ],
       "display_labels": true,
       "display_legend": false,
       "font_size": "10px",
       "font_weight": "normal",
       "label_color": null,
       "opacities": [
        1,
        0.1
       ],
       "radius": 30,
       "scales": {
        "x": "IPY_MODEL_42985c75b3ac44e782d4757884927697",
        "y": "IPY_MODEL_b06fef8c70354c7e8d03a715d54f6852"
       },
       "selected": [],
       "sizes": {
        "type": "float",
        "values": [
         0.7333333333333333,
         0.2666666666666667
        ]
       },
       "stroke": "navy",
       "x": "2010-08-01T00:00:00.000000",
       "y": 22
      }
     },
     "b9aa11b7d4af403da5090b4437eefb96": {
      "model_module": "jupyter-js-widgets",
      "model_module_version": "~2.1.4",
      "model_name": "LayoutModel",
      "state": {
       "_model_module_version": "~2.1.4",
       "_view_module_version": "~2.1.4",
       "min_width": "125px"
      }
     },
     "bb41a8374d024ee0babf1239ccdbf6e4": {
      "model_module": "bqplot",
      "model_module_version": "^0.2.3",
      "model_name": "AxisModel",
      "state": {
       "label": "month",
       "scale": "IPY_MODEL_42985c75b3ac44e782d4757884927697",
       "side": "bottom",
       "tick_format": "%B",
       "tick_values": {
        "type": null,
        "values": null
       }
      }
     },
     "bdaa5ba66419411b9168f7786dfb806f": {
      "model_module": "jupyter-js-widgets",
      "model_module_version": "~2.1.4",
      "model_name": "LayoutModel",
      "state": {
       "_model_module_version": "~2.1.4",
       "_view_module_version": "~2.1.4",
       "min_width": "125px"
      }
     },
     "be1f49dc601544dea4d2fe6a6725b516": {
      "model_module": "bqplot",
      "model_module_version": "^0.2.3",
      "model_name": "AxisModel",
      "state": {
       "label": "average temperature",
       "orientation": "vertical",
       "scale": "IPY_MODEL_b06fef8c70354c7e8d03a715d54f6852",
       "side": "left",
       "tick_values": {
        "type": null,
        "values": null
       }
      }
     },
     "e42c844ddad14f2eaa2f71b7e26bdaea": {
      "model_module": "bqplot",
      "model_module_version": "^0.2.3",
      "model_name": "PieModel",
      "state": {
       "color": {
        "type": null,
        "values": null
       },
       "display_labels": true,
       "display_legend": false,
       "font_size": "20px",
       "font_weight": "normal",
       "label_color": "white",
       "labels": [
        "0.26",
        "0.29",
        "0.07",
        "0.03",
        "0.86"
       ],
       "selected_style": {
        "opacity": "1",
        "stroke": "white",
        "stroke-width": "2"
       },
       "sizes": {
        "type": "float",
        "values": [
         0.25741117202055996,
         0.29418774630425115,
         0.06506236546511657,
         0.030553794460209116,
         0.8638117546228448
        ]
       },
       "sort": true,
       "unselected_style": {
        "opacity": "0.2"
       }
      }
     },
     "e736c86ea7654f1c858e6cef37b5cdc6": {
      "model_module": "bqplot",
      "model_module_version": "^0.2.3",
      "model_name": "PieModel",
      "state": {
       "color": {
        "type": null,
        "values": null
       },
       "colors": [
        "navy",
        "navy"
       ],
       "display_labels": true,
       "display_legend": false,
       "font_size": "10px",
       "font_weight": "normal",
       "label_color": null,
       "opacities": [
        1,
        0.1
       ],
       "radius": 30,
       "scales": {
        "x": "IPY_MODEL_42985c75b3ac44e782d4757884927697",
        "y": "IPY_MODEL_b06fef8c70354c7e8d03a715d54f6852"
       },
       "selected": [],
       "sizes": {
        "type": "float",
        "values": [
         0.06666666666666667,
         0.9333333333333333
        ]
       },
       "stroke": "navy",
       "x": "2010-01-01T00:00:00.000000",
       "y": 9
      }
     },
     "e951fd56036c4629833bd0d9a4ea390d": {
      "model_module": "bqplot",
      "model_module_version": "^0.2.3",
      "model_name": "PieModel",
      "state": {
       "color": {
        "type": null,
        "values": null
       },
       "colors": [
        "navy",
        "navy"
       ],
       "display_labels": true,
       "display_legend": false,
       "font_size": "10px",
       "font_weight": "normal",
       "label_color": null,
       "opacities": [
        1,
        0.1
       ],
       "radius": 30,
       "scales": {
        "x": "IPY_MODEL_42985c75b3ac44e782d4757884927697",
        "y": "IPY_MODEL_b06fef8c70354c7e8d03a715d54f6852"
       },
       "selected": [],
       "sizes": {
        "type": "float",
        "values": [
         0.1,
         0.9
        ]
       },
       "stroke": "navy",
       "x": "2010-02-01T00:00:00.000000",
       "y": 12
      }
     },
     "f0c38b106a02492b8576f683d3254973": {
      "model_module": "bqplot",
      "model_module_version": "^0.2.3",
      "model_name": "PieModel",
      "state": {
       "color": {
        "type": null,
        "values": null
       },
       "colors": [
        "navy",
        "navy"
       ],
       "display_labels": true,
       "display_legend": false,
       "font_size": "10px",
       "font_weight": "normal",
       "label_color": null,
       "opacities": [
        1,
        0.1
       ],
       "radius": 30,
       "scales": {
        "x": "IPY_MODEL_42985c75b3ac44e782d4757884927697",
        "y": "IPY_MODEL_b06fef8c70354c7e8d03a715d54f6852"
       },
       "selected": [],
       "sizes": {
        "type": "float",
        "values": [
         0.13333333333333333,
         0.8666666666666667
        ]
       },
       "stroke": "navy",
       "x": "2010-10-01T00:00:00.000000",
       "y": 20
      }
     },
     "f527b594f3d848c2bcb07586322f316f": {
      "model_module": "bqplot",
      "model_module_version": "^0.2.3",
      "model_name": "LinearScaleModel",
      "state": {
       "allow_padding": false,
       "max": 1,
       "min": 0,
       "stabilized": false
      }
     },
     "f6682e8bd1fb4393ba357c0044264a67": {
      "model_module": "bqplot",
      "model_module_version": "^0.2.3",
      "model_name": "LinearScaleModel",
      "state": {
       "allow_padding": false,
       "max": 1,
       "min": 0,
       "stabilized": false
      }
     },
     "ffc668b89dcd49b6880eb33140092311": {
      "model_module": "bqplot",
      "model_module_version": "^0.2.3",
      "model_name": "LinearScaleModel",
      "state": {
       "allow_padding": false,
       "max": 1,
       "min": 0,
       "stabilized": false
      }
     }
    },
    "version_major": 1,
    "version_minor": 0
   }
  }
 },
 "nbformat": 4,
 "nbformat_minor": 1
}
