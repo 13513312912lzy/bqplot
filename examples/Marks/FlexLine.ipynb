{
 "cells": [
  {
   "cell_type": "code",
   "execution_count": 1,
   "metadata": {
    "collapsed": false,
    "deletable": true,
    "editable": true,
    "scrolled": true
   },
   "outputs": [],
   "source": [
    "from bqplot import *"
   ]
  },
  {
   "cell_type": "markdown",
   "metadata": {
    "deletable": true,
    "editable": true
   },
   "source": [
    "## Get Data"
   ]
  },
  {
   "cell_type": "code",
   "execution_count": 2,
   "metadata": {
    "collapsed": false,
    "deletable": true,
    "editable": true,
    "scrolled": true
   },
   "outputs": [],
   "source": [
    "dates = np.arange('2005-02', '2005-03', dtype='datetime64[D]')\n",
    "size = len(dates)\n",
    "spx = 100 + 5 * np.cumsum(np.random.randn(size))\n",
    "vix = 10 + np.cumsum(np.random.randn(size))"
   ]
  },
  {
   "cell_type": "markdown",
   "metadata": {
    "deletable": true,
    "editable": true
   },
   "source": [
    "## Displaying extra dimension with color"
   ]
  },
  {
   "cell_type": "code",
   "execution_count": 3,
   "metadata": {
    "collapsed": false,
    "deletable": true,
    "editable": true,
    "scrolled": true
   },
   "outputs": [
    {
     "data": {
      "application/vnd.jupyter.widget-view+json": {
       "model_id": "1e40a0c1eab94f76a72cc9c1aa1afeba"
      }
     },
     "metadata": {},
     "output_type": "display_data"
    }
   ],
   "source": [
    "lin_x = DateScale()\n",
    "lin_y = LinearScale()\n",
    "col_line = ColorScale(colors=['green', 'white', 'red'])\n",
    "\n",
    "ax_x = Axis(scale=lin_x, label='Date', label_location='end')\n",
    "ax_y = Axis(scale=lin_y, orientation='vertical', label='Index', label_offset='4ex')\n",
    "ax_col = ColorAxis(label='Vol', scale=col_line, tick_format='0.2f')\n",
    "\n",
    "fig_margin = dict(top=50, left=80, right=20, bottom=70)\n",
    "fl = FlexLine(x=dates, y=spx, color=vix,\n",
    "              scales={'x': lin_x, 'color': col_line, 'y': lin_y})\n",
    "\n",
    "Figure(marks=[fl], axes=[ax_x, ax_y, ax_col], fig_margin=fig_margin)"
   ]
  },
  {
   "cell_type": "markdown",
   "metadata": {
    "deletable": true,
    "editable": true
   },
   "source": [
    "## Displaying extra dimension with width"
   ]
  },
  {
   "cell_type": "code",
   "execution_count": 4,
   "metadata": {
    "collapsed": false,
    "deletable": true,
    "editable": true,
    "scrolled": true
   },
   "outputs": [
    {
     "data": {
      "application/vnd.jupyter.widget-view+json": {
       "model_id": "0e4360ae6eb44e2eb87497d6d56074b5"
      }
     },
     "metadata": {},
     "output_type": "display_data"
    }
   ],
   "source": [
    "lin_x = DateScale()\n",
    "lin_y = LinearScale()\n",
    "width_line = LinearScale()\n",
    "\n",
    "\n",
    "ax_x = Axis(scale=lin_x, label='Date')\n",
    "ax_y = Axis(scale=lin_y, orientation='vertical', label='SPX Index')\n",
    "\n",
    "fl2 = FlexLine(x=dates, y=spx, width=vix,\n",
    "               scales={'x': lin_x, 'width': width_line, 'y': lin_y},\n",
    "               stroke_width=5)\n",
    "\n",
    "Figure(marks=[fl2], axes=[ax_x, ax_y])"
   ]
  },
  {
   "cell_type": "code",
   "execution_count": null,
   "metadata": {
    "collapsed": true
   },
   "outputs": [],
   "source": []
  }
 ],
 "metadata": {
  "kernelspec": {
   "display_name": "Python [default]",
   "language": "python",
   "name": "python2"
  },
  "language_info": {
   "codemirror_mode": {
    "name": "ipython",
    "version": 2
   },
   "file_extension": ".py",
   "mimetype": "text/x-python",
   "name": "python",
   "nbconvert_exporter": "python",
   "pygments_lexer": "ipython2",
   "version": "2.7.12"
  },
  "widgets": {
   "application/vnd.jupyter.widget-state+json": {
    "state": {
     "0a607e1f57a3498aabaad7f0985b748a": {
      "model_module": "bqplot",
      "model_module_version": "^0.2.3",
      "model_name": "LinearScaleModel",
      "state": {
       "allow_padding": false,
       "max": 1,
       "min": 0,
       "stabilized": false
      }
     },
     "0e4360ae6eb44e2eb87497d6d56074b5": {
      "model_module": "bqplot",
      "model_module_version": "^0.2.3",
      "model_name": "FigureModel",
      "state": {
       "_dom_classes": [],
       "axes": [
        "IPY_MODEL_5ecd64ce50d94c6b80a402c0ca40fa7b",
        "IPY_MODEL_b1287f1bd2a3471f92baf034ed6859dc"
       ],
       "layout": "IPY_MODEL_486e434ed6ac4549b3b9e88f80388bbf",
       "marks": [
        "IPY_MODEL_60d8136b13fd454da1ae0032b4b52a5f"
       ],
       "max_aspect_ratio": 6,
       "scale_x": "IPY_MODEL_eac083e959a84e5eaa23564d10a5d46a",
       "scale_y": "IPY_MODEL_d88f59ddaa5048c7bc3040b505332d9b"
      }
     },
     "1e40a0c1eab94f76a72cc9c1aa1afeba": {
      "model_module": "bqplot",
      "model_module_version": "^0.2.3",
      "model_name": "FigureModel",
      "state": {
       "_dom_classes": [],
       "axes": [
        "IPY_MODEL_22df97c30cf749ea90bb8aeb95a88c61",
        "IPY_MODEL_8cc3e66a405e4e42b6de2b158e1dcd2a",
        "IPY_MODEL_2d84d6c15ceb4b2eaf52c6a72be4feca"
       ],
       "fig_margin": {
        "bottom": 70,
        "left": 80,
        "right": 20,
        "top": 50
       },
       "layout": "IPY_MODEL_3d823a1d02944d75b0503c81f85f170c",
       "marks": [
        "IPY_MODEL_c84f2a9931bc478fbede3b61ce2e7361"
       ],
       "max_aspect_ratio": 6,
       "scale_x": "IPY_MODEL_62b1a1895c484744bf248071df6f9b95",
       "scale_y": "IPY_MODEL_0a607e1f57a3498aabaad7f0985b748a"
      }
     },
     "22df97c30cf749ea90bb8aeb95a88c61": {
      "model_module": "bqplot",
      "model_module_version": "^0.2.3",
      "model_name": "AxisModel",
      "state": {
       "label": "Date",
       "label_location": "end",
       "scale": "IPY_MODEL_78d29a42a5c54b6ba40e5d4e824a0de7",
       "side": "bottom",
       "tick_values": {
        "type": null,
        "values": null
       }
      }
     },
     "2d84d6c15ceb4b2eaf52c6a72be4feca": {
      "model_module": "bqplot",
      "model_module_version": "^0.2.3",
      "model_name": "ColorAxisModel",
      "state": {
       "label": "Vol",
       "scale": "IPY_MODEL_96be39fd4ffc412f99fe7d3b6e6ecfbb",
       "side": "bottom",
       "tick_format": "0.2f",
       "tick_values": {
        "type": null,
        "values": null
       }
      }
     },
     "3c4419e46e464ee0805bc13dc341d9fa": {
      "model_module": "bqplot",
      "model_module_version": "^0.2.3",
      "model_name": "LinearScaleModel",
      "state": {
       "stabilized": false
      }
     },
     "3d823a1d02944d75b0503c81f85f170c": {
      "model_module": "jupyter-js-widgets",
      "model_module_version": "~2.1.4",
      "model_name": "LayoutModel",
      "state": {
       "_model_module_version": "~2.1.4",
       "_view_module_version": "~2.1.4",
       "min_width": "125px"
      }
     },
     "486e434ed6ac4549b3b9e88f80388bbf": {
      "model_module": "jupyter-js-widgets",
      "model_module_version": "~2.1.4",
      "model_name": "LayoutModel",
      "state": {
       "_model_module_version": "~2.1.4",
       "_view_module_version": "~2.1.4",
       "min_width": "125px"
      }
     },
     "54c3ee22daa9423d895016f8cfb77acc": {
      "model_module": "bqplot",
      "model_module_version": "^0.2.3",
      "model_name": "LinearScaleModel",
      "state": {
       "stabilized": false
      }
     },
     "5ecd64ce50d94c6b80a402c0ca40fa7b": {
      "model_module": "bqplot",
      "model_module_version": "^0.2.3",
      "model_name": "AxisModel",
      "state": {
       "label": "Date",
       "scale": "IPY_MODEL_88568b83013947c38e4d2acce45d872c",
       "side": "bottom",
       "tick_values": {
        "type": null,
        "values": null
       }
      }
     },
     "60d8136b13fd454da1ae0032b4b52a5f": {
      "model_module": "bqplot",
      "model_module_version": "^0.2.3",
      "model_name": "FlexLineModel",
      "state": {
       "color": {
        "type": null,
        "values": null
       },
       "display_legend": false,
       "labels": [
        "C1"
       ],
       "scales": {
        "width": "IPY_MODEL_6db0aa8d967749a7b0f8aa1cef1faa19",
        "x": "IPY_MODEL_88568b83013947c38e4d2acce45d872c",
        "y": "IPY_MODEL_54c3ee22daa9423d895016f8cfb77acc"
       },
       "selected": [],
       "stroke_width": 5,
       "width": {
        "type": "float",
        "values": [
         9.044822597229713,
         7.52222864135557,
         7.872009935807409,
         5.77222036835594,
         6.06051884428515,
         6.924763153067477,
         7.328621448034744,
         7.917599486443061,
         8.079863597120552,
         6.307063224669143,
         5.6074100350151,
         5.159851510734625,
         7.140685083846165,
         7.568987944159558,
         6.438502781016885,
         6.53534586432605,
         6.628999690602813,
         4.890177590694217,
         4.7592895759539315,
         6.265593364529676,
         5.828719736921723,
         5.232250299531518,
         3.8510899967865697,
         3.9432975891187647,
         3.021473599470781,
         3.3710391604118346,
         1.2724997928201152,
         1.045227711661175
        ]
       },
       "x": {
        "type": "date",
        "values": [
         "2005-02-01T00:00:00.000000",
         "2005-02-02T00:00:00.000000",
         "2005-02-03T00:00:00.000000",
         "2005-02-04T00:00:00.000000",
         "2005-02-05T00:00:00.000000",
         "2005-02-06T00:00:00.000000",
         "2005-02-07T00:00:00.000000",
         "2005-02-08T00:00:00.000000",
         "2005-02-09T00:00:00.000000",
         "2005-02-10T00:00:00.000000",
         "2005-02-11T00:00:00.000000",
         "2005-02-12T00:00:00.000000",
         "2005-02-13T00:00:00.000000",
         "2005-02-14T00:00:00.000000",
         "2005-02-15T00:00:00.000000",
         "2005-02-16T00:00:00.000000",
         "2005-02-17T00:00:00.000000",
         "2005-02-18T00:00:00.000000",
         "2005-02-19T00:00:00.000000",
         "2005-02-20T00:00:00.000000",
         "2005-02-21T00:00:00.000000",
         "2005-02-22T00:00:00.000000",
         "2005-02-23T00:00:00.000000",
         "2005-02-24T00:00:00.000000",
         "2005-02-25T00:00:00.000000",
         "2005-02-26T00:00:00.000000",
         "2005-02-27T00:00:00.000000",
         "2005-02-28T00:00:00.000000"
        ]
       },
       "y": {
        "type": "float",
        "values": [
         106.20008866943502,
         104.47371960222364,
         105.6979065967894,
         102.60915653804751,
         103.42736487150746,
         111.19153099759575,
         110.32501773434974,
         105.11379478111714,
         107.48544176068722,
         102.06681715454579,
         102.98494095625843,
         111.36804649208041,
         110.92940312200474,
         105.96411234380464,
         98.52843245538894,
         101.41227765987232,
         112.63176993536213,
         115.08730287898948,
         117.68780360276357,
         123.49612898903534,
         122.79803550363118,
         135.09108876736244,
         133.11442492156334,
         137.02083881806647,
         135.54396287493788,
         135.48657779961533,
         129.72039469716077,
         131.73853894500277
        ]
       }
      }
     },
     "62b1a1895c484744bf248071df6f9b95": {
      "model_module": "bqplot",
      "model_module_version": "^0.2.3",
      "model_name": "LinearScaleModel",
      "state": {
       "allow_padding": false,
       "max": 1,
       "min": 0,
       "stabilized": false
      }
     },
     "6db0aa8d967749a7b0f8aa1cef1faa19": {
      "model_module": "bqplot",
      "model_module_version": "^0.2.3",
      "model_name": "LinearScaleModel",
      "state": {
       "stabilized": false
      }
     },
     "78d29a42a5c54b6ba40e5d4e824a0de7": {
      "model_module": "bqplot",
      "model_module_version": "^0.2.3",
      "model_name": "DateScaleModel",
      "state": {}
     },
     "88568b83013947c38e4d2acce45d872c": {
      "model_module": "bqplot",
      "model_module_version": "^0.2.3",
      "model_name": "DateScaleModel",
      "state": {}
     },
     "8cc3e66a405e4e42b6de2b158e1dcd2a": {
      "model_module": "bqplot",
      "model_module_version": "^0.2.3",
      "model_name": "AxisModel",
      "state": {
       "label": "Index",
       "label_offset": "4ex",
       "orientation": "vertical",
       "scale": "IPY_MODEL_3c4419e46e464ee0805bc13dc341d9fa",
       "side": "left",
       "tick_values": {
        "type": null,
        "values": null
       }
      }
     },
     "96be39fd4ffc412f99fe7d3b6e6ecfbb": {
      "model_module": "bqplot",
      "model_module_version": "^0.2.3",
      "model_name": "ColorScaleModel",
      "state": {
       "_model_name": "ColorScaleModel",
       "_view_name": "ColorScale",
       "colors": [
        "green",
        "white",
        "red"
       ],
       "mid": null,
       "scale_type": "linear",
       "scheme": "RdYlGn"
      }
     },
     "b1287f1bd2a3471f92baf034ed6859dc": {
      "model_module": "bqplot",
      "model_module_version": "^0.2.3",
      "model_name": "AxisModel",
      "state": {
       "label": "SPX Index",
       "orientation": "vertical",
       "scale": "IPY_MODEL_54c3ee22daa9423d895016f8cfb77acc",
       "side": "left",
       "tick_values": {
        "type": null,
        "values": null
       }
      }
     },
     "c84f2a9931bc478fbede3b61ce2e7361": {
      "model_module": "bqplot",
      "model_module_version": "^0.2.3",
      "model_name": "FlexLineModel",
      "state": {
       "color": {
        "type": "float",
        "values": [
         9.044822597229713,
         7.52222864135557,
         7.872009935807409,
         5.77222036835594,
         6.06051884428515,
         6.924763153067477,
         7.328621448034744,
         7.917599486443061,
         8.079863597120552,
         6.307063224669143,
         5.6074100350151,
         5.159851510734625,
         7.140685083846165,
         7.568987944159558,
         6.438502781016885,
         6.53534586432605,
         6.628999690602813,
         4.890177590694217,
         4.7592895759539315,
         6.265593364529676,
         5.828719736921723,
         5.232250299531518,
         3.8510899967865697,
         3.9432975891187647,
         3.021473599470781,
         3.3710391604118346,
         1.2724997928201152,
         1.045227711661175
        ]
       },
       "display_legend": false,
       "labels": [
        "C1"
       ],
       "scales": {
        "color": "IPY_MODEL_96be39fd4ffc412f99fe7d3b6e6ecfbb",
        "x": "IPY_MODEL_78d29a42a5c54b6ba40e5d4e824a0de7",
        "y": "IPY_MODEL_3c4419e46e464ee0805bc13dc341d9fa"
       },
       "selected": [],
       "stroke_width": 1.5,
       "width": {
        "type": null,
        "values": null
       },
       "x": {
        "type": "date",
        "values": [
         "2005-02-01T00:00:00.000000",
         "2005-02-02T00:00:00.000000",
         "2005-02-03T00:00:00.000000",
         "2005-02-04T00:00:00.000000",
         "2005-02-05T00:00:00.000000",
         "2005-02-06T00:00:00.000000",
         "2005-02-07T00:00:00.000000",
         "2005-02-08T00:00:00.000000",
         "2005-02-09T00:00:00.000000",
         "2005-02-10T00:00:00.000000",
         "2005-02-11T00:00:00.000000",
         "2005-02-12T00:00:00.000000",
         "2005-02-13T00:00:00.000000",
         "2005-02-14T00:00:00.000000",
         "2005-02-15T00:00:00.000000",
         "2005-02-16T00:00:00.000000",
         "2005-02-17T00:00:00.000000",
         "2005-02-18T00:00:00.000000",
         "2005-02-19T00:00:00.000000",
         "2005-02-20T00:00:00.000000",
         "2005-02-21T00:00:00.000000",
         "2005-02-22T00:00:00.000000",
         "2005-02-23T00:00:00.000000",
         "2005-02-24T00:00:00.000000",
         "2005-02-25T00:00:00.000000",
         "2005-02-26T00:00:00.000000",
         "2005-02-27T00:00:00.000000",
         "2005-02-28T00:00:00.000000"
        ]
       },
       "y": {
        "type": "float",
        "values": [
         106.20008866943502,
         104.47371960222364,
         105.6979065967894,
         102.60915653804751,
         103.42736487150746,
         111.19153099759575,
         110.32501773434974,
         105.11379478111714,
         107.48544176068722,
         102.06681715454579,
         102.98494095625843,
         111.36804649208041,
         110.92940312200474,
         105.96411234380464,
         98.52843245538894,
         101.41227765987232,
         112.63176993536213,
         115.08730287898948,
         117.68780360276357,
         123.49612898903534,
         122.79803550363118,
         135.09108876736244,
         133.11442492156334,
         137.02083881806647,
         135.54396287493788,
         135.48657779961533,
         129.72039469716077,
         131.73853894500277
        ]
       }
      }
     },
     "d88f59ddaa5048c7bc3040b505332d9b": {
      "model_module": "bqplot",
      "model_module_version": "^0.2.3",
      "model_name": "LinearScaleModel",
      "state": {
       "allow_padding": false,
       "max": 1,
       "min": 0,
       "stabilized": false
      }
     },
     "eac083e959a84e5eaa23564d10a5d46a": {
      "model_module": "bqplot",
      "model_module_version": "^0.2.3",
      "model_name": "LinearScaleModel",
      "state": {
       "allow_padding": false,
       "max": 1,
       "min": 0,
       "stabilized": false
      }
     }
    },
    "version_major": 1,
    "version_minor": 0
   }
  }
 },
 "nbformat": 4,
 "nbformat_minor": 0
}
