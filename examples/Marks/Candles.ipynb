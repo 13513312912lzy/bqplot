{
 "cells": [
  {
   "cell_type": "code",
   "execution_count": 1,
   "metadata": {
    "collapsed": false,
    "deletable": true,
    "editable": true,
    "input_collapsed": false
   },
   "outputs": [],
   "source": [
    "from bqplot import *\n",
    "import numpy as np"
   ]
  },
  {
   "cell_type": "code",
   "execution_count": 2,
   "metadata": {
    "collapsed": false,
    "deletable": true,
    "editable": true,
    "input_collapsed": false
   },
   "outputs": [],
   "source": [
    "price_data1 = [['2015-01-02 00:00:00', [161.31, 163.31, 161.0, 162.06]],\n",
    "              ['2015-01-05 00:00:00', [161.27, 161.27, 159.19, 159.51]],\n",
    "              ['2015-01-06 00:00:00', [159.67, 159.96, 155.17, 156.07]],\n",
    "              ['2015-01-07 00:00:00', [157.2, 157.2, 154.03, 155.05]],\n",
    "              ['2015-01-08 00:00:00', [156.24, 159.044, 155.55, 158.42]],\n",
    "              ['2015-01-09 00:00:00', [158.42, 160.34, 157.25, 159.11]],\n",
    "              ['2015-01-12 00:00:00', [159.0, 159.25, 155.76, 156.44]],\n",
    "              ['2015-01-13 00:00:00', [157.26, 159.97, 155.68, 156.81]],\n",
    "              ['2015-01-14 00:00:00', [154.86, 156.49, 153.74, 155.8]],\n",
    "              ['2015-01-15 00:00:00', [156.69, 156.97, 154.16, 154.57]]]\n",
    "\n",
    "price_data2 = [['2015-01-02 00:00:00', [111.39, 111.44, 107.35, 109.33]],\n",
    "               ['2015-01-05 00:00:00', [108.29, 108.65, 105.41, 106.25]],\n",
    "               ['2015-01-06 00:00:00', [106.54, 107.43, 104.63, 106.26]],\n",
    "               ['2015-01-07 00:00:00', [107.2, 108.2, 106.695, 107.75]],\n",
    "               ['2015-01-08 00:00:00', [109.23, 112.15, 108.7, 111.89]],\n",
    "               ['2015-01-09 00:00:00', [112.67, 113.25, 110.21, 112.01]],\n",
    "               ['2015-01-12 00:00:00', [112.6, 112.63, 108.8, 109.25]],\n",
    "               ['2015-01-13 00:00:00', [111.43, 112.8, 108.91, 110.22]],\n",
    "               ['2015-01-14 00:00:00', [109.04, 110.49, 108.5, 109.8]],\n",
    "               ['2015-01-15 00:00:00', [110.0, 110.06, 106.66, 106.82]]]"
   ]
  },
  {
   "cell_type": "code",
   "execution_count": 3,
   "metadata": {
    "collapsed": false,
    "deletable": true,
    "editable": true
   },
   "outputs": [],
   "source": [
    "# Split up the data into x and y points\n",
    "from bqplot.traits import convert_to_date\n",
    "\n",
    "dates1 = convert_to_date([d[0] for d in price_data1])\n",
    "prices1 = [d[1] for d in price_data1]\n",
    "\n",
    "dates2 = convert_to_date([d[0] for d in price_data2])\n",
    "prices2 = [d[1] for d in price_data2]"
   ]
  },
  {
   "cell_type": "code",
   "execution_count": 4,
   "metadata": {
    "collapsed": false,
    "deletable": true,
    "editable": true,
    "input_collapsed": false
   },
   "outputs": [
    {
     "data": {
      "application/vnd.jupyter.widget-view+json": {
       "model_id": "c1a4e5f4791f4d8cb34183f77337094f"
      }
     },
     "metadata": {},
     "output_type": "display_data"
    }
   ],
   "source": [
    "sc = LinearScale()\n",
    "dt_scale = DateScale()\n",
    "ax_x = Axis(label='X', scale=dt_scale)\n",
    "ax_y = Axis(label='Y', scale=sc, orientation='vertical', tick_format='0.0f')\n",
    "\n",
    "# Construct the marks\n",
    "ohlc = OHLC(x=dates1, y=prices1, marker='candle', scales={'x': dt_scale, 'y': sc}, format='ohlc',\n",
    "            stroke='blue', display_legend=True, labels=['IBM US Equity'])\n",
    "ohlc2 = OHLC(x=dates2, y=prices2, marker='bar', scales={'x': dt_scale, 'y': sc}, colors=['dodgerblue', 'orange'],\n",
    "            stroke='orange', display_legend=True, labels=['AAPL US Equity'], format='ohlc')\n",
    "Figure(axes=[ax_x, ax_y], marks=[ohlc, ohlc2])"
   ]
  },
  {
   "cell_type": "code",
   "execution_count": 5,
   "metadata": {
    "collapsed": true,
    "deletable": true,
    "editable": true,
    "input_collapsed": false
   },
   "outputs": [],
   "source": [
    "ohlc.colors = [None, 'red']"
   ]
  },
  {
   "cell_type": "code",
   "execution_count": 6,
   "metadata": {
    "collapsed": false,
    "deletable": true,
    "editable": true,
    "input_collapsed": false
   },
   "outputs": [
    {
     "data": {
      "application/vnd.jupyter.widget-view+json": {
       "model_id": "dd8b5368dab346139ae66af316c35b73"
      }
     },
     "metadata": {},
     "output_type": "display_data"
    }
   ],
   "source": [
    "sc_y = LinearScale()\n",
    "sc_x = LogScale()\n",
    "\n",
    "ax_x = Axis(label='X', scale=sc_x)\n",
    "ax_y = Axis(label='Y', scale=sc_y, orientation='vertical', tick_format='0.2f')\n",
    "\n",
    "ohlc3 = OHLC(x=np.arange(len(dates2)) + 1, y=np.array(prices2) / 60,\n",
    "             marker='bar', scales={'x': sc_x, 'y': sc_y}, colors=['dodgerblue','orange'])\n",
    "\n",
    "Figure(axes=[ax_x, ax_y], marks=[ohlc3])"
   ]
  },
  {
   "cell_type": "code",
   "execution_count": 7,
   "metadata": {
    "collapsed": true,
    "deletable": true,
    "editable": true
   },
   "outputs": [],
   "source": [
    "ohlc3.marker = 'candle'"
   ]
  },
  {
   "cell_type": "markdown",
   "metadata": {
    "deletable": true,
    "editable": true
   },
   "source": [
    "## OHLC with Ordinal Scale"
   ]
  },
  {
   "cell_type": "code",
   "execution_count": 8,
   "metadata": {
    "collapsed": false,
    "deletable": true,
    "editable": true
   },
   "outputs": [
    {
     "data": {
      "application/vnd.jupyter.widget-view+json": {
       "model_id": "f85e0c6faba74e629b465901faad385b"
      }
     },
     "metadata": {},
     "output_type": "display_data"
    }
   ],
   "source": [
    "sc_x = OrdinalScale()\n",
    "sc_y = LinearScale()\n",
    "\n",
    "ax_x = Axis(label='X', scale=sc_x, tick_format='%d-%m-%Y')\n",
    "ax_y = Axis(label='Y', scale=sc_y, orientation='vertical', tick_format='0.2f')\n",
    "\n",
    "ohlc3 = OHLC(x=dates2, y=np.array(prices2) / 60, marker='candle', \n",
    "             scales={'x': sc_x, 'y': sc_y}, colors=['dodgerblue','orange'])\n",
    "\n",
    "Figure(axes=[ax_x, ax_y], marks=[ohlc3])"
   ]
  },
  {
   "cell_type": "code",
   "execution_count": 9,
   "metadata": {
    "collapsed": true,
    "deletable": true,
    "editable": true
   },
   "outputs": [],
   "source": [
    "ohlc3.opacities = [0.1, 0.2]"
   ]
  },
  {
   "cell_type": "code",
   "execution_count": null,
   "metadata": {
    "collapsed": true
   },
   "outputs": [],
   "source": []
  }
 ],
 "metadata": {
  "anaconda-cloud": {},
  "kernelspec": {
   "display_name": "Python [default]",
   "language": "python",
   "name": "python2"
  },
  "language_info": {
   "codemirror_mode": {
    "name": "ipython",
    "version": 2
   },
   "file_extension": ".py",
   "mimetype": "text/x-python",
   "name": "python",
   "nbconvert_exporter": "python",
   "pygments_lexer": "ipython2",
   "version": "2.7.12"
  },
  "widgets": {
   "application/vnd.jupyter.widget-state+json": {
    "state": {
     "074295d59f064256a67046fce411fd9b": {
      "model_module": "bqplot",
      "model_module_version": "^0.2.3",
      "model_name": "AxisModel",
      "state": {
       "label": "X",
       "scale": "IPY_MODEL_1fff894e08594faf9a48f4f47a008863",
       "side": "bottom",
       "tick_format": "%d-%m-%Y",
       "tick_values": {
        "type": null,
        "values": null
       }
      }
     },
     "126f3c5e8c444d2abd2f5d5061e17966": {
      "model_module": "bqplot",
      "model_module_version": "^0.2.3",
      "model_name": "AxisModel",
      "state": {
       "label": "Y",
       "orientation": "vertical",
       "scale": "IPY_MODEL_f1578dd867d7484c84f3fa57befb5c0e",
       "side": "left",
       "tick_format": "0.2f",
       "tick_values": {
        "type": null,
        "values": null
       }
      }
     },
     "1fff894e08594faf9a48f4f47a008863": {
      "model_module": "bqplot",
      "model_module_version": "^0.2.3",
      "model_name": "OrdinalScaleModel",
      "state": {
       "domain": []
      }
     },
     "2293d619a4934f768810504b7958e2c4": {
      "model_module": "bqplot",
      "model_module_version": "^0.2.3",
      "model_name": "LinearScaleModel",
      "state": {
       "allow_padding": false,
       "max": 1,
       "min": 0,
       "stabilized": false
      }
     },
     "27fbe85d63d947c4bba30e2718194c29": {
      "model_module": "bqplot",
      "model_module_version": "^0.2.3",
      "model_name": "DateScaleModel",
      "state": {}
     },
     "345ac1f6d2e345ecb1d77c321616a2e1": {
      "model_module": "bqplot",
      "model_module_version": "^0.2.3",
      "model_name": "LinearScaleModel",
      "state": {
       "allow_padding": false,
       "max": 1,
       "min": 0,
       "stabilized": false
      }
     },
     "382bb3c3b7d64a2ea260ad0f091aa1db": {
      "model_module": "bqplot",
      "model_module_version": "^0.2.3",
      "model_name": "AxisModel",
      "state": {
       "label": "Y",
       "orientation": "vertical",
       "scale": "IPY_MODEL_d9b31f7d38204861a6484b88c0db6f0a",
       "side": "left",
       "tick_format": "0.0f",
       "tick_values": {
        "type": null,
        "values": null
       }
      }
     },
     "4b0743ec9b35459ab329d72edf710639": {
      "model_module": "bqplot",
      "model_module_version": "^0.2.3",
      "model_name": "LinearScaleModel",
      "state": {
       "allow_padding": false,
       "max": 1,
       "min": 0,
       "stabilized": false
      }
     },
     "4b71710acd264562b71853e80418dde3": {
      "model_module": "bqplot",
      "model_module_version": "^0.2.3",
      "model_name": "LinearScaleModel",
      "state": {
       "allow_padding": false,
       "max": 1,
       "min": 0,
       "stabilized": false
      }
     },
     "568fa66bdaf3425dba70234dd2d06026": {
      "model_module": "bqplot",
      "model_module_version": "^0.2.3",
      "model_name": "LinearScaleModel",
      "state": {
       "allow_padding": false,
       "max": 1,
       "min": 0,
       "stabilized": false
      }
     },
     "6272733ac14b4c078cb30ab40db7d979": {
      "model_module": "bqplot",
      "model_module_version": "^0.2.3",
      "model_name": "OHLCModel",
      "state": {
       "colors": [
        "dodgerblue",
        "orange"
       ],
       "format": "ohlc",
       "labels": [
        "AAPL US Equity"
       ],
       "marker": "bar",
       "scales": {
        "x": "IPY_MODEL_27fbe85d63d947c4bba30e2718194c29",
        "y": "IPY_MODEL_d9b31f7d38204861a6484b88c0db6f0a"
       },
       "selected": [],
       "stroke": "orange",
       "stroke_width": 1,
       "x": {
        "type": "date",
        "values": [
         "2015-01-02T00:00:00.000000",
         "2015-01-05T00:00:00.000000",
         "2015-01-06T00:00:00.000000",
         "2015-01-07T00:00:00.000000",
         "2015-01-08T00:00:00.000000",
         "2015-01-09T00:00:00.000000",
         "2015-01-12T00:00:00.000000",
         "2015-01-13T00:00:00.000000",
         "2015-01-14T00:00:00.000000",
         "2015-01-15T00:00:00.000000"
        ]
       },
       "y": {
        "type": "float",
        "values": [
         [
          111.39,
          111.44,
          107.35,
          109.33
         ],
         [
          108.29,
          108.65,
          105.41,
          106.25
         ],
         [
          106.54,
          107.43,
          104.63,
          106.26
         ],
         [
          107.2,
          108.2,
          106.695,
          107.75
         ],
         [
          109.23,
          112.15,
          108.7,
          111.89
         ],
         [
          112.67,
          113.25,
          110.21,
          112.01
         ],
         [
          112.6,
          112.63,
          108.8,
          109.25
         ],
         [
          111.43,
          112.8,
          108.91,
          110.22
         ],
         [
          109.04,
          110.49,
          108.5,
          109.8
         ],
         [
          110,
          110.06,
          106.66,
          106.82
         ]
        ]
       }
      }
     },
     "66d5d0acdb1b465bac877d5eff7092f9": {
      "model_module": "jupyter-js-widgets",
      "model_module_version": "~2.1.4",
      "model_name": "LayoutModel",
      "state": {
       "_model_module_version": "~2.1.4",
       "_view_module_version": "~2.1.4",
       "min_width": "125px"
      }
     },
     "70a3b955435045b1b3ea3e7d5464fb96": {
      "model_module": "bqplot",
      "model_module_version": "^0.2.3",
      "model_name": "AxisModel",
      "state": {
       "label": "Y",
       "orientation": "vertical",
       "scale": "IPY_MODEL_8cb14b022eaf46bfbeec38ebd3070fa9",
       "side": "left",
       "tick_format": "0.2f",
       "tick_values": {
        "type": null,
        "values": null
       }
      }
     },
     "76bbb4edc79648bba683a666965c5005": {
      "model_module": "bqplot",
      "model_module_version": "^0.2.3",
      "model_name": "OHLCModel",
      "state": {
       "colors": [
        "dodgerblue",
        "orange"
       ],
       "display_legend": false,
       "format": "ohlc",
       "marker": "candle",
       "scales": {
        "x": "IPY_MODEL_99c5bf6054f144c08fe399d3212487dd",
        "y": "IPY_MODEL_8cb14b022eaf46bfbeec38ebd3070fa9"
       },
       "selected": [],
       "stroke_width": 1,
       "x": {
        "type": "float",
        "values": [
         1,
         2,
         3,
         4,
         5,
         6,
         7,
         8,
         9,
         10
        ]
       },
       "y": {
        "type": "float",
        "values": [
         [
          1.8565,
          1.8573333333333333,
          1.7891666666666666,
          1.8221666666666667
         ],
         [
          1.8048333333333335,
          1.8108333333333335,
          1.7568333333333332,
          1.7708333333333333
         ],
         [
          1.7756666666666667,
          1.7905000000000002,
          1.7438333333333333,
          1.7710000000000001
         ],
         [
          1.7866666666666666,
          1.8033333333333335,
          1.7782499999999999,
          1.7958333333333334
         ],
         [
          1.8205,
          1.8691666666666669,
          1.8116666666666668,
          1.8648333333333333
         ],
         [
          1.8778333333333335,
          1.8875,
          1.8368333333333333,
          1.8668333333333333
         ],
         [
          1.8766666666666665,
          1.8771666666666667,
          1.8133333333333332,
          1.8208333333333333
         ],
         [
          1.8571666666666669,
          1.88,
          1.8151666666666666,
          1.837
         ],
         [
          1.8173333333333335,
          1.8415,
          1.8083333333333333,
          1.8299999999999998
         ],
         [
          1.8333333333333333,
          1.8343333333333334,
          1.7776666666666665,
          1.7803333333333333
         ]
        ]
       }
      }
     },
     "7d3a5c5885044412ab24e586ad7f442b": {
      "model_module": "bqplot",
      "model_module_version": "^0.2.3",
      "model_name": "LinearScaleModel",
      "state": {
       "allow_padding": false,
       "max": 1,
       "min": 0,
       "stabilized": false
      }
     },
     "8cb14b022eaf46bfbeec38ebd3070fa9": {
      "model_module": "bqplot",
      "model_module_version": "^0.2.3",
      "model_name": "LinearScaleModel",
      "state": {
       "stabilized": false
      }
     },
     "8f73c6d83e7b4f03a5a4ed73c51784d6": {
      "model_module": "bqplot",
      "model_module_version": "^0.2.3",
      "model_name": "OHLCModel",
      "state": {
       "colors": [
        "dodgerblue",
        "orange"
       ],
       "display_legend": false,
       "format": "ohlc",
       "marker": "candle",
       "opacities": [
        0.1,
        0.2
       ],
       "scales": {
        "x": "IPY_MODEL_1fff894e08594faf9a48f4f47a008863",
        "y": "IPY_MODEL_f1578dd867d7484c84f3fa57befb5c0e"
       },
       "selected": [],
       "stroke_width": 1,
       "x": {
        "type": "date",
        "values": [
         "2015-01-02T00:00:00.000000",
         "2015-01-05T00:00:00.000000",
         "2015-01-06T00:00:00.000000",
         "2015-01-07T00:00:00.000000",
         "2015-01-08T00:00:00.000000",
         "2015-01-09T00:00:00.000000",
         "2015-01-12T00:00:00.000000",
         "2015-01-13T00:00:00.000000",
         "2015-01-14T00:00:00.000000",
         "2015-01-15T00:00:00.000000"
        ]
       },
       "y": {
        "type": "float",
        "values": [
         [
          1.8565,
          1.8573333333333333,
          1.7891666666666666,
          1.8221666666666667
         ],
         [
          1.8048333333333335,
          1.8108333333333335,
          1.7568333333333332,
          1.7708333333333333
         ],
         [
          1.7756666666666667,
          1.7905000000000002,
          1.7438333333333333,
          1.7710000000000001
         ],
         [
          1.7866666666666666,
          1.8033333333333335,
          1.7782499999999999,
          1.7958333333333334
         ],
         [
          1.8205,
          1.8691666666666669,
          1.8116666666666668,
          1.8648333333333333
         ],
         [
          1.8778333333333335,
          1.8875,
          1.8368333333333333,
          1.8668333333333333
         ],
         [
          1.8766666666666665,
          1.8771666666666667,
          1.8133333333333332,
          1.8208333333333333
         ],
         [
          1.8571666666666669,
          1.88,
          1.8151666666666666,
          1.837
         ],
         [
          1.8173333333333335,
          1.8415,
          1.8083333333333333,
          1.8299999999999998
         ],
         [
          1.8333333333333333,
          1.8343333333333334,
          1.7776666666666665,
          1.7803333333333333
         ]
        ]
       }
      }
     },
     "8fb1cbfd5d434c1aa54f42b1e76204fe": {
      "model_module": "bqplot",
      "model_module_version": "^0.2.3",
      "model_name": "AxisModel",
      "state": {
       "label": "X",
       "scale": "IPY_MODEL_99c5bf6054f144c08fe399d3212487dd",
       "side": "bottom",
       "tick_values": {
        "type": null,
        "values": null
       }
      }
     },
     "95a5b9a258784b5da7f8f0fa235925a6": {
      "model_module": "bqplot",
      "model_module_version": "^0.2.3",
      "model_name": "OHLCModel",
      "state": {
       "colors": [
        null,
        "red"
       ],
       "format": "ohlc",
       "labels": [
        "IBM US Equity"
       ],
       "marker": "candle",
       "scales": {
        "x": "IPY_MODEL_27fbe85d63d947c4bba30e2718194c29",
        "y": "IPY_MODEL_d9b31f7d38204861a6484b88c0db6f0a"
       },
       "selected": [],
       "stroke": "blue",
       "stroke_width": 1,
       "x": {
        "type": "date",
        "values": [
         "2015-01-02T00:00:00.000000",
         "2015-01-05T00:00:00.000000",
         "2015-01-06T00:00:00.000000",
         "2015-01-07T00:00:00.000000",
         "2015-01-08T00:00:00.000000",
         "2015-01-09T00:00:00.000000",
         "2015-01-12T00:00:00.000000",
         "2015-01-13T00:00:00.000000",
         "2015-01-14T00:00:00.000000",
         "2015-01-15T00:00:00.000000"
        ]
       },
       "y": {
        "type": "float",
        "values": [
         [
          161.31,
          163.31,
          161,
          162.06
         ],
         [
          161.27,
          161.27,
          159.19,
          159.51
         ],
         [
          159.67,
          159.96,
          155.17,
          156.07
         ],
         [
          157.2,
          157.2,
          154.03,
          155.05
         ],
         [
          156.24,
          159.044,
          155.55,
          158.42
         ],
         [
          158.42,
          160.34,
          157.25,
          159.11
         ],
         [
          159,
          159.25,
          155.76,
          156.44
         ],
         [
          157.26,
          159.97,
          155.68,
          156.81
         ],
         [
          154.86,
          156.49,
          153.74,
          155.8
         ],
         [
          156.69,
          156.97,
          154.16,
          154.57
         ]
        ]
       }
      }
     },
     "964e2e6c75074f9b90916196533c8efb": {
      "model_module": "jupyter-js-widgets",
      "model_module_version": "~2.1.4",
      "model_name": "LayoutModel",
      "state": {
       "_model_module_version": "~2.1.4",
       "_view_module_version": "~2.1.4",
       "min_width": "125px"
      }
     },
     "99c5bf6054f144c08fe399d3212487dd": {
      "model_module": "bqplot",
      "model_module_version": "^0.2.3",
      "model_name": "LogScaleModel",
      "state": {}
     },
     "afc292270ac44b4a896175be34609b9b": {
      "model_module": "jupyter-js-widgets",
      "model_module_version": "~2.1.4",
      "model_name": "LayoutModel",
      "state": {
       "_model_module_version": "~2.1.4",
       "_view_module_version": "~2.1.4",
       "min_width": "125px"
      }
     },
     "c1a4e5f4791f4d8cb34183f77337094f": {
      "model_module": "bqplot",
      "model_module_version": "^0.2.3",
      "model_name": "FigureModel",
      "state": {
       "_dom_classes": [],
       "axes": [
        "IPY_MODEL_f254ad032c8844dfb79395a4c8a85d9c",
        "IPY_MODEL_382bb3c3b7d64a2ea260ad0f091aa1db"
       ],
       "layout": "IPY_MODEL_964e2e6c75074f9b90916196533c8efb",
       "marks": [
        "IPY_MODEL_95a5b9a258784b5da7f8f0fa235925a6",
        "IPY_MODEL_6272733ac14b4c078cb30ab40db7d979"
       ],
       "max_aspect_ratio": 6,
       "scale_x": "IPY_MODEL_568fa66bdaf3425dba70234dd2d06026",
       "scale_y": "IPY_MODEL_4b71710acd264562b71853e80418dde3"
      }
     },
     "d9b31f7d38204861a6484b88c0db6f0a": {
      "model_module": "bqplot",
      "model_module_version": "^0.2.3",
      "model_name": "LinearScaleModel",
      "state": {
       "stabilized": false
      }
     },
     "dd8b5368dab346139ae66af316c35b73": {
      "model_module": "bqplot",
      "model_module_version": "^0.2.3",
      "model_name": "FigureModel",
      "state": {
       "_dom_classes": [],
       "axes": [
        "IPY_MODEL_8fb1cbfd5d434c1aa54f42b1e76204fe",
        "IPY_MODEL_70a3b955435045b1b3ea3e7d5464fb96"
       ],
       "layout": "IPY_MODEL_66d5d0acdb1b465bac877d5eff7092f9",
       "marks": [
        "IPY_MODEL_76bbb4edc79648bba683a666965c5005"
       ],
       "max_aspect_ratio": 6,
       "scale_x": "IPY_MODEL_2293d619a4934f768810504b7958e2c4",
       "scale_y": "IPY_MODEL_7d3a5c5885044412ab24e586ad7f442b"
      }
     },
     "f1578dd867d7484c84f3fa57befb5c0e": {
      "model_module": "bqplot",
      "model_module_version": "^0.2.3",
      "model_name": "LinearScaleModel",
      "state": {
       "stabilized": false
      }
     },
     "f254ad032c8844dfb79395a4c8a85d9c": {
      "model_module": "bqplot",
      "model_module_version": "^0.2.3",
      "model_name": "AxisModel",
      "state": {
       "label": "X",
       "scale": "IPY_MODEL_27fbe85d63d947c4bba30e2718194c29",
       "side": "bottom",
       "tick_values": {
        "type": null,
        "values": null
       }
      }
     },
     "f85e0c6faba74e629b465901faad385b": {
      "model_module": "bqplot",
      "model_module_version": "^0.2.3",
      "model_name": "FigureModel",
      "state": {
       "_dom_classes": [],
       "axes": [
        "IPY_MODEL_074295d59f064256a67046fce411fd9b",
        "IPY_MODEL_126f3c5e8c444d2abd2f5d5061e17966"
       ],
       "layout": "IPY_MODEL_afc292270ac44b4a896175be34609b9b",
       "marks": [
        "IPY_MODEL_8f73c6d83e7b4f03a5a4ed73c51784d6"
       ],
       "max_aspect_ratio": 6,
       "scale_x": "IPY_MODEL_4b0743ec9b35459ab329d72edf710639",
       "scale_y": "IPY_MODEL_345ac1f6d2e345ecb1d77c321616a2e1"
      }
     }
    },
    "version_major": 1,
    "version_minor": 0
   }
  }
 },
 "nbformat": 4,
 "nbformat_minor": 0
}
