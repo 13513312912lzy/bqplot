{
 "cells": [
  {
   "cell_type": "code",
   "execution_count": 1,
   "metadata": {
    "collapsed": false,
    "deletable": true,
    "editable": true
   },
   "outputs": [],
   "source": [
    "import pandas as pd\n",
    "from bqplot import ColorScale, ColorAxis, DateScale, LinearScale, Axis, Lines, Figure\n",
    "from ipywidgets import Label, VBox, Layout\n",
    "from bqplot.market_map import MarketMap\n",
    "import os"
   ]
  },
  {
   "cell_type": "markdown",
   "metadata": {
    "deletable": true,
    "editable": true
   },
   "source": [
    "## Get Data"
   ]
  },
  {
   "cell_type": "code",
   "execution_count": 2,
   "metadata": {
    "collapsed": false,
    "deletable": true,
    "editable": true
   },
   "outputs": [],
   "source": [
    "data = pd.read_csv(os.path.abspath('../data_files/country_codes.csv'), index_col=[0])\n",
    "country_codes = data.index.values\n",
    "country_names = data['Name']"
   ]
  },
  {
   "cell_type": "markdown",
   "metadata": {
    "deletable": true,
    "editable": true
   },
   "source": [
    "## Basic Market Map"
   ]
  },
  {
   "cell_type": "code",
   "execution_count": 3,
   "metadata": {
    "collapsed": false,
    "deletable": true,
    "editable": true
   },
   "outputs": [
    {
     "data": {
      "application/vnd.jupyter.widget-view+json": {
       "model_id": "c16ee59f1bab4504974da0bfc92dd30c"
      }
     },
     "metadata": {},
     "output_type": "display_data"
    }
   ],
   "source": [
    "market_map = MarketMap(names=country_codes,      \n",
    "                       # basic data which needs to set for each map\n",
    "                       ref_data=data,            \n",
    "                       # Data frame which can be used for different properties of the map\n",
    "                       # Axis and scale for color data\n",
    "                       tooltip_fields=['Name'],\n",
    "                       layout=Layout(min_width='800px', min_height='600px'))\n",
    "\n",
    "market_map"
   ]
  },
  {
   "cell_type": "code",
   "execution_count": 4,
   "metadata": {
    "collapsed": true,
    "deletable": true,
    "editable": true
   },
   "outputs": [],
   "source": [
    "market_map.colors = ['MediumSeaGreen']"
   ]
  },
  {
   "cell_type": "code",
   "execution_count": 5,
   "metadata": {
    "collapsed": true,
    "deletable": true,
    "editable": true
   },
   "outputs": [],
   "source": [
    "market_map.font_style = {'font-size': '16px', 'fill':'white'}"
   ]
  },
  {
   "cell_type": "code",
   "execution_count": 6,
   "metadata": {
    "collapsed": true,
    "deletable": true,
    "editable": true
   },
   "outputs": [],
   "source": [
    "market_map.title = 'Country Map'\n",
    "market_map.title_style = {'fill': 'Red'}"
   ]
  },
  {
   "cell_type": "markdown",
   "metadata": {
    "deletable": true,
    "editable": true
   },
   "source": [
    "## GDP data with grouping by continent\n",
    "\n",
    "World Bank national accounts data, and OECD National Accounts data files. (The World Bank: GDP per capita (current US$))"
   ]
  },
  {
   "cell_type": "code",
   "execution_count": 7,
   "metadata": {
    "collapsed": false,
    "deletable": true,
    "editable": true
   },
   "outputs": [],
   "source": [
    "gdp_data = pd.read_csv(os.path.abspath('../data_files/gdp_per_capita.csv'), index_col=[0], parse_dates=True)\n",
    "gdp_data.fillna(method='backfill', inplace=True)\n",
    "gdp_data.fillna(method='ffill', inplace=True)"
   ]
  },
  {
   "cell_type": "code",
   "execution_count": 8,
   "metadata": {
    "collapsed": false,
    "deletable": true,
    "editable": true
   },
   "outputs": [],
   "source": [
    "col = ColorScale(scheme='Greens')\n",
    "continents = data['Continent'].values\n",
    "ax_c = ColorAxis(scale=col, label='GDP per Capita', visible=False)\n",
    "\n",
    "data['GDP'] = gdp_data.ix[-1]\n",
    "\n",
    "market_map = MarketMap(names=country_codes, groups=continents,       # Basic data which needs to set for each map\n",
    "                       cols=25, row_groups=3,                        # Properties for the visualization\n",
    "                       ref_data=data,                                # Data frame used for different properties of the map\n",
    "                       tooltip_fields=['Name', 'Continent', 'GDP'],  # Columns from data frame to be displayed as tooltip\n",
    "                       tooltip_formats=['', '', '.1f'],\n",
    "                       scales={'color': col}, axes=[ax_c],\n",
    "                       layout=Layout(min_width='800px', min_height='600px'))           # Axis and scale for color data"
   ]
  },
  {
   "cell_type": "code",
   "execution_count": 9,
   "metadata": {
    "collapsed": false,
    "deletable": true,
    "editable": true
   },
   "outputs": [
    {
     "data": {
      "application/vnd.jupyter.widget-view+json": {
       "model_id": "088ff5381a8546c5984bd1ecaba6045a"
      }
     },
     "metadata": {},
     "output_type": "display_data"
    }
   ],
   "source": [
    "deb_output = Label()\n",
    "def selected_index_changed(change):\n",
    "    deb_output.value = str(change.new)\n",
    "        \n",
    "market_map.observe(selected_index_changed, 'selected')\n",
    "VBox([deb_output, market_map])"
   ]
  },
  {
   "cell_type": "code",
   "execution_count": 10,
   "metadata": {
    "collapsed": false,
    "deletable": true,
    "editable": true
   },
   "outputs": [],
   "source": [
    "# Attribute to show the names of the groups, in this case the continents\n",
    "market_map.show_groups = True"
   ]
  },
  {
   "cell_type": "code",
   "execution_count": 11,
   "metadata": {
    "collapsed": false,
    "deletable": true,
    "editable": true
   },
   "outputs": [],
   "source": [
    "# Setting the selected countries\n",
    "market_map.show_groups = False\n",
    "market_map.selected = ['PAN', 'FRA', 'PHL']"
   ]
  },
  {
   "cell_type": "code",
   "execution_count": 12,
   "metadata": {
    "collapsed": false,
    "deletable": true,
    "editable": true
   },
   "outputs": [],
   "source": [
    "# changing selected stroke and hovered stroke variable\n",
    "market_map.selected_stroke = 'yellow'\n",
    "market_map.hovered_stroke = 'violet'"
   ]
  },
  {
   "cell_type": "markdown",
   "metadata": {
    "deletable": true,
    "editable": true
   },
   "source": [
    "## Setting the color based on data"
   ]
  },
  {
   "cell_type": "code",
   "execution_count": 13,
   "metadata": {
    "collapsed": false,
    "deletable": true,
    "editable": true
   },
   "outputs": [],
   "source": [
    "# Adding data for color and making color axis visible\n",
    "market_map.color = data['GDP']\n",
    "ax_c.visible = True"
   ]
  },
  {
   "cell_type": "markdown",
   "metadata": {
    "deletable": true,
    "editable": true
   },
   "source": [
    "## Adding a widget as tooltip"
   ]
  },
  {
   "cell_type": "code",
   "execution_count": 14,
   "metadata": {
    "collapsed": false,
    "deletable": true,
    "editable": true
   },
   "outputs": [],
   "source": [
    "# Creating the figure to be displayed as the tooltip\n",
    "sc_x = DateScale()\n",
    "sc_y = LinearScale()\n",
    "\n",
    "ax_x = Axis(scale=sc_x, grid_lines='dashed', label='Date')\n",
    "ax_y = Axis(scale=sc_y, orientation='vertical', grid_lines='dashed',\n",
    "            label='GDP', label_location='end', label_offset='-1em')\n",
    "\n",
    "line = Lines(x= gdp_data.index.values, y=[], scales={'x': sc_x, 'y': sc_y}, colors=['orange'])\n",
    "fig_tooltip = Figure(marks=[line], axes=[ax_x, ax_y])"
   ]
  },
  {
   "cell_type": "code",
   "execution_count": 15,
   "metadata": {
    "collapsed": false,
    "deletable": true,
    "editable": true
   },
   "outputs": [
    {
     "data": {
      "application/vnd.jupyter.widget-view+json": {
       "model_id": "cb7260e8d1ab47ba88f724e04e6f2da6"
      }
     },
     "metadata": {},
     "output_type": "display_data"
    }
   ],
   "source": [
    "market_map = MarketMap(names=country_codes, groups=continents,\n",
    "                       cols=25, row_groups=3,\n",
    "                       color=data['GDP'], scales={'color': col}, axes=[ax_c],\n",
    "                       ref_data=data, tooltip_widget=fig_tooltip,\n",
    "                       layout=Layout(min_width='900px', min_height='600px'))\n",
    "\n",
    "# Update the tooltip chart\n",
    "hovered_symbol = ''\n",
    "def hover_handler(self, content):\n",
    "    global hovered_symbol\n",
    "    symbol = content.get('data', '')\n",
    "    \n",
    "    if(symbol != hovered_symbol):\n",
    "        hovered_symbol = symbol\n",
    "        if(gdp_data.get(hovered_symbol) is not None):\n",
    "            line.y = gdp_data[hovered_symbol].values\n",
    "            fig_tooltip.title = content.get('ref_data', {}).get('Name', '')\n",
    "\n",
    "# Custom msg sent when a particular cell is hovered on\n",
    "market_map.on_hover(hover_handler)\n",
    "market_map"
   ]
  },
  {
   "cell_type": "markdown",
   "metadata": {
    "deletable": true,
    "editable": true
   },
   "source": [
    "This notebook uses data derived from the World Bank dataset.\n",
    "- The World Bank: GDP per capita (current US$)\n",
    "- The World Bank: Country Codes \n",
    "\n",
    "See the LICENSE file for more information."
   ]
  },
  {
   "cell_type": "code",
   "execution_count": null,
   "metadata": {
    "collapsed": true
   },
   "outputs": [],
   "source": []
  },
  {
   "cell_type": "code",
   "execution_count": null,
   "metadata": {
    "collapsed": true
   },
   "outputs": [],
   "source": []
  }
 ],
 "metadata": {
  "anaconda-cloud": {},
  "kernelspec": {
   "display_name": "Python [conda root]",
   "language": "python",
   "name": "conda-root-py"
  },
  "language_info": {
   "codemirror_mode": {
    "name": "ipython",
    "version": 2
   },
   "file_extension": ".py",
   "mimetype": "text/x-python",
   "name": "python",
   "nbconvert_exporter": "python",
   "pygments_lexer": "ipython2",
   "version": "2.7.12"
  },
  "widgets": {
   "application/vnd.jupyter.widget-state+json": {
    "state": {
     "088ff5381a8546c5984bd1ecaba6045a": {
      "model_module": "jupyter-js-widgets",
      "model_module_version": "~2.1.4",
      "model_name": "VBoxModel",
      "state": {
       "_model_module_version": "~2.1.4",
       "_view_module_version": "~2.1.4",
       "children": [
        "IPY_MODEL_74ada0d21e834456a4d870a1b20d8393",
        "IPY_MODEL_86bf7b0b839c4e1c97c84ed600502759"
       ],
       "layout": "IPY_MODEL_56715d0aa45e4ebb85e9baace797dbc2"
      }
     },
     "25ce12a3eb6345ffb118eeb7ead4e3df": {
      "model_module": "bqplot",
      "model_module_version": "^0.2.3",
      "model_name": "AxisModel",
      "state": {
       "grid_lines": "dashed",
       "label": "GDP",
       "label_location": "end",
       "label_offset": "-1em",
       "orientation": "vertical",
       "scale": "IPY_MODEL_d52f41b0d7ce47b99695936172ee33e0",
       "side": "left",
       "tick_values": {
        "type": null,
        "values": null
       }
      }
     },
     "3d8ac8951e4e413eac8b1e2c7aa4ac07": {
      "model_module": "bqplot",
      "model_module_version": "^0.2.3",
      "model_name": "AxisModel",
      "state": {
       "grid_lines": "dashed",
       "label": "Date",
       "scale": "IPY_MODEL_5975ac7481b7404eb149ec2f3c8083fd",
       "side": "bottom",
       "tick_values": {
        "type": null,
        "values": null
       }
      }
     },
     "42466ff9aaf84ff680acf64513dc5ce3": {
      "model_module": "jupyter-js-widgets",
      "model_module_version": "~2.1.4",
      "model_name": "LayoutModel",
      "state": {
       "_model_module_version": "~2.1.4",
       "_view_module_version": "~2.1.4"
      }
     },
     "4bbbe3be490e4f1b82c60afaca1942f0": {
      "model_module": "jupyter-js-widgets",
      "model_module_version": "~2.1.4",
      "model_name": "LayoutModel",
      "state": {
       "_model_module_version": "~2.1.4",
       "_view_module_version": "~2.1.4",
       "min_height": "600px",
       "min_width": "900px"
      }
     },
     "521fd2e1cd9747e8baf215a691b8f5bf": {
      "model_module": "jupyter-js-widgets",
      "model_module_version": "~2.1.4",
      "model_name": "LayoutModel",
      "state": {
       "_model_module_version": "~2.1.4",
       "_view_module_version": "~2.1.4",
       "min_height": "600px",
       "min_width": "800px"
      }
     },
     "56715d0aa45e4ebb85e9baace797dbc2": {
      "model_module": "jupyter-js-widgets",
      "model_module_version": "~2.1.4",
      "model_name": "LayoutModel",
      "state": {
       "_model_module_version": "~2.1.4",
       "_view_module_version": "~2.1.4"
      }
     },
     "5975ac7481b7404eb149ec2f3c8083fd": {
      "model_module": "bqplot",
      "model_module_version": "^0.2.3",
      "model_name": "DateScaleModel",
      "state": {}
     },
     "67e5b4d5617c42c6b5c52f2f2e8adccc": {
      "model_module": "bqplot",
      "model_module_version": "^0.2.3",
      "model_name": "ColorAxisModel",
      "state": {
       "label": "GDP per Capita",
       "scale": "IPY_MODEL_dfef0ac61b194f529d5a80a47dad004b",
       "side": "bottom",
       "tick_values": {
        "type": null,
        "values": null
       }
      }
     },
     "6d7b5987002648349614277898f535a3": {
      "model_module": "bqplot",
      "model_module_version": "^0.2.3",
      "model_name": "FigureModel",
      "state": {
       "_dom_classes": [],
       "axes": [
        "IPY_MODEL_3d8ac8951e4e413eac8b1e2c7aa4ac07",
        "IPY_MODEL_25ce12a3eb6345ffb118eeb7ead4e3df"
       ],
       "layout": "IPY_MODEL_8cadce01ac664fb9940b8b63ce36ff49",
       "marks": [
        "IPY_MODEL_fa50552dd6e343a3895952edf98ec7bc"
       ],
       "max_aspect_ratio": 6,
       "scale_x": "IPY_MODEL_e86ee4b21f724b19b6dfa9db0f10f9a2",
       "scale_y": "IPY_MODEL_81e6a9394ada4d418239a651fb65a10f",
       "title": "St. Martin (French part)"
      }
     },
     "74ada0d21e834456a4d870a1b20d8393": {
      "model_module": "jupyter-js-widgets",
      "model_module_version": "~2.1.4",
      "model_name": "LabelModel",
      "state": {
       "_model_module_version": "~2.1.4",
       "_view_module_version": "~2.1.4",
       "layout": "IPY_MODEL_42466ff9aaf84ff680acf64513dc5ce3",
       "value": "['PAN', 'FRA', 'PHL']"
      }
     },
     "81e6a9394ada4d418239a651fb65a10f": {
      "model_module": "bqplot",
      "model_module_version": "^0.2.3",
      "model_name": "LinearScaleModel",
      "state": {
       "allow_padding": false,
       "max": 1,
       "min": 0,
       "stabilized": false
      }
     },
     "86bf7b0b839c4e1c97c84ed600502759": {
      "model_module": "bqplot",
      "model_module_version": "^0.2.3",
      "model_name": "MarketMapModel",
      "state": {
       "_dom_classes": [],
       "axes": [
        "IPY_MODEL_67e5b4d5617c42c6b5c52f2f2e8adccc"
       ],
       "color": {
        "type": "float",
        "values": [
         41000,
         42500,
         666,
         14000,
         4620,
         3650,
         5940,
         12900,
         null,
         51100,
         61900,
         25400,
         7880,
         4800,
         15200,
         1100,
         47500,
         720,
         7710,
         25200,
         295,
         825,
         85700,
         40800,
         3150,
         11600,
         22200,
         2380,
         7760,
         8040,
         4890,
         50300,
         475,
         379,
         3100,
         84700,
         1650,
         14500,
         1430,
         7590,
         7720,
         10000,
         73600,
         6850,
         3720,
         null,
         27200,
         19600,
         47600,
         1780,
         60600,
         7430,
         6080,
         5360,
         6290,
         19700,
         3440,
         590,
         30300,
         568,
         49500,
         4540,
         3050,
         52800,
         42700,
         10100,
         45600,
         8300,
         3670,
         1460,
         22500,
         423,
         550,
         18400,
         21700,
         3700,
         null,
         586,
         4020,
         40200,
         2350,
         13500,
         833,
         13900,
         3510,
         53300,
         37000,
         49700,
         1630,
         6430,
         5290,
         52100,
         35000,
         5290,
         5420,
         36200,
         1340,
         1270,
         1080,
         1600,
         861,
         15200,
         null,
         28000,
         52200,
         64100,
         12300,
         1710,
         10100,
         7440,
         150000,
         3630,
         461,
         995,
         16400,
         111000,
         16000,
         6580,
         3140,
         163000,
         2230,
         7370,
         null,
         449,
         3630,
         5370,
         766,
         1200,
         4170,
         null,
         1270,
         22800,
         10000,
         8620,
         253,
         10400,
         10800,
         619,
         5720,
         12600,
         441,
         3180,
         1910,
         51600,
         97400,
         698,
         42400,
         20800,
         11800,
         6590,
         14500,
         2110,
         2840,
         1330,
         14400,
         28700,
         22100,
         11900,
         4480,
         93400,
         10000,
         6150,
         12700,
         652,
         25400,
         2020,
         15400,
         1900,
         58900,
         56300,
         24000,
         18400,
         788,
         62200,
         1070,
         145,
         9830,
         1110,
         1690,
         3950,
         null,
         2070,
         2680,
         null,
         1050,
         646,
         5560,
         1100,
         1280,
         9030,
         4320,
         4110,
         10500,
         18200,
         3880,
         null,
         998,
         3080,
         677,
         54600,
         16800,
         2040,
         6660,
         16500,
         18700,
         2050,
         3170,
         4170,
         1470,
         6480,
         1800,
         936
        ]
       },
       "colors": [
        "#1f77b4",
        "#ff7f0e",
        "#2ca02c",
        "#d62728",
        "#9467bd",
        "#8c564b",
        "#e377c2",
        "#7f7f7f",
        "#bcbd22",
        "#17becf"
       ],
       "cols": 25,
       "display_text": {
        "type": null,
        "values": null
       },
       "groups": {
        "type": "object",
        "values": [
         "Europe",
         "Asia",
         "Asia",
         "North America",
         "Europe",
         "Asia",
         "Africa",
         "South America",
         "Australia and Oceania",
         "Europe",
         "Australia and Oceania",
         "North America",
         "Asia",
         "Europe",
         "North America",
         "Asia",
         "Europe",
         "Africa",
         "Europe",
         "Asia",
         "Africa",
         "Africa",
         "North America",
         "Asia",
         "South America",
         "South America",
         "North America",
         "Asia",
         "Africa",
         "Europe",
         "North America",
         "North America",
         "Africa",
         "Africa",
         "Africa",
         "Europe",
         "Africa",
         "South America",
         "Africa",
         "Asia",
         "South America",
         "North America",
         "Australia and Oceania",
         "North America",
         "Africa",
         "North America",
         "Asia",
         "Europe",
         "Europe",
         "Africa",
         "Europe",
         "North America",
         "North America",
         "Africa",
         "South America",
         "Europe",
         "Africa",
         "Africa",
         "Europe",
         "Africa",
         "Europe",
         "Australia and Oceania",
         "Australia and Oceania",
         "Europe",
         "Europe",
         "Africa",
         "Europe",
         "North America",
         "Asia",
         "Africa",
         "North America",
         "Africa",
         "Africa",
         "Africa",
         "Europe",
         "North America",
         "Australia and Oceania",
         "Africa",
         "South America",
         "Asia",
         "North America",
         "Europe",
         "North America",
         "Europe",
         "Asia",
         "Europe",
         "Asia",
         "Europe",
         "Asia",
         "Asia",
         "Asia",
         "Europe",
         "Europe",
         "North America",
         "Asia",
         "Asia",
         "Africa",
         "Asia",
         "Asia",
         "Australia and Oceania",
         "Africa",
         "North America",
         "Asia",
         "Asia",
         "Asia",
         "North America",
         "Asia",
         "Asia",
         "Asia",
         "North America",
         "Europe",
         "Asia",
         "Africa",
         "Africa",
         "Europe",
         "Europe",
         "Europe",
         "Africa",
         "Africa",
         "Europe",
         "Europe",
         "Europe",
         "North America",
         "Africa",
         "Australia and Oceania",
         "Europe",
         "Africa",
         "Asia",
         "Asia",
         "Australia and Oceania",
         "Africa",
         "Europe",
         "Africa",
         "Asia",
         "Africa",
         "North America",
         "Asia",
         "Africa",
         "Africa",
         "Australia and Oceania",
         "Africa",
         "Africa",
         "North America",
         "Europe",
         "Europe",
         "Asia",
         "Australia and Oceania",
         "Asia",
         "North America",
         "South America",
         "Australia and Oceania",
         "Australia and Oceania",
         "Asia",
         "Asia",
         "Europe",
         "North America",
         "Europe",
         "Australia and Oceania",
         "South America",
         "Asia",
         "Europe",
         "Europe",
         "Europe",
         "Africa",
         "Asia",
         "Australia and Oceania",
         "Africa",
         "Africa",
         "Europe",
         "Asia",
         "Europe",
         "Europe",
         "Africa",
         "Europe",
         "Africa",
         "Africa",
         "South America",
         "Africa",
         "Africa",
         "North America",
         "North America",
         "Asia",
         "Africa",
         "North America",
         "Africa",
         "Africa",
         "Asia",
         "Asia",
         "Asia",
         "Asia",
         "Africa",
         "Australia and Oceania",
         "Europe",
         "North America",
         "Australia and Oceania",
         "Asia",
         "Africa",
         "Europe",
         "Africa",
         "North America",
         "South America",
         "Asia",
         "North America",
         "South America",
         "North America",
         "Asia",
         "Australia and Oceania",
         "Australia and Oceania",
         "Asia",
         "Africa",
         "Africa",
         "Africa"
        ]
       },
       "hovered_stroke": "violet",
       "layout": "IPY_MODEL_521fd2e1cd9747e8baf215a691b8f5bf",
       "max_aspect_ratio": 6,
       "min_aspect_ratio": 1,
       "names": {
        "type": "object",
        "values": [
         "ADO",
         "ARE",
         "AFG",
         "ATG",
         "ALB",
         "ARM",
         "AGO",
         "ARG",
         "ASM",
         "AUT",
         "AUS",
         "ABW",
         "AZE",
         "BIH",
         "BRB",
         "BGD",
         "BEL",
         "BFA",
         "BGR",
         "BHR",
         "BDI",
         "BEN",
         "BMU",
         "BRN",
         "BOL",
         "BRA",
         "BHS",
         "BTN",
         "BWA",
         "BLR",
         "BLZ",
         "CAN",
         "ZAR",
         "CAF",
         "COG",
         "CHE",
         "CIV",
         "CHL",
         "CMR",
         "CHN",
         "COL",
         "CRI",
         "CHI",
         "CUB",
         "CPV",
         "CUW",
         "CYP",
         "CZE",
         "DEU",
         "DJI",
         "DNK",
         "DMA",
         "DOM",
         "DZA",
         "ECU",
         "EST",
         "EGY",
         "ERI",
         "ESP",
         "ETH",
         "FIN",
         "FJI",
         "FSM",
         "FRO",
         "FRA",
         "GAB",
         "GBR",
         "GRD",
         "GEO",
         "GHA",
         "GRL",
         "GMB",
         "GIN",
         "GNQ",
         "GRC",
         "GTM",
         "GUM",
         "GNB",
         "GUY",
         "HKG",
         "HND",
         "HRV",
         "HTI",
         "HUN",
         "IDN",
         "IRL",
         "ISR",
         "IMY",
         "IND",
         "IRQ",
         "IRN",
         "ISL",
         "ITA",
         "JAM",
         "JOR",
         "JPN",
         "KEN",
         "KGZ",
         "KHM",
         "KIR",
         "COM",
         "KNA",
         "PRK",
         "KOR",
         "KWT",
         "CYM",
         "KAZ",
         "LAO",
         "LBN",
         "LCA",
         "LIE",
         "LKA",
         "LBR",
         "LSO",
         "LTU",
         "LUX",
         "LVA",
         "LBY",
         "MAR",
         "MCO",
         "MDA",
         "MNE",
         "MAF",
         "MDG",
         "MHL",
         "MKD",
         "MLI",
         "MMR",
         "MNG",
         "MNP",
         "MRT",
         "MLT",
         "MUS",
         "MDV",
         "MWI",
         "MEX",
         "MYS",
         "MOZ",
         "NAM",
         "NCL",
         "NER",
         "NGA",
         "NIC",
         "NLD",
         "NOR",
         "NPL",
         "NZL",
         "OMN",
         "PAN",
         "PER",
         "PYF",
         "PNG",
         "PHL",
         "PAK",
         "POL",
         "PRI",
         "PRT",
         "PLW",
         "PRY",
         "QAT",
         "ROM",
         "SRB",
         "RUS",
         "RWA",
         "SAU",
         "SLB",
         "SYC",
         "SDN",
         "SWE",
         "SGP",
         "SVN",
         "SVK",
         "SLE",
         "SMR",
         "SEN",
         "SOM",
         "SUR",
         "SSD",
         "STP",
         "SLV",
         "SXM",
         "SYR",
         "SWZ",
         "TCA",
         "TCD",
         "TGO",
         "THA",
         "TJK",
         "TMP",
         "TKM",
         "TUN",
         "TON",
         "TUR",
         "TTO",
         "TUV",
         "TWN",
         "TZA",
         "UKR",
         "UGA",
         "USA",
         "URY",
         "UZB",
         "VCT",
         "VEN",
         "VIR",
         "VNM",
         "VUT",
         "WSM",
         "YEM",
         "ZAF",
         "ZMB",
         "ZWE"
        ]
       },
       "ref_data": [
        {
         "Continent": "Europe",
         "GDP": 41000,
         "Name": "Andorra"
        },
        {
         "Continent": "Asia",
         "GDP": 42500,
         "Name": "United Arab Emirates"
        },
        {
         "Continent": "Asia",
         "GDP": 666,
         "Name": "Afghanistan"
        },
        {
         "Continent": "North America",
         "GDP": 14000,
         "Name": "Antigua and Barbuda"
        },
        {
         "Continent": "Europe",
         "GDP": 4620,
         "Name": "Albania"
        },
        {
         "Continent": "Asia",
         "GDP": 3650,
         "Name": "Armenia"
        },
        {
         "Continent": "Africa",
         "GDP": 5940,
         "Name": "Angola"
        },
        {
         "Continent": "South America",
         "GDP": 12900,
         "Name": "Argentina"
        },
        {
         "Continent": "Australia and Oceania",
         "GDP": "nan",
         "Name": "American Samoa"
        },
        {
         "Continent": "Europe",
         "GDP": 51100,
         "Name": "Austria"
        },
        {
         "Continent": "Australia and Oceania",
         "GDP": 61900,
         "Name": "Australia"
        },
        {
         "Continent": "North America",
         "GDP": 25400,
         "Name": "Aruba"
        },
        {
         "Continent": "Asia",
         "GDP": 7880,
         "Name": "Azerbaijan"
        },
        {
         "Continent": "Europe",
         "GDP": 4800,
         "Name": "Bosnia and Herzegovina"
        },
        {
         "Continent": "North America",
         "GDP": 15200,
         "Name": "Barbados"
        },
        {
         "Continent": "Asia",
         "GDP": 1100,
         "Name": "Bangladesh"
        },
        {
         "Continent": "Europe",
         "GDP": 47500,
         "Name": "Belgium"
        },
        {
         "Continent": "Africa",
         "GDP": 720,
         "Name": "Burkina Faso"
        },
        {
         "Continent": "Europe",
         "GDP": 7710,
         "Name": "Bulgaria"
        },
        {
         "Continent": "Asia",
         "GDP": 25200,
         "Name": "Bahrain"
        },
        {
         "Continent": "Africa",
         "GDP": 295,
         "Name": "Burundi"
        },
        {
         "Continent": "Africa",
         "GDP": 825,
         "Name": "Benin"
        },
        {
         "Continent": "North America",
         "GDP": 85700,
         "Name": "Bermuda"
        },
        {
         "Continent": "Asia",
         "GDP": 40800,
         "Name": "Brunei Darussalam"
        },
        {
         "Continent": "South America",
         "GDP": 3150,
         "Name": "Bolivia"
        },
        {
         "Continent": "South America",
         "GDP": 11600,
         "Name": "Brazil"
        },
        {
         "Continent": "North America",
         "GDP": 22200,
         "Name": "Bahamas, The"
        },
        {
         "Continent": "Asia",
         "GDP": 2380,
         "Name": "Bhutan"
        },
        {
         "Continent": "Africa",
         "GDP": 7760,
         "Name": "Botswana"
        },
        {
         "Continent": "Europe",
         "GDP": 8040,
         "Name": "Belarus"
        },
        {
         "Continent": "North America",
         "GDP": 4890,
         "Name": "Belize"
        },
        {
         "Continent": "North America",
         "GDP": 50300,
         "Name": "Canada"
        },
        {
         "Continent": "Africa",
         "GDP": 475,
         "Name": "Congo, Dem. Rep."
        },
        {
         "Continent": "Africa",
         "GDP": 379,
         "Name": "Central African Republic"
        },
        {
         "Continent": "Africa",
         "GDP": 3100,
         "Name": "Congo, Rep."
        },
        {
         "Continent": "Europe",
         "GDP": 84700,
         "Name": "Switzerland"
        },
        {
         "Continent": "Africa",
         "GDP": 1650,
         "Name": "Cote d'Ivoire"
        },
        {
         "Continent": "South America",
         "GDP": 14500,
         "Name": "Chile"
        },
        {
         "Continent": "Africa",
         "GDP": 1430,
         "Name": "Cameroon"
        },
        {
         "Continent": "Asia",
         "GDP": 7590,
         "Name": "China"
        },
        {
         "Continent": "South America",
         "GDP": 7720,
         "Name": "Colombia"
        },
        {
         "Continent": "North America",
         "GDP": 10000,
         "Name": "Costa Rica"
        },
        {
         "Continent": "Australia and Oceania",
         "GDP": 73600,
         "Name": "Channel Islands"
        },
        {
         "Continent": "North America",
         "GDP": 6850,
         "Name": "Cuba"
        },
        {
         "Continent": "Africa",
         "GDP": 3720,
         "Name": "Cabo Verde"
        },
        {
         "Continent": "North America",
         "GDP": "nan",
         "Name": "Curacao"
        },
        {
         "Continent": "Asia",
         "GDP": 27200,
         "Name": "Cyprus"
        },
        {
         "Continent": "Europe",
         "GDP": 19600,
         "Name": "Czech Republic"
        },
        {
         "Continent": "Europe",
         "GDP": 47600,
         "Name": "Germany"
        },
        {
         "Continent": "Africa",
         "GDP": 1780,
         "Name": "Djibouti"
        },
        {
         "Continent": "Europe",
         "GDP": 60600,
         "Name": "Denmark"
        },
        {
         "Continent": "North America",
         "GDP": 7430,
         "Name": "Dominica"
        },
        {
         "Continent": "North America",
         "GDP": 6080,
         "Name": "Dominican Republic"
        },
        {
         "Continent": "Africa",
         "GDP": 5360,
         "Name": "Algeria"
        },
        {
         "Continent": "South America",
         "GDP": 6290,
         "Name": "Ecuador"
        },
        {
         "Continent": "Europe",
         "GDP": 19700,
         "Name": "Estonia"
        },
        {
         "Continent": "Africa",
         "GDP": 3440,
         "Name": "Egypt, Arab Rep."
        },
        {
         "Continent": "Africa",
         "GDP": 590,
         "Name": "Eritrea"
        },
        {
         "Continent": "Europe",
         "GDP": 30300,
         "Name": "Spain"
        },
        {
         "Continent": "Africa",
         "GDP": 568,
         "Name": "Ethiopia"
        },
        {
         "Continent": "Europe",
         "GDP": 49500,
         "Name": "Finland"
        },
        {
         "Continent": "Australia and Oceania",
         "GDP": 4540,
         "Name": "Fiji"
        },
        {
         "Continent": "Australia and Oceania",
         "GDP": 3050,
         "Name": "Micronesia, Fed. Sts."
        },
        {
         "Continent": "Europe",
         "GDP": 52800,
         "Name": "Faeroe Islands"
        },
        {
         "Continent": "Europe",
         "GDP": 42700,
         "Name": "France"
        },
        {
         "Continent": "Africa",
         "GDP": 10100,
         "Name": "Gabon"
        },
        {
         "Continent": "Europe",
         "GDP": 45600,
         "Name": "United Kingdom"
        },
        {
         "Continent": "North America",
         "GDP": 8300,
         "Name": "Grenada"
        },
        {
         "Continent": "Asia",
         "GDP": 3670,
         "Name": "Georgia"
        },
        {
         "Continent": "Africa",
         "GDP": 1460,
         "Name": "Ghana"
        },
        {
         "Continent": "North America",
         "GDP": 22500,
         "Name": "Greenland"
        },
        {
         "Continent": "Africa",
         "GDP": 423,
         "Name": "Gambia, The"
        },
        {
         "Continent": "Africa",
         "GDP": 550,
         "Name": "Guinea"
        },
        {
         "Continent": "Africa",
         "GDP": 18400,
         "Name": "Equatorial Guinea"
        },
        {
         "Continent": "Europe",
         "GDP": 21700,
         "Name": "Greece"
        },
        {
         "Continent": "North America",
         "GDP": 3700,
         "Name": "Guatemala"
        },
        {
         "Continent": "Australia and Oceania",
         "GDP": "nan",
         "Name": "Guam"
        },
        {
         "Continent": "Africa",
         "GDP": 586,
         "Name": "Guinea-Bissau"
        },
        {
         "Continent": "South America",
         "GDP": 4020,
         "Name": "Guyana"
        },
        {
         "Continent": "Asia",
         "GDP": 40200,
         "Name": "Hong Kong SAR, China"
        },
        {
         "Continent": "North America",
         "GDP": 2350,
         "Name": "Honduras"
        },
        {
         "Continent": "Europe",
         "GDP": 13500,
         "Name": "Croatia"
        },
        {
         "Continent": "North America",
         "GDP": 833,
         "Name": "Haiti"
        },
        {
         "Continent": "Europe",
         "GDP": 13900,
         "Name": "Hungary"
        },
        {
         "Continent": "Asia",
         "GDP": 3510,
         "Name": "Indonesia"
        },
        {
         "Continent": "Europe",
         "GDP": 53300,
         "Name": "Ireland"
        },
        {
         "Continent": "Asia",
         "GDP": 37000,
         "Name": "Israel"
        },
        {
         "Continent": "Europe",
         "GDP": 49700,
         "Name": "Isle of Man"
        },
        {
         "Continent": "Asia",
         "GDP": 1630,
         "Name": "India"
        },
        {
         "Continent": "Asia",
         "GDP": 6430,
         "Name": "Iraq"
        },
        {
         "Continent": "Asia",
         "GDP": 5290,
         "Name": "Iran, Islamic Rep."
        },
        {
         "Continent": "Europe",
         "GDP": 52100,
         "Name": "Iceland"
        },
        {
         "Continent": "Europe",
         "GDP": 35000,
         "Name": "Italy"
        },
        {
         "Continent": "North America",
         "GDP": 5290,
         "Name": "Jamaica"
        },
        {
         "Continent": "Asia",
         "GDP": 5420,
         "Name": "Jordan"
        },
        {
         "Continent": "Asia",
         "GDP": 36200,
         "Name": "Japan"
        },
        {
         "Continent": "Africa",
         "GDP": 1340,
         "Name": "Kenya"
        },
        {
         "Continent": "Asia",
         "GDP": 1270,
         "Name": "Kyrgyz Republic"
        },
        {
         "Continent": "Asia",
         "GDP": 1080,
         "Name": "Cambodia"
        },
        {
         "Continent": "Australia and Oceania",
         "GDP": 1600,
         "Name": "Kiribati"
        },
        {
         "Continent": "Africa",
         "GDP": 861,
         "Name": "Comoros"
        },
        {
         "Continent": "North America",
         "GDP": 15200,
         "Name": "St. Kitts and Nevis"
        },
        {
         "Continent": "Asia",
         "GDP": "nan",
         "Name": "Korea, Dem. Rep."
        },
        {
         "Continent": "Asia",
         "GDP": 28000,
         "Name": "Korea, Rep."
        },
        {
         "Continent": "Asia",
         "GDP": 52200,
         "Name": "Kuwait"
        },
        {
         "Continent": "North America",
         "GDP": 64100,
         "Name": "Cayman Islands"
        },
        {
         "Continent": "Asia",
         "GDP": 12300,
         "Name": "Kazakhstan"
        },
        {
         "Continent": "Asia",
         "GDP": 1710,
         "Name": "Lao PDR"
        },
        {
         "Continent": "Asia",
         "GDP": 10100,
         "Name": "Lebanon"
        },
        {
         "Continent": "North America",
         "GDP": 7440,
         "Name": "St. Lucia"
        },
        {
         "Continent": "Europe",
         "GDP": 150000,
         "Name": "Liechtenstein"
        },
        {
         "Continent": "Asia",
         "GDP": 3630,
         "Name": "Sri Lanka"
        },
        {
         "Continent": "Africa",
         "GDP": 461,
         "Name": "Liberia"
        },
        {
         "Continent": "Africa",
         "GDP": 995,
         "Name": "Lesotho"
        },
        {
         "Continent": "Europe",
         "GDP": 16400,
         "Name": "Lithuania"
        },
        {
         "Continent": "Europe",
         "GDP": 111000,
         "Name": "Luxembourg"
        },
        {
         "Continent": "Europe",
         "GDP": 16000,
         "Name": "Latvia"
        },
        {
         "Continent": "Africa",
         "GDP": 6580,
         "Name": "Libya"
        },
        {
         "Continent": "Africa",
         "GDP": 3140,
         "Name": "Morocco"
        },
        {
         "Continent": "Europe",
         "GDP": 163000,
         "Name": "Monaco"
        },
        {
         "Continent": "Europe",
         "GDP": 2230,
         "Name": "Moldova"
        },
        {
         "Continent": "Europe",
         "GDP": 7370,
         "Name": "Montenegro"
        },
        {
         "Continent": "North America",
         "GDP": "nan",
         "Name": "St. Martin (French part)"
        },
        {
         "Continent": "Africa",
         "GDP": 449,
         "Name": "Madagascar"
        },
        {
         "Continent": "Australia and Oceania",
         "GDP": 3630,
         "Name": "Marshall Islands"
        },
        {
         "Continent": "Europe",
         "GDP": 5370,
         "Name": "Macedonia, FYR"
        },
        {
         "Continent": "Africa",
         "GDP": 766,
         "Name": "Mali"
        },
        {
         "Continent": "Asia",
         "GDP": 1200,
         "Name": "Myanmar"
        },
        {
         "Continent": "Asia",
         "GDP": 4170,
         "Name": "Mongolia"
        },
        {
         "Continent": "Australia and Oceania",
         "GDP": "nan",
         "Name": "Northern Mariana Islands"
        },
        {
         "Continent": "Africa",
         "GDP": 1270,
         "Name": "Mauritania"
        },
        {
         "Continent": "Europe",
         "GDP": 22800,
         "Name": "Malta"
        },
        {
         "Continent": "Africa",
         "GDP": 10000,
         "Name": "Mauritius"
        },
        {
         "Continent": "Asia",
         "GDP": 8620,
         "Name": "Maldives"
        },
        {
         "Continent": "Africa",
         "GDP": 253,
         "Name": "Malawi"
        },
        {
         "Continent": "North America",
         "GDP": 10400,
         "Name": "Mexico"
        },
        {
         "Continent": "Asia",
         "GDP": 10800,
         "Name": "Malaysia"
        },
        {
         "Continent": "Africa",
         "GDP": 619,
         "Name": "Mozambique"
        },
        {
         "Continent": "Africa",
         "GDP": 5720,
         "Name": "Namibia"
        },
        {
         "Continent": "Australia and Oceania",
         "GDP": 12600,
         "Name": "New Caledonia"
        },
        {
         "Continent": "Africa",
         "GDP": 441,
         "Name": "Niger"
        },
        {
         "Continent": "Africa",
         "GDP": 3180,
         "Name": "Nigeria"
        },
        {
         "Continent": "North America",
         "GDP": 1910,
         "Name": "Nicaragua"
        },
        {
         "Continent": "Europe",
         "GDP": 51600,
         "Name": "Netherlands"
        },
        {
         "Continent": "Europe",
         "GDP": 97400,
         "Name": "Norway"
        },
        {
         "Continent": "Asia",
         "GDP": 698,
         "Name": "Nepal"
        },
        {
         "Continent": "Australia and Oceania",
         "GDP": 42400,
         "Name": "New Zealand"
        },
        {
         "Continent": "Asia",
         "GDP": 20800,
         "Name": "Oman"
        },
        {
         "Continent": "North America",
         "GDP": 11800,
         "Name": "Panama"
        },
        {
         "Continent": "South America",
         "GDP": 6590,
         "Name": "Peru"
        },
        {
         "Continent": "Australia and Oceania",
         "GDP": 14500,
         "Name": "French Polynesia"
        },
        {
         "Continent": "Australia and Oceania",
         "GDP": 2110,
         "Name": "Papua New Guinea"
        },
        {
         "Continent": "Asia",
         "GDP": 2840,
         "Name": "Philippines"
        },
        {
         "Continent": "Asia",
         "GDP": 1330,
         "Name": "Pakistan"
        },
        {
         "Continent": "Europe",
         "GDP": 14400,
         "Name": "Poland"
        },
        {
         "Continent": "North America",
         "GDP": 28700,
         "Name": "Puerto Rico"
        },
        {
         "Continent": "Europe",
         "GDP": 22100,
         "Name": "Portugal"
        },
        {
         "Continent": "Australia and Oceania",
         "GDP": 11900,
         "Name": "Palau"
        },
        {
         "Continent": "South America",
         "GDP": 4480,
         "Name": "Paraguay"
        },
        {
         "Continent": "Asia",
         "GDP": 93400,
         "Name": "Qatar"
        },
        {
         "Continent": "Europe",
         "GDP": 10000,
         "Name": "Romania"
        },
        {
         "Continent": "Europe",
         "GDP": 6150,
         "Name": "Serbia"
        },
        {
         "Continent": "Europe",
         "GDP": 12700,
         "Name": "Russian Federation"
        },
        {
         "Continent": "Africa",
         "GDP": 652,
         "Name": "Rwanda"
        },
        {
         "Continent": "Asia",
         "GDP": 25400,
         "Name": "Saudi Arabia"
        },
        {
         "Continent": "Australia and Oceania",
         "GDP": 2020,
         "Name": "Solomon Islands"
        },
        {
         "Continent": "Africa",
         "GDP": 15400,
         "Name": "Seychelles"
        },
        {
         "Continent": "Africa",
         "GDP": 1900,
         "Name": "Sudan"
        },
        {
         "Continent": "Europe",
         "GDP": 58900,
         "Name": "Sweden"
        },
        {
         "Continent": "Asia",
         "GDP": 56300,
         "Name": "Singapore"
        },
        {
         "Continent": "Europe",
         "GDP": 24000,
         "Name": "Slovenia"
        },
        {
         "Continent": "Europe",
         "GDP": 18400,
         "Name": "Slovak Republic"
        },
        {
         "Continent": "Africa",
         "GDP": 788,
         "Name": "Sierra Leone"
        },
        {
         "Continent": "Europe",
         "GDP": 62200,
         "Name": "San Marino"
        },
        {
         "Continent": "Africa",
         "GDP": 1070,
         "Name": "Senegal"
        },
        {
         "Continent": "Africa",
         "GDP": 145,
         "Name": "Somalia"
        },
        {
         "Continent": "South America",
         "GDP": 9830,
         "Name": "Suriname"
        },
        {
         "Continent": "Africa",
         "GDP": 1110,
         "Name": "South Sudan"
        },
        {
         "Continent": "Africa",
         "GDP": 1690,
         "Name": "Sao Tome and Principe"
        },
        {
         "Continent": "North America",
         "GDP": 3950,
         "Name": "El Salvador"
        },
        {
         "Continent": "North America",
         "GDP": "nan",
         "Name": "Sint Maarten (Dutch part)"
        },
        {
         "Continent": "Asia",
         "GDP": 2070,
         "Name": "Syrian Arab Republic"
        },
        {
         "Continent": "Africa",
         "GDP": 2680,
         "Name": "Swaziland"
        },
        {
         "Continent": "North America",
         "GDP": "nan",
         "Name": "Turks and Caicos Islands"
        },
        {
         "Continent": "Africa",
         "GDP": 1050,
         "Name": "Chad"
        },
        {
         "Continent": "Africa",
         "GDP": 646,
         "Name": "Togo"
        },
        {
         "Continent": "Asia",
         "GDP": 5560,
         "Name": "Thailand"
        },
        {
         "Continent": "Asia",
         "GDP": 1100,
         "Name": "Tajikistan"
        },
        {
         "Continent": "Asia",
         "GDP": 1280,
         "Name": "Timor-Leste"
        },
        {
         "Continent": "Asia",
         "GDP": 9030,
         "Name": "Turkmenistan"
        },
        {
         "Continent": "Africa",
         "GDP": 4320,
         "Name": "Tunisia"
        },
        {
         "Continent": "Australia and Oceania",
         "GDP": 4110,
         "Name": "Tonga"
        },
        {
         "Continent": "Europe",
         "GDP": 10500,
         "Name": "Turkey"
        },
        {
         "Continent": "North America",
         "GDP": 18200,
         "Name": "Trinidad and Tobago"
        },
        {
         "Continent": "Australia and Oceania",
         "GDP": 3880,
         "Name": "Tuvalu"
        },
        {
         "Continent": "Asia",
         "GDP": "nan",
         "Name": "Taiwan, China"
        },
        {
         "Continent": "Africa",
         "GDP": 998,
         "Name": "Tanzania"
        },
        {
         "Continent": "Europe",
         "GDP": 3080,
         "Name": "Ukraine"
        },
        {
         "Continent": "Africa",
         "GDP": 677,
         "Name": "Uganda"
        },
        {
         "Continent": "North America",
         "GDP": 54600,
         "Name": "United States"
        },
        {
         "Continent": "South America",
         "GDP": 16800,
         "Name": "Uruguay"
        },
        {
         "Continent": "Asia",
         "GDP": 2040,
         "Name": "Uzbekistan"
        },
        {
         "Continent": "North America",
         "GDP": 6660,
         "Name": "St. Vincent and the Grenadines"
        },
        {
         "Continent": "South America",
         "GDP": 16500,
         "Name": "Venezuela, RB"
        },
        {
         "Continent": "North America",
         "GDP": 18700,
         "Name": "Virgin Islands (U.S.)"
        },
        {
         "Continent": "Asia",
         "GDP": 2050,
         "Name": "Vietnam"
        },
        {
         "Continent": "Australia and Oceania",
         "GDP": 3170,
         "Name": "Vanuatu"
        },
        {
         "Continent": "Australia and Oceania",
         "GDP": 4170,
         "Name": "Samoa"
        },
        {
         "Continent": "Asia",
         "GDP": 1470,
         "Name": "Yemen, Rep."
        },
        {
         "Continent": "Africa",
         "GDP": 6480,
         "Name": "South Africa"
        },
        {
         "Continent": "Africa",
         "GDP": 1800,
         "Name": "Zambia"
        },
        {
         "Continent": "Africa",
         "GDP": 936,
         "Name": "Zimbabwe"
        }
       ],
       "row_groups": 3,
       "scales": {
        "color": "IPY_MODEL_dfef0ac61b194f529d5a80a47dad004b"
       },
       "selected": [
        "PAN",
        "FRA",
        "PHL"
       ],
       "selected_stroke": "yellow",
       "tooltip_fields": [
        "Name",
        "Continent",
        "GDP"
       ],
       "tooltip_formats": [
        "",
        "",
        ".1f"
       ]
      }
     },
     "8cadce01ac664fb9940b8b63ce36ff49": {
      "model_module": "jupyter-js-widgets",
      "model_module_version": "~2.1.4",
      "model_name": "LayoutModel",
      "state": {
       "_model_module_version": "~2.1.4",
       "_view_module_version": "~2.1.4",
       "min_width": "125px"
      }
     },
     "b15266bba6a447fd91fe90f19296d3aa": {
      "model_module": "jupyter-js-widgets",
      "model_module_version": "~2.1.4",
      "model_name": "LayoutModel",
      "state": {
       "_model_module_version": "~2.1.4",
       "_view_module_version": "~2.1.4",
       "min_height": "600px",
       "min_width": "800px"
      }
     },
     "c16ee59f1bab4504974da0bfc92dd30c": {
      "model_module": "bqplot",
      "model_module_version": "^0.2.3",
      "model_name": "MarketMapModel",
      "state": {
       "_dom_classes": [],
       "color": {
        "type": "float",
        "values": []
       },
       "colors": [
        "MediumSeaGreen"
       ],
       "display_text": {
        "type": null,
        "values": null
       },
       "font_style": {
        "fill": "white",
        "font-size": "16px"
       },
       "groups": {
        "type": "float",
        "values": []
       },
       "layout": "IPY_MODEL_b15266bba6a447fd91fe90f19296d3aa",
       "max_aspect_ratio": 6,
       "min_aspect_ratio": 1,
       "names": {
        "type": "object",
        "values": [
         "ADO",
         "ARE",
         "AFG",
         "ATG",
         "ALB",
         "ARM",
         "AGO",
         "ARG",
         "ASM",
         "AUT",
         "AUS",
         "ABW",
         "AZE",
         "BIH",
         "BRB",
         "BGD",
         "BEL",
         "BFA",
         "BGR",
         "BHR",
         "BDI",
         "BEN",
         "BMU",
         "BRN",
         "BOL",
         "BRA",
         "BHS",
         "BTN",
         "BWA",
         "BLR",
         "BLZ",
         "CAN",
         "ZAR",
         "CAF",
         "COG",
         "CHE",
         "CIV",
         "CHL",
         "CMR",
         "CHN",
         "COL",
         "CRI",
         "CHI",
         "CUB",
         "CPV",
         "CUW",
         "CYP",
         "CZE",
         "DEU",
         "DJI",
         "DNK",
         "DMA",
         "DOM",
         "DZA",
         "ECU",
         "EST",
         "EGY",
         "ERI",
         "ESP",
         "ETH",
         "FIN",
         "FJI",
         "FSM",
         "FRO",
         "FRA",
         "GAB",
         "GBR",
         "GRD",
         "GEO",
         "GHA",
         "GRL",
         "GMB",
         "GIN",
         "GNQ",
         "GRC",
         "GTM",
         "GUM",
         "GNB",
         "GUY",
         "HKG",
         "HND",
         "HRV",
         "HTI",
         "HUN",
         "IDN",
         "IRL",
         "ISR",
         "IMY",
         "IND",
         "IRQ",
         "IRN",
         "ISL",
         "ITA",
         "JAM",
         "JOR",
         "JPN",
         "KEN",
         "KGZ",
         "KHM",
         "KIR",
         "COM",
         "KNA",
         "PRK",
         "KOR",
         "KWT",
         "CYM",
         "KAZ",
         "LAO",
         "LBN",
         "LCA",
         "LIE",
         "LKA",
         "LBR",
         "LSO",
         "LTU",
         "LUX",
         "LVA",
         "LBY",
         "MAR",
         "MCO",
         "MDA",
         "MNE",
         "MAF",
         "MDG",
         "MHL",
         "MKD",
         "MLI",
         "MMR",
         "MNG",
         "MNP",
         "MRT",
         "MLT",
         "MUS",
         "MDV",
         "MWI",
         "MEX",
         "MYS",
         "MOZ",
         "NAM",
         "NCL",
         "NER",
         "NGA",
         "NIC",
         "NLD",
         "NOR",
         "NPL",
         "NZL",
         "OMN",
         "PAN",
         "PER",
         "PYF",
         "PNG",
         "PHL",
         "PAK",
         "POL",
         "PRI",
         "PRT",
         "PLW",
         "PRY",
         "QAT",
         "ROM",
         "SRB",
         "RUS",
         "RWA",
         "SAU",
         "SLB",
         "SYC",
         "SDN",
         "SWE",
         "SGP",
         "SVN",
         "SVK",
         "SLE",
         "SMR",
         "SEN",
         "SOM",
         "SUR",
         "SSD",
         "STP",
         "SLV",
         "SXM",
         "SYR",
         "SWZ",
         "TCA",
         "TCD",
         "TGO",
         "THA",
         "TJK",
         "TMP",
         "TKM",
         "TUN",
         "TON",
         "TUR",
         "TTO",
         "TUV",
         "TWN",
         "TZA",
         "UKR",
         "UGA",
         "USA",
         "URY",
         "UZB",
         "VCT",
         "VEN",
         "VIR",
         "VNM",
         "VUT",
         "WSM",
         "YEM",
         "ZAF",
         "ZMB",
         "ZWE"
        ]
       },
       "ref_data": [
        {
         "Continent": "Europe",
         "Name": "Andorra"
        },
        {
         "Continent": "Asia",
         "Name": "United Arab Emirates"
        },
        {
         "Continent": "Asia",
         "Name": "Afghanistan"
        },
        {
         "Continent": "North America",
         "Name": "Antigua and Barbuda"
        },
        {
         "Continent": "Europe",
         "Name": "Albania"
        },
        {
         "Continent": "Asia",
         "Name": "Armenia"
        },
        {
         "Continent": "Africa",
         "Name": "Angola"
        },
        {
         "Continent": "South America",
         "Name": "Argentina"
        },
        {
         "Continent": "Australia and Oceania",
         "Name": "American Samoa"
        },
        {
         "Continent": "Europe",
         "Name": "Austria"
        },
        {
         "Continent": "Australia and Oceania",
         "Name": "Australia"
        },
        {
         "Continent": "North America",
         "Name": "Aruba"
        },
        {
         "Continent": "Asia",
         "Name": "Azerbaijan"
        },
        {
         "Continent": "Europe",
         "Name": "Bosnia and Herzegovina"
        },
        {
         "Continent": "North America",
         "Name": "Barbados"
        },
        {
         "Continent": "Asia",
         "Name": "Bangladesh"
        },
        {
         "Continent": "Europe",
         "Name": "Belgium"
        },
        {
         "Continent": "Africa",
         "Name": "Burkina Faso"
        },
        {
         "Continent": "Europe",
         "Name": "Bulgaria"
        },
        {
         "Continent": "Asia",
         "Name": "Bahrain"
        },
        {
         "Continent": "Africa",
         "Name": "Burundi"
        },
        {
         "Continent": "Africa",
         "Name": "Benin"
        },
        {
         "Continent": "North America",
         "Name": "Bermuda"
        },
        {
         "Continent": "Asia",
         "Name": "Brunei Darussalam"
        },
        {
         "Continent": "South America",
         "Name": "Bolivia"
        },
        {
         "Continent": "South America",
         "Name": "Brazil"
        },
        {
         "Continent": "North America",
         "Name": "Bahamas, The"
        },
        {
         "Continent": "Asia",
         "Name": "Bhutan"
        },
        {
         "Continent": "Africa",
         "Name": "Botswana"
        },
        {
         "Continent": "Europe",
         "Name": "Belarus"
        },
        {
         "Continent": "North America",
         "Name": "Belize"
        },
        {
         "Continent": "North America",
         "Name": "Canada"
        },
        {
         "Continent": "Africa",
         "Name": "Congo, Dem. Rep."
        },
        {
         "Continent": "Africa",
         "Name": "Central African Republic"
        },
        {
         "Continent": "Africa",
         "Name": "Congo, Rep."
        },
        {
         "Continent": "Europe",
         "Name": "Switzerland"
        },
        {
         "Continent": "Africa",
         "Name": "Cote d'Ivoire"
        },
        {
         "Continent": "South America",
         "Name": "Chile"
        },
        {
         "Continent": "Africa",
         "Name": "Cameroon"
        },
        {
         "Continent": "Asia",
         "Name": "China"
        },
        {
         "Continent": "South America",
         "Name": "Colombia"
        },
        {
         "Continent": "North America",
         "Name": "Costa Rica"
        },
        {
         "Continent": "Australia and Oceania",
         "Name": "Channel Islands"
        },
        {
         "Continent": "North America",
         "Name": "Cuba"
        },
        {
         "Continent": "Africa",
         "Name": "Cabo Verde"
        },
        {
         "Continent": "North America",
         "Name": "Curacao"
        },
        {
         "Continent": "Asia",
         "Name": "Cyprus"
        },
        {
         "Continent": "Europe",
         "Name": "Czech Republic"
        },
        {
         "Continent": "Europe",
         "Name": "Germany"
        },
        {
         "Continent": "Africa",
         "Name": "Djibouti"
        },
        {
         "Continent": "Europe",
         "Name": "Denmark"
        },
        {
         "Continent": "North America",
         "Name": "Dominica"
        },
        {
         "Continent": "North America",
         "Name": "Dominican Republic"
        },
        {
         "Continent": "Africa",
         "Name": "Algeria"
        },
        {
         "Continent": "South America",
         "Name": "Ecuador"
        },
        {
         "Continent": "Europe",
         "Name": "Estonia"
        },
        {
         "Continent": "Africa",
         "Name": "Egypt, Arab Rep."
        },
        {
         "Continent": "Africa",
         "Name": "Eritrea"
        },
        {
         "Continent": "Europe",
         "Name": "Spain"
        },
        {
         "Continent": "Africa",
         "Name": "Ethiopia"
        },
        {
         "Continent": "Europe",
         "Name": "Finland"
        },
        {
         "Continent": "Australia and Oceania",
         "Name": "Fiji"
        },
        {
         "Continent": "Australia and Oceania",
         "Name": "Micronesia, Fed. Sts."
        },
        {
         "Continent": "Europe",
         "Name": "Faeroe Islands"
        },
        {
         "Continent": "Europe",
         "Name": "France"
        },
        {
         "Continent": "Africa",
         "Name": "Gabon"
        },
        {
         "Continent": "Europe",
         "Name": "United Kingdom"
        },
        {
         "Continent": "North America",
         "Name": "Grenada"
        },
        {
         "Continent": "Asia",
         "Name": "Georgia"
        },
        {
         "Continent": "Africa",
         "Name": "Ghana"
        },
        {
         "Continent": "North America",
         "Name": "Greenland"
        },
        {
         "Continent": "Africa",
         "Name": "Gambia, The"
        },
        {
         "Continent": "Africa",
         "Name": "Guinea"
        },
        {
         "Continent": "Africa",
         "Name": "Equatorial Guinea"
        },
        {
         "Continent": "Europe",
         "Name": "Greece"
        },
        {
         "Continent": "North America",
         "Name": "Guatemala"
        },
        {
         "Continent": "Australia and Oceania",
         "Name": "Guam"
        },
        {
         "Continent": "Africa",
         "Name": "Guinea-Bissau"
        },
        {
         "Continent": "South America",
         "Name": "Guyana"
        },
        {
         "Continent": "Asia",
         "Name": "Hong Kong SAR, China"
        },
        {
         "Continent": "North America",
         "Name": "Honduras"
        },
        {
         "Continent": "Europe",
         "Name": "Croatia"
        },
        {
         "Continent": "North America",
         "Name": "Haiti"
        },
        {
         "Continent": "Europe",
         "Name": "Hungary"
        },
        {
         "Continent": "Asia",
         "Name": "Indonesia"
        },
        {
         "Continent": "Europe",
         "Name": "Ireland"
        },
        {
         "Continent": "Asia",
         "Name": "Israel"
        },
        {
         "Continent": "Europe",
         "Name": "Isle of Man"
        },
        {
         "Continent": "Asia",
         "Name": "India"
        },
        {
         "Continent": "Asia",
         "Name": "Iraq"
        },
        {
         "Continent": "Asia",
         "Name": "Iran, Islamic Rep."
        },
        {
         "Continent": "Europe",
         "Name": "Iceland"
        },
        {
         "Continent": "Europe",
         "Name": "Italy"
        },
        {
         "Continent": "North America",
         "Name": "Jamaica"
        },
        {
         "Continent": "Asia",
         "Name": "Jordan"
        },
        {
         "Continent": "Asia",
         "Name": "Japan"
        },
        {
         "Continent": "Africa",
         "Name": "Kenya"
        },
        {
         "Continent": "Asia",
         "Name": "Kyrgyz Republic"
        },
        {
         "Continent": "Asia",
         "Name": "Cambodia"
        },
        {
         "Continent": "Australia and Oceania",
         "Name": "Kiribati"
        },
        {
         "Continent": "Africa",
         "Name": "Comoros"
        },
        {
         "Continent": "North America",
         "Name": "St. Kitts and Nevis"
        },
        {
         "Continent": "Asia",
         "Name": "Korea, Dem. Rep."
        },
        {
         "Continent": "Asia",
         "Name": "Korea, Rep."
        },
        {
         "Continent": "Asia",
         "Name": "Kuwait"
        },
        {
         "Continent": "North America",
         "Name": "Cayman Islands"
        },
        {
         "Continent": "Asia",
         "Name": "Kazakhstan"
        },
        {
         "Continent": "Asia",
         "Name": "Lao PDR"
        },
        {
         "Continent": "Asia",
         "Name": "Lebanon"
        },
        {
         "Continent": "North America",
         "Name": "St. Lucia"
        },
        {
         "Continent": "Europe",
         "Name": "Liechtenstein"
        },
        {
         "Continent": "Asia",
         "Name": "Sri Lanka"
        },
        {
         "Continent": "Africa",
         "Name": "Liberia"
        },
        {
         "Continent": "Africa",
         "Name": "Lesotho"
        },
        {
         "Continent": "Europe",
         "Name": "Lithuania"
        },
        {
         "Continent": "Europe",
         "Name": "Luxembourg"
        },
        {
         "Continent": "Europe",
         "Name": "Latvia"
        },
        {
         "Continent": "Africa",
         "Name": "Libya"
        },
        {
         "Continent": "Africa",
         "Name": "Morocco"
        },
        {
         "Continent": "Europe",
         "Name": "Monaco"
        },
        {
         "Continent": "Europe",
         "Name": "Moldova"
        },
        {
         "Continent": "Europe",
         "Name": "Montenegro"
        },
        {
         "Continent": "North America",
         "Name": "St. Martin (French part)"
        },
        {
         "Continent": "Africa",
         "Name": "Madagascar"
        },
        {
         "Continent": "Australia and Oceania",
         "Name": "Marshall Islands"
        },
        {
         "Continent": "Europe",
         "Name": "Macedonia, FYR"
        },
        {
         "Continent": "Africa",
         "Name": "Mali"
        },
        {
         "Continent": "Asia",
         "Name": "Myanmar"
        },
        {
         "Continent": "Asia",
         "Name": "Mongolia"
        },
        {
         "Continent": "Australia and Oceania",
         "Name": "Northern Mariana Islands"
        },
        {
         "Continent": "Africa",
         "Name": "Mauritania"
        },
        {
         "Continent": "Europe",
         "Name": "Malta"
        },
        {
         "Continent": "Africa",
         "Name": "Mauritius"
        },
        {
         "Continent": "Asia",
         "Name": "Maldives"
        },
        {
         "Continent": "Africa",
         "Name": "Malawi"
        },
        {
         "Continent": "North America",
         "Name": "Mexico"
        },
        {
         "Continent": "Asia",
         "Name": "Malaysia"
        },
        {
         "Continent": "Africa",
         "Name": "Mozambique"
        },
        {
         "Continent": "Africa",
         "Name": "Namibia"
        },
        {
         "Continent": "Australia and Oceania",
         "Name": "New Caledonia"
        },
        {
         "Continent": "Africa",
         "Name": "Niger"
        },
        {
         "Continent": "Africa",
         "Name": "Nigeria"
        },
        {
         "Continent": "North America",
         "Name": "Nicaragua"
        },
        {
         "Continent": "Europe",
         "Name": "Netherlands"
        },
        {
         "Continent": "Europe",
         "Name": "Norway"
        },
        {
         "Continent": "Asia",
         "Name": "Nepal"
        },
        {
         "Continent": "Australia and Oceania",
         "Name": "New Zealand"
        },
        {
         "Continent": "Asia",
         "Name": "Oman"
        },
        {
         "Continent": "North America",
         "Name": "Panama"
        },
        {
         "Continent": "South America",
         "Name": "Peru"
        },
        {
         "Continent": "Australia and Oceania",
         "Name": "French Polynesia"
        },
        {
         "Continent": "Australia and Oceania",
         "Name": "Papua New Guinea"
        },
        {
         "Continent": "Asia",
         "Name": "Philippines"
        },
        {
         "Continent": "Asia",
         "Name": "Pakistan"
        },
        {
         "Continent": "Europe",
         "Name": "Poland"
        },
        {
         "Continent": "North America",
         "Name": "Puerto Rico"
        },
        {
         "Continent": "Europe",
         "Name": "Portugal"
        },
        {
         "Continent": "Australia and Oceania",
         "Name": "Palau"
        },
        {
         "Continent": "South America",
         "Name": "Paraguay"
        },
        {
         "Continent": "Asia",
         "Name": "Qatar"
        },
        {
         "Continent": "Europe",
         "Name": "Romania"
        },
        {
         "Continent": "Europe",
         "Name": "Serbia"
        },
        {
         "Continent": "Europe",
         "Name": "Russian Federation"
        },
        {
         "Continent": "Africa",
         "Name": "Rwanda"
        },
        {
         "Continent": "Asia",
         "Name": "Saudi Arabia"
        },
        {
         "Continent": "Australia and Oceania",
         "Name": "Solomon Islands"
        },
        {
         "Continent": "Africa",
         "Name": "Seychelles"
        },
        {
         "Continent": "Africa",
         "Name": "Sudan"
        },
        {
         "Continent": "Europe",
         "Name": "Sweden"
        },
        {
         "Continent": "Asia",
         "Name": "Singapore"
        },
        {
         "Continent": "Europe",
         "Name": "Slovenia"
        },
        {
         "Continent": "Europe",
         "Name": "Slovak Republic"
        },
        {
         "Continent": "Africa",
         "Name": "Sierra Leone"
        },
        {
         "Continent": "Europe",
         "Name": "San Marino"
        },
        {
         "Continent": "Africa",
         "Name": "Senegal"
        },
        {
         "Continent": "Africa",
         "Name": "Somalia"
        },
        {
         "Continent": "South America",
         "Name": "Suriname"
        },
        {
         "Continent": "Africa",
         "Name": "South Sudan"
        },
        {
         "Continent": "Africa",
         "Name": "Sao Tome and Principe"
        },
        {
         "Continent": "North America",
         "Name": "El Salvador"
        },
        {
         "Continent": "North America",
         "Name": "Sint Maarten (Dutch part)"
        },
        {
         "Continent": "Asia",
         "Name": "Syrian Arab Republic"
        },
        {
         "Continent": "Africa",
         "Name": "Swaziland"
        },
        {
         "Continent": "North America",
         "Name": "Turks and Caicos Islands"
        },
        {
         "Continent": "Africa",
         "Name": "Chad"
        },
        {
         "Continent": "Africa",
         "Name": "Togo"
        },
        {
         "Continent": "Asia",
         "Name": "Thailand"
        },
        {
         "Continent": "Asia",
         "Name": "Tajikistan"
        },
        {
         "Continent": "Asia",
         "Name": "Timor-Leste"
        },
        {
         "Continent": "Asia",
         "Name": "Turkmenistan"
        },
        {
         "Continent": "Africa",
         "Name": "Tunisia"
        },
        {
         "Continent": "Australia and Oceania",
         "Name": "Tonga"
        },
        {
         "Continent": "Europe",
         "Name": "Turkey"
        },
        {
         "Continent": "North America",
         "Name": "Trinidad and Tobago"
        },
        {
         "Continent": "Australia and Oceania",
         "Name": "Tuvalu"
        },
        {
         "Continent": "Asia",
         "Name": "Taiwan, China"
        },
        {
         "Continent": "Africa",
         "Name": "Tanzania"
        },
        {
         "Continent": "Europe",
         "Name": "Ukraine"
        },
        {
         "Continent": "Africa",
         "Name": "Uganda"
        },
        {
         "Continent": "North America",
         "Name": "United States"
        },
        {
         "Continent": "South America",
         "Name": "Uruguay"
        },
        {
         "Continent": "Asia",
         "Name": "Uzbekistan"
        },
        {
         "Continent": "North America",
         "Name": "St. Vincent and the Grenadines"
        },
        {
         "Continent": "South America",
         "Name": "Venezuela, RB"
        },
        {
         "Continent": "North America",
         "Name": "Virgin Islands (U.S.)"
        },
        {
         "Continent": "Asia",
         "Name": "Vietnam"
        },
        {
         "Continent": "Australia and Oceania",
         "Name": "Vanuatu"
        },
        {
         "Continent": "Australia and Oceania",
         "Name": "Samoa"
        },
        {
         "Continent": "Asia",
         "Name": "Yemen, Rep."
        },
        {
         "Continent": "Africa",
         "Name": "South Africa"
        },
        {
         "Continent": "Africa",
         "Name": "Zambia"
        },
        {
         "Continent": "Africa",
         "Name": "Zimbabwe"
        }
       ],
       "title": "Country Map",
       "title_style": {
        "fill": "Red"
       },
       "tooltip_fields": [
        "Name"
       ]
      }
     },
     "cb7260e8d1ab47ba88f724e04e6f2da6": {
      "model_module": "bqplot",
      "model_module_version": "^0.2.3",
      "model_name": "MarketMapModel",
      "state": {
       "_dom_classes": [],
       "axes": [
        "IPY_MODEL_67e5b4d5617c42c6b5c52f2f2e8adccc"
       ],
       "color": {
        "type": "float",
        "values": [
         41000,
         42500,
         666,
         14000,
         4620,
         3650,
         5940,
         12900,
         null,
         51100,
         61900,
         25400,
         7880,
         4800,
         15200,
         1100,
         47500,
         720,
         7710,
         25200,
         295,
         825,
         85700,
         40800,
         3150,
         11600,
         22200,
         2380,
         7760,
         8040,
         4890,
         50300,
         475,
         379,
         3100,
         84700,
         1650,
         14500,
         1430,
         7590,
         7720,
         10000,
         73600,
         6850,
         3720,
         null,
         27200,
         19600,
         47600,
         1780,
         60600,
         7430,
         6080,
         5360,
         6290,
         19700,
         3440,
         590,
         30300,
         568,
         49500,
         4540,
         3050,
         52800,
         42700,
         10100,
         45600,
         8300,
         3670,
         1460,
         22500,
         423,
         550,
         18400,
         21700,
         3700,
         null,
         586,
         4020,
         40200,
         2350,
         13500,
         833,
         13900,
         3510,
         53300,
         37000,
         49700,
         1630,
         6430,
         5290,
         52100,
         35000,
         5290,
         5420,
         36200,
         1340,
         1270,
         1080,
         1600,
         861,
         15200,
         null,
         28000,
         52200,
         64100,
         12300,
         1710,
         10100,
         7440,
         150000,
         3630,
         461,
         995,
         16400,
         111000,
         16000,
         6580,
         3140,
         163000,
         2230,
         7370,
         null,
         449,
         3630,
         5370,
         766,
         1200,
         4170,
         null,
         1270,
         22800,
         10000,
         8620,
         253,
         10400,
         10800,
         619,
         5720,
         12600,
         441,
         3180,
         1910,
         51600,
         97400,
         698,
         42400,
         20800,
         11800,
         6590,
         14500,
         2110,
         2840,
         1330,
         14400,
         28700,
         22100,
         11900,
         4480,
         93400,
         10000,
         6150,
         12700,
         652,
         25400,
         2020,
         15400,
         1900,
         58900,
         56300,
         24000,
         18400,
         788,
         62200,
         1070,
         145,
         9830,
         1110,
         1690,
         3950,
         null,
         2070,
         2680,
         null,
         1050,
         646,
         5560,
         1100,
         1280,
         9030,
         4320,
         4110,
         10500,
         18200,
         3880,
         null,
         998,
         3080,
         677,
         54600,
         16800,
         2040,
         6660,
         16500,
         18700,
         2050,
         3170,
         4170,
         1470,
         6480,
         1800,
         936
        ]
       },
       "colors": [
        "#1f77b4",
        "#ff7f0e",
        "#2ca02c",
        "#d62728",
        "#9467bd",
        "#8c564b",
        "#e377c2",
        "#7f7f7f",
        "#bcbd22",
        "#17becf"
       ],
       "cols": 25,
       "display_text": {
        "type": null,
        "values": null
       },
       "groups": {
        "type": "object",
        "values": [
         "Europe",
         "Asia",
         "Asia",
         "North America",
         "Europe",
         "Asia",
         "Africa",
         "South America",
         "Australia and Oceania",
         "Europe",
         "Australia and Oceania",
         "North America",
         "Asia",
         "Europe",
         "North America",
         "Asia",
         "Europe",
         "Africa",
         "Europe",
         "Asia",
         "Africa",
         "Africa",
         "North America",
         "Asia",
         "South America",
         "South America",
         "North America",
         "Asia",
         "Africa",
         "Europe",
         "North America",
         "North America",
         "Africa",
         "Africa",
         "Africa",
         "Europe",
         "Africa",
         "South America",
         "Africa",
         "Asia",
         "South America",
         "North America",
         "Australia and Oceania",
         "North America",
         "Africa",
         "North America",
         "Asia",
         "Europe",
         "Europe",
         "Africa",
         "Europe",
         "North America",
         "North America",
         "Africa",
         "South America",
         "Europe",
         "Africa",
         "Africa",
         "Europe",
         "Africa",
         "Europe",
         "Australia and Oceania",
         "Australia and Oceania",
         "Europe",
         "Europe",
         "Africa",
         "Europe",
         "North America",
         "Asia",
         "Africa",
         "North America",
         "Africa",
         "Africa",
         "Africa",
         "Europe",
         "North America",
         "Australia and Oceania",
         "Africa",
         "South America",
         "Asia",
         "North America",
         "Europe",
         "North America",
         "Europe",
         "Asia",
         "Europe",
         "Asia",
         "Europe",
         "Asia",
         "Asia",
         "Asia",
         "Europe",
         "Europe",
         "North America",
         "Asia",
         "Asia",
         "Africa",
         "Asia",
         "Asia",
         "Australia and Oceania",
         "Africa",
         "North America",
         "Asia",
         "Asia",
         "Asia",
         "North America",
         "Asia",
         "Asia",
         "Asia",
         "North America",
         "Europe",
         "Asia",
         "Africa",
         "Africa",
         "Europe",
         "Europe",
         "Europe",
         "Africa",
         "Africa",
         "Europe",
         "Europe",
         "Europe",
         "North America",
         "Africa",
         "Australia and Oceania",
         "Europe",
         "Africa",
         "Asia",
         "Asia",
         "Australia and Oceania",
         "Africa",
         "Europe",
         "Africa",
         "Asia",
         "Africa",
         "North America",
         "Asia",
         "Africa",
         "Africa",
         "Australia and Oceania",
         "Africa",
         "Africa",
         "North America",
         "Europe",
         "Europe",
         "Asia",
         "Australia and Oceania",
         "Asia",
         "North America",
         "South America",
         "Australia and Oceania",
         "Australia and Oceania",
         "Asia",
         "Asia",
         "Europe",
         "North America",
         "Europe",
         "Australia and Oceania",
         "South America",
         "Asia",
         "Europe",
         "Europe",
         "Europe",
         "Africa",
         "Asia",
         "Australia and Oceania",
         "Africa",
         "Africa",
         "Europe",
         "Asia",
         "Europe",
         "Europe",
         "Africa",
         "Europe",
         "Africa",
         "Africa",
         "South America",
         "Africa",
         "Africa",
         "North America",
         "North America",
         "Asia",
         "Africa",
         "North America",
         "Africa",
         "Africa",
         "Asia",
         "Asia",
         "Asia",
         "Asia",
         "Africa",
         "Australia and Oceania",
         "Europe",
         "North America",
         "Australia and Oceania",
         "Asia",
         "Africa",
         "Europe",
         "Africa",
         "North America",
         "South America",
         "Asia",
         "North America",
         "South America",
         "North America",
         "Asia",
         "Australia and Oceania",
         "Australia and Oceania",
         "Asia",
         "Africa",
         "Africa",
         "Africa"
        ]
       },
       "layout": "IPY_MODEL_4bbbe3be490e4f1b82c60afaca1942f0",
       "max_aspect_ratio": 6,
       "min_aspect_ratio": 1,
       "names": {
        "type": "object",
        "values": [
         "ADO",
         "ARE",
         "AFG",
         "ATG",
         "ALB",
         "ARM",
         "AGO",
         "ARG",
         "ASM",
         "AUT",
         "AUS",
         "ABW",
         "AZE",
         "BIH",
         "BRB",
         "BGD",
         "BEL",
         "BFA",
         "BGR",
         "BHR",
         "BDI",
         "BEN",
         "BMU",
         "BRN",
         "BOL",
         "BRA",
         "BHS",
         "BTN",
         "BWA",
         "BLR",
         "BLZ",
         "CAN",
         "ZAR",
         "CAF",
         "COG",
         "CHE",
         "CIV",
         "CHL",
         "CMR",
         "CHN",
         "COL",
         "CRI",
         "CHI",
         "CUB",
         "CPV",
         "CUW",
         "CYP",
         "CZE",
         "DEU",
         "DJI",
         "DNK",
         "DMA",
         "DOM",
         "DZA",
         "ECU",
         "EST",
         "EGY",
         "ERI",
         "ESP",
         "ETH",
         "FIN",
         "FJI",
         "FSM",
         "FRO",
         "FRA",
         "GAB",
         "GBR",
         "GRD",
         "GEO",
         "GHA",
         "GRL",
         "GMB",
         "GIN",
         "GNQ",
         "GRC",
         "GTM",
         "GUM",
         "GNB",
         "GUY",
         "HKG",
         "HND",
         "HRV",
         "HTI",
         "HUN",
         "IDN",
         "IRL",
         "ISR",
         "IMY",
         "IND",
         "IRQ",
         "IRN",
         "ISL",
         "ITA",
         "JAM",
         "JOR",
         "JPN",
         "KEN",
         "KGZ",
         "KHM",
         "KIR",
         "COM",
         "KNA",
         "PRK",
         "KOR",
         "KWT",
         "CYM",
         "KAZ",
         "LAO",
         "LBN",
         "LCA",
         "LIE",
         "LKA",
         "LBR",
         "LSO",
         "LTU",
         "LUX",
         "LVA",
         "LBY",
         "MAR",
         "MCO",
         "MDA",
         "MNE",
         "MAF",
         "MDG",
         "MHL",
         "MKD",
         "MLI",
         "MMR",
         "MNG",
         "MNP",
         "MRT",
         "MLT",
         "MUS",
         "MDV",
         "MWI",
         "MEX",
         "MYS",
         "MOZ",
         "NAM",
         "NCL",
         "NER",
         "NGA",
         "NIC",
         "NLD",
         "NOR",
         "NPL",
         "NZL",
         "OMN",
         "PAN",
         "PER",
         "PYF",
         "PNG",
         "PHL",
         "PAK",
         "POL",
         "PRI",
         "PRT",
         "PLW",
         "PRY",
         "QAT",
         "ROM",
         "SRB",
         "RUS",
         "RWA",
         "SAU",
         "SLB",
         "SYC",
         "SDN",
         "SWE",
         "SGP",
         "SVN",
         "SVK",
         "SLE",
         "SMR",
         "SEN",
         "SOM",
         "SUR",
         "SSD",
         "STP",
         "SLV",
         "SXM",
         "SYR",
         "SWZ",
         "TCA",
         "TCD",
         "TGO",
         "THA",
         "TJK",
         "TMP",
         "TKM",
         "TUN",
         "TON",
         "TUR",
         "TTO",
         "TUV",
         "TWN",
         "TZA",
         "UKR",
         "UGA",
         "USA",
         "URY",
         "UZB",
         "VCT",
         "VEN",
         "VIR",
         "VNM",
         "VUT",
         "WSM",
         "YEM",
         "ZAF",
         "ZMB",
         "ZWE"
        ]
       },
       "ref_data": [
        {
         "Continent": "Europe",
         "GDP": 41000,
         "Name": "Andorra"
        },
        {
         "Continent": "Asia",
         "GDP": 42500,
         "Name": "United Arab Emirates"
        },
        {
         "Continent": "Asia",
         "GDP": 666,
         "Name": "Afghanistan"
        },
        {
         "Continent": "North America",
         "GDP": 14000,
         "Name": "Antigua and Barbuda"
        },
        {
         "Continent": "Europe",
         "GDP": 4620,
         "Name": "Albania"
        },
        {
         "Continent": "Asia",
         "GDP": 3650,
         "Name": "Armenia"
        },
        {
         "Continent": "Africa",
         "GDP": 5940,
         "Name": "Angola"
        },
        {
         "Continent": "South America",
         "GDP": 12900,
         "Name": "Argentina"
        },
        {
         "Continent": "Australia and Oceania",
         "GDP": "nan",
         "Name": "American Samoa"
        },
        {
         "Continent": "Europe",
         "GDP": 51100,
         "Name": "Austria"
        },
        {
         "Continent": "Australia and Oceania",
         "GDP": 61900,
         "Name": "Australia"
        },
        {
         "Continent": "North America",
         "GDP": 25400,
         "Name": "Aruba"
        },
        {
         "Continent": "Asia",
         "GDP": 7880,
         "Name": "Azerbaijan"
        },
        {
         "Continent": "Europe",
         "GDP": 4800,
         "Name": "Bosnia and Herzegovina"
        },
        {
         "Continent": "North America",
         "GDP": 15200,
         "Name": "Barbados"
        },
        {
         "Continent": "Asia",
         "GDP": 1100,
         "Name": "Bangladesh"
        },
        {
         "Continent": "Europe",
         "GDP": 47500,
         "Name": "Belgium"
        },
        {
         "Continent": "Africa",
         "GDP": 720,
         "Name": "Burkina Faso"
        },
        {
         "Continent": "Europe",
         "GDP": 7710,
         "Name": "Bulgaria"
        },
        {
         "Continent": "Asia",
         "GDP": 25200,
         "Name": "Bahrain"
        },
        {
         "Continent": "Africa",
         "GDP": 295,
         "Name": "Burundi"
        },
        {
         "Continent": "Africa",
         "GDP": 825,
         "Name": "Benin"
        },
        {
         "Continent": "North America",
         "GDP": 85700,
         "Name": "Bermuda"
        },
        {
         "Continent": "Asia",
         "GDP": 40800,
         "Name": "Brunei Darussalam"
        },
        {
         "Continent": "South America",
         "GDP": 3150,
         "Name": "Bolivia"
        },
        {
         "Continent": "South America",
         "GDP": 11600,
         "Name": "Brazil"
        },
        {
         "Continent": "North America",
         "GDP": 22200,
         "Name": "Bahamas, The"
        },
        {
         "Continent": "Asia",
         "GDP": 2380,
         "Name": "Bhutan"
        },
        {
         "Continent": "Africa",
         "GDP": 7760,
         "Name": "Botswana"
        },
        {
         "Continent": "Europe",
         "GDP": 8040,
         "Name": "Belarus"
        },
        {
         "Continent": "North America",
         "GDP": 4890,
         "Name": "Belize"
        },
        {
         "Continent": "North America",
         "GDP": 50300,
         "Name": "Canada"
        },
        {
         "Continent": "Africa",
         "GDP": 475,
         "Name": "Congo, Dem. Rep."
        },
        {
         "Continent": "Africa",
         "GDP": 379,
         "Name": "Central African Republic"
        },
        {
         "Continent": "Africa",
         "GDP": 3100,
         "Name": "Congo, Rep."
        },
        {
         "Continent": "Europe",
         "GDP": 84700,
         "Name": "Switzerland"
        },
        {
         "Continent": "Africa",
         "GDP": 1650,
         "Name": "Cote d'Ivoire"
        },
        {
         "Continent": "South America",
         "GDP": 14500,
         "Name": "Chile"
        },
        {
         "Continent": "Africa",
         "GDP": 1430,
         "Name": "Cameroon"
        },
        {
         "Continent": "Asia",
         "GDP": 7590,
         "Name": "China"
        },
        {
         "Continent": "South America",
         "GDP": 7720,
         "Name": "Colombia"
        },
        {
         "Continent": "North America",
         "GDP": 10000,
         "Name": "Costa Rica"
        },
        {
         "Continent": "Australia and Oceania",
         "GDP": 73600,
         "Name": "Channel Islands"
        },
        {
         "Continent": "North America",
         "GDP": 6850,
         "Name": "Cuba"
        },
        {
         "Continent": "Africa",
         "GDP": 3720,
         "Name": "Cabo Verde"
        },
        {
         "Continent": "North America",
         "GDP": "nan",
         "Name": "Curacao"
        },
        {
         "Continent": "Asia",
         "GDP": 27200,
         "Name": "Cyprus"
        },
        {
         "Continent": "Europe",
         "GDP": 19600,
         "Name": "Czech Republic"
        },
        {
         "Continent": "Europe",
         "GDP": 47600,
         "Name": "Germany"
        },
        {
         "Continent": "Africa",
         "GDP": 1780,
         "Name": "Djibouti"
        },
        {
         "Continent": "Europe",
         "GDP": 60600,
         "Name": "Denmark"
        },
        {
         "Continent": "North America",
         "GDP": 7430,
         "Name": "Dominica"
        },
        {
         "Continent": "North America",
         "GDP": 6080,
         "Name": "Dominican Republic"
        },
        {
         "Continent": "Africa",
         "GDP": 5360,
         "Name": "Algeria"
        },
        {
         "Continent": "South America",
         "GDP": 6290,
         "Name": "Ecuador"
        },
        {
         "Continent": "Europe",
         "GDP": 19700,
         "Name": "Estonia"
        },
        {
         "Continent": "Africa",
         "GDP": 3440,
         "Name": "Egypt, Arab Rep."
        },
        {
         "Continent": "Africa",
         "GDP": 590,
         "Name": "Eritrea"
        },
        {
         "Continent": "Europe",
         "GDP": 30300,
         "Name": "Spain"
        },
        {
         "Continent": "Africa",
         "GDP": 568,
         "Name": "Ethiopia"
        },
        {
         "Continent": "Europe",
         "GDP": 49500,
         "Name": "Finland"
        },
        {
         "Continent": "Australia and Oceania",
         "GDP": 4540,
         "Name": "Fiji"
        },
        {
         "Continent": "Australia and Oceania",
         "GDP": 3050,
         "Name": "Micronesia, Fed. Sts."
        },
        {
         "Continent": "Europe",
         "GDP": 52800,
         "Name": "Faeroe Islands"
        },
        {
         "Continent": "Europe",
         "GDP": 42700,
         "Name": "France"
        },
        {
         "Continent": "Africa",
         "GDP": 10100,
         "Name": "Gabon"
        },
        {
         "Continent": "Europe",
         "GDP": 45600,
         "Name": "United Kingdom"
        },
        {
         "Continent": "North America",
         "GDP": 8300,
         "Name": "Grenada"
        },
        {
         "Continent": "Asia",
         "GDP": 3670,
         "Name": "Georgia"
        },
        {
         "Continent": "Africa",
         "GDP": 1460,
         "Name": "Ghana"
        },
        {
         "Continent": "North America",
         "GDP": 22500,
         "Name": "Greenland"
        },
        {
         "Continent": "Africa",
         "GDP": 423,
         "Name": "Gambia, The"
        },
        {
         "Continent": "Africa",
         "GDP": 550,
         "Name": "Guinea"
        },
        {
         "Continent": "Africa",
         "GDP": 18400,
         "Name": "Equatorial Guinea"
        },
        {
         "Continent": "Europe",
         "GDP": 21700,
         "Name": "Greece"
        },
        {
         "Continent": "North America",
         "GDP": 3700,
         "Name": "Guatemala"
        },
        {
         "Continent": "Australia and Oceania",
         "GDP": "nan",
         "Name": "Guam"
        },
        {
         "Continent": "Africa",
         "GDP": 586,
         "Name": "Guinea-Bissau"
        },
        {
         "Continent": "South America",
         "GDP": 4020,
         "Name": "Guyana"
        },
        {
         "Continent": "Asia",
         "GDP": 40200,
         "Name": "Hong Kong SAR, China"
        },
        {
         "Continent": "North America",
         "GDP": 2350,
         "Name": "Honduras"
        },
        {
         "Continent": "Europe",
         "GDP": 13500,
         "Name": "Croatia"
        },
        {
         "Continent": "North America",
         "GDP": 833,
         "Name": "Haiti"
        },
        {
         "Continent": "Europe",
         "GDP": 13900,
         "Name": "Hungary"
        },
        {
         "Continent": "Asia",
         "GDP": 3510,
         "Name": "Indonesia"
        },
        {
         "Continent": "Europe",
         "GDP": 53300,
         "Name": "Ireland"
        },
        {
         "Continent": "Asia",
         "GDP": 37000,
         "Name": "Israel"
        },
        {
         "Continent": "Europe",
         "GDP": 49700,
         "Name": "Isle of Man"
        },
        {
         "Continent": "Asia",
         "GDP": 1630,
         "Name": "India"
        },
        {
         "Continent": "Asia",
         "GDP": 6430,
         "Name": "Iraq"
        },
        {
         "Continent": "Asia",
         "GDP": 5290,
         "Name": "Iran, Islamic Rep."
        },
        {
         "Continent": "Europe",
         "GDP": 52100,
         "Name": "Iceland"
        },
        {
         "Continent": "Europe",
         "GDP": 35000,
         "Name": "Italy"
        },
        {
         "Continent": "North America",
         "GDP": 5290,
         "Name": "Jamaica"
        },
        {
         "Continent": "Asia",
         "GDP": 5420,
         "Name": "Jordan"
        },
        {
         "Continent": "Asia",
         "GDP": 36200,
         "Name": "Japan"
        },
        {
         "Continent": "Africa",
         "GDP": 1340,
         "Name": "Kenya"
        },
        {
         "Continent": "Asia",
         "GDP": 1270,
         "Name": "Kyrgyz Republic"
        },
        {
         "Continent": "Asia",
         "GDP": 1080,
         "Name": "Cambodia"
        },
        {
         "Continent": "Australia and Oceania",
         "GDP": 1600,
         "Name": "Kiribati"
        },
        {
         "Continent": "Africa",
         "GDP": 861,
         "Name": "Comoros"
        },
        {
         "Continent": "North America",
         "GDP": 15200,
         "Name": "St. Kitts and Nevis"
        },
        {
         "Continent": "Asia",
         "GDP": "nan",
         "Name": "Korea, Dem. Rep."
        },
        {
         "Continent": "Asia",
         "GDP": 28000,
         "Name": "Korea, Rep."
        },
        {
         "Continent": "Asia",
         "GDP": 52200,
         "Name": "Kuwait"
        },
        {
         "Continent": "North America",
         "GDP": 64100,
         "Name": "Cayman Islands"
        },
        {
         "Continent": "Asia",
         "GDP": 12300,
         "Name": "Kazakhstan"
        },
        {
         "Continent": "Asia",
         "GDP": 1710,
         "Name": "Lao PDR"
        },
        {
         "Continent": "Asia",
         "GDP": 10100,
         "Name": "Lebanon"
        },
        {
         "Continent": "North America",
         "GDP": 7440,
         "Name": "St. Lucia"
        },
        {
         "Continent": "Europe",
         "GDP": 150000,
         "Name": "Liechtenstein"
        },
        {
         "Continent": "Asia",
         "GDP": 3630,
         "Name": "Sri Lanka"
        },
        {
         "Continent": "Africa",
         "GDP": 461,
         "Name": "Liberia"
        },
        {
         "Continent": "Africa",
         "GDP": 995,
         "Name": "Lesotho"
        },
        {
         "Continent": "Europe",
         "GDP": 16400,
         "Name": "Lithuania"
        },
        {
         "Continent": "Europe",
         "GDP": 111000,
         "Name": "Luxembourg"
        },
        {
         "Continent": "Europe",
         "GDP": 16000,
         "Name": "Latvia"
        },
        {
         "Continent": "Africa",
         "GDP": 6580,
         "Name": "Libya"
        },
        {
         "Continent": "Africa",
         "GDP": 3140,
         "Name": "Morocco"
        },
        {
         "Continent": "Europe",
         "GDP": 163000,
         "Name": "Monaco"
        },
        {
         "Continent": "Europe",
         "GDP": 2230,
         "Name": "Moldova"
        },
        {
         "Continent": "Europe",
         "GDP": 7370,
         "Name": "Montenegro"
        },
        {
         "Continent": "North America",
         "GDP": "nan",
         "Name": "St. Martin (French part)"
        },
        {
         "Continent": "Africa",
         "GDP": 449,
         "Name": "Madagascar"
        },
        {
         "Continent": "Australia and Oceania",
         "GDP": 3630,
         "Name": "Marshall Islands"
        },
        {
         "Continent": "Europe",
         "GDP": 5370,
         "Name": "Macedonia, FYR"
        },
        {
         "Continent": "Africa",
         "GDP": 766,
         "Name": "Mali"
        },
        {
         "Continent": "Asia",
         "GDP": 1200,
         "Name": "Myanmar"
        },
        {
         "Continent": "Asia",
         "GDP": 4170,
         "Name": "Mongolia"
        },
        {
         "Continent": "Australia and Oceania",
         "GDP": "nan",
         "Name": "Northern Mariana Islands"
        },
        {
         "Continent": "Africa",
         "GDP": 1270,
         "Name": "Mauritania"
        },
        {
         "Continent": "Europe",
         "GDP": 22800,
         "Name": "Malta"
        },
        {
         "Continent": "Africa",
         "GDP": 10000,
         "Name": "Mauritius"
        },
        {
         "Continent": "Asia",
         "GDP": 8620,
         "Name": "Maldives"
        },
        {
         "Continent": "Africa",
         "GDP": 253,
         "Name": "Malawi"
        },
        {
         "Continent": "North America",
         "GDP": 10400,
         "Name": "Mexico"
        },
        {
         "Continent": "Asia",
         "GDP": 10800,
         "Name": "Malaysia"
        },
        {
         "Continent": "Africa",
         "GDP": 619,
         "Name": "Mozambique"
        },
        {
         "Continent": "Africa",
         "GDP": 5720,
         "Name": "Namibia"
        },
        {
         "Continent": "Australia and Oceania",
         "GDP": 12600,
         "Name": "New Caledonia"
        },
        {
         "Continent": "Africa",
         "GDP": 441,
         "Name": "Niger"
        },
        {
         "Continent": "Africa",
         "GDP": 3180,
         "Name": "Nigeria"
        },
        {
         "Continent": "North America",
         "GDP": 1910,
         "Name": "Nicaragua"
        },
        {
         "Continent": "Europe",
         "GDP": 51600,
         "Name": "Netherlands"
        },
        {
         "Continent": "Europe",
         "GDP": 97400,
         "Name": "Norway"
        },
        {
         "Continent": "Asia",
         "GDP": 698,
         "Name": "Nepal"
        },
        {
         "Continent": "Australia and Oceania",
         "GDP": 42400,
         "Name": "New Zealand"
        },
        {
         "Continent": "Asia",
         "GDP": 20800,
         "Name": "Oman"
        },
        {
         "Continent": "North America",
         "GDP": 11800,
         "Name": "Panama"
        },
        {
         "Continent": "South America",
         "GDP": 6590,
         "Name": "Peru"
        },
        {
         "Continent": "Australia and Oceania",
         "GDP": 14500,
         "Name": "French Polynesia"
        },
        {
         "Continent": "Australia and Oceania",
         "GDP": 2110,
         "Name": "Papua New Guinea"
        },
        {
         "Continent": "Asia",
         "GDP": 2840,
         "Name": "Philippines"
        },
        {
         "Continent": "Asia",
         "GDP": 1330,
         "Name": "Pakistan"
        },
        {
         "Continent": "Europe",
         "GDP": 14400,
         "Name": "Poland"
        },
        {
         "Continent": "North America",
         "GDP": 28700,
         "Name": "Puerto Rico"
        },
        {
         "Continent": "Europe",
         "GDP": 22100,
         "Name": "Portugal"
        },
        {
         "Continent": "Australia and Oceania",
         "GDP": 11900,
         "Name": "Palau"
        },
        {
         "Continent": "South America",
         "GDP": 4480,
         "Name": "Paraguay"
        },
        {
         "Continent": "Asia",
         "GDP": 93400,
         "Name": "Qatar"
        },
        {
         "Continent": "Europe",
         "GDP": 10000,
         "Name": "Romania"
        },
        {
         "Continent": "Europe",
         "GDP": 6150,
         "Name": "Serbia"
        },
        {
         "Continent": "Europe",
         "GDP": 12700,
         "Name": "Russian Federation"
        },
        {
         "Continent": "Africa",
         "GDP": 652,
         "Name": "Rwanda"
        },
        {
         "Continent": "Asia",
         "GDP": 25400,
         "Name": "Saudi Arabia"
        },
        {
         "Continent": "Australia and Oceania",
         "GDP": 2020,
         "Name": "Solomon Islands"
        },
        {
         "Continent": "Africa",
         "GDP": 15400,
         "Name": "Seychelles"
        },
        {
         "Continent": "Africa",
         "GDP": 1900,
         "Name": "Sudan"
        },
        {
         "Continent": "Europe",
         "GDP": 58900,
         "Name": "Sweden"
        },
        {
         "Continent": "Asia",
         "GDP": 56300,
         "Name": "Singapore"
        },
        {
         "Continent": "Europe",
         "GDP": 24000,
         "Name": "Slovenia"
        },
        {
         "Continent": "Europe",
         "GDP": 18400,
         "Name": "Slovak Republic"
        },
        {
         "Continent": "Africa",
         "GDP": 788,
         "Name": "Sierra Leone"
        },
        {
         "Continent": "Europe",
         "GDP": 62200,
         "Name": "San Marino"
        },
        {
         "Continent": "Africa",
         "GDP": 1070,
         "Name": "Senegal"
        },
        {
         "Continent": "Africa",
         "GDP": 145,
         "Name": "Somalia"
        },
        {
         "Continent": "South America",
         "GDP": 9830,
         "Name": "Suriname"
        },
        {
         "Continent": "Africa",
         "GDP": 1110,
         "Name": "South Sudan"
        },
        {
         "Continent": "Africa",
         "GDP": 1690,
         "Name": "Sao Tome and Principe"
        },
        {
         "Continent": "North America",
         "GDP": 3950,
         "Name": "El Salvador"
        },
        {
         "Continent": "North America",
         "GDP": "nan",
         "Name": "Sint Maarten (Dutch part)"
        },
        {
         "Continent": "Asia",
         "GDP": 2070,
         "Name": "Syrian Arab Republic"
        },
        {
         "Continent": "Africa",
         "GDP": 2680,
         "Name": "Swaziland"
        },
        {
         "Continent": "North America",
         "GDP": "nan",
         "Name": "Turks and Caicos Islands"
        },
        {
         "Continent": "Africa",
         "GDP": 1050,
         "Name": "Chad"
        },
        {
         "Continent": "Africa",
         "GDP": 646,
         "Name": "Togo"
        },
        {
         "Continent": "Asia",
         "GDP": 5560,
         "Name": "Thailand"
        },
        {
         "Continent": "Asia",
         "GDP": 1100,
         "Name": "Tajikistan"
        },
        {
         "Continent": "Asia",
         "GDP": 1280,
         "Name": "Timor-Leste"
        },
        {
         "Continent": "Asia",
         "GDP": 9030,
         "Name": "Turkmenistan"
        },
        {
         "Continent": "Africa",
         "GDP": 4320,
         "Name": "Tunisia"
        },
        {
         "Continent": "Australia and Oceania",
         "GDP": 4110,
         "Name": "Tonga"
        },
        {
         "Continent": "Europe",
         "GDP": 10500,
         "Name": "Turkey"
        },
        {
         "Continent": "North America",
         "GDP": 18200,
         "Name": "Trinidad and Tobago"
        },
        {
         "Continent": "Australia and Oceania",
         "GDP": 3880,
         "Name": "Tuvalu"
        },
        {
         "Continent": "Asia",
         "GDP": "nan",
         "Name": "Taiwan, China"
        },
        {
         "Continent": "Africa",
         "GDP": 998,
         "Name": "Tanzania"
        },
        {
         "Continent": "Europe",
         "GDP": 3080,
         "Name": "Ukraine"
        },
        {
         "Continent": "Africa",
         "GDP": 677,
         "Name": "Uganda"
        },
        {
         "Continent": "North America",
         "GDP": 54600,
         "Name": "United States"
        },
        {
         "Continent": "South America",
         "GDP": 16800,
         "Name": "Uruguay"
        },
        {
         "Continent": "Asia",
         "GDP": 2040,
         "Name": "Uzbekistan"
        },
        {
         "Continent": "North America",
         "GDP": 6660,
         "Name": "St. Vincent and the Grenadines"
        },
        {
         "Continent": "South America",
         "GDP": 16500,
         "Name": "Venezuela, RB"
        },
        {
         "Continent": "North America",
         "GDP": 18700,
         "Name": "Virgin Islands (U.S.)"
        },
        {
         "Continent": "Asia",
         "GDP": 2050,
         "Name": "Vietnam"
        },
        {
         "Continent": "Australia and Oceania",
         "GDP": 3170,
         "Name": "Vanuatu"
        },
        {
         "Continent": "Australia and Oceania",
         "GDP": 4170,
         "Name": "Samoa"
        },
        {
         "Continent": "Asia",
         "GDP": 1470,
         "Name": "Yemen, Rep."
        },
        {
         "Continent": "Africa",
         "GDP": 6480,
         "Name": "South Africa"
        },
        {
         "Continent": "Africa",
         "GDP": 1800,
         "Name": "Zambia"
        },
        {
         "Continent": "Africa",
         "GDP": 936,
         "Name": "Zimbabwe"
        }
       ],
       "row_groups": 3,
       "scales": {
        "color": "IPY_MODEL_dfef0ac61b194f529d5a80a47dad004b"
       },
       "tooltip_widget": "IPY_MODEL_6d7b5987002648349614277898f535a3"
      }
     },
     "d52f41b0d7ce47b99695936172ee33e0": {
      "model_module": "bqplot",
      "model_module_version": "^0.2.3",
      "model_name": "LinearScaleModel",
      "state": {
       "stabilized": false
      }
     },
     "dfef0ac61b194f529d5a80a47dad004b": {
      "model_module": "bqplot",
      "model_module_version": "^0.2.3",
      "model_name": "ColorScaleModel",
      "state": {
       "_model_name": "ColorScaleModel",
       "_view_name": "ColorScale",
       "colors": [],
       "mid": null,
       "scale_type": "linear",
       "scheme": "Greens"
      }
     },
     "e86ee4b21f724b19b6dfa9db0f10f9a2": {
      "model_module": "bqplot",
      "model_module_version": "^0.2.3",
      "model_name": "LinearScaleModel",
      "state": {
       "allow_padding": false,
       "max": 1,
       "min": 0,
       "stabilized": false
      }
     },
     "fa50552dd6e343a3895952edf98ec7bc": {
      "model_module": "bqplot",
      "model_module_version": "^0.2.3",
      "model_name": "LinesModel",
      "state": {
       "color": {
        "type": null,
        "values": null
       },
       "colors": [
        "orange"
       ],
       "display_legend": false,
       "fill_colors": [],
       "labels": [
        "C1"
       ],
       "scales": {
        "x": "IPY_MODEL_5975ac7481b7404eb149ec2f3c8083fd",
        "y": "IPY_MODEL_d52f41b0d7ce47b99695936172ee33e0"
       },
       "selected": [],
       "x": {
        "type": "date",
        "values": [
         "1960-01-01T00:00:00.000000",
         "1961-01-01T00:00:00.000000",
         "1962-01-01T00:00:00.000000",
         "1963-01-01T00:00:00.000000",
         "1964-01-01T00:00:00.000000",
         "1965-01-01T00:00:00.000000",
         "1966-01-01T00:00:00.000000",
         "1967-01-01T00:00:00.000000",
         "1968-01-01T00:00:00.000000",
         "1969-01-01T00:00:00.000000",
         "1970-01-01T00:00:00.000000",
         "1971-01-01T00:00:00.000000",
         "1972-01-01T00:00:00.000000",
         "1973-01-01T00:00:00.000000",
         "1974-01-01T00:00:00.000000",
         "1975-01-01T00:00:00.000000",
         "1976-01-01T00:00:00.000000",
         "1977-01-01T00:00:00.000000",
         "1978-01-01T00:00:00.000000",
         "1979-01-01T00:00:00.000000",
         "1980-01-01T00:00:00.000000",
         "1981-01-01T00:00:00.000000",
         "1982-01-01T00:00:00.000000",
         "1983-01-01T00:00:00.000000",
         "1984-01-01T00:00:00.000000",
         "1985-01-01T00:00:00.000000",
         "1986-01-01T00:00:00.000000",
         "1987-01-01T00:00:00.000000",
         "1988-01-01T00:00:00.000000",
         "1989-01-01T00:00:00.000000",
         "1990-01-01T00:00:00.000000",
         "1991-01-01T00:00:00.000000",
         "1992-01-01T00:00:00.000000",
         "1993-01-01T00:00:00.000000",
         "1994-01-01T00:00:00.000000",
         "1995-01-01T00:00:00.000000",
         "1996-01-01T00:00:00.000000",
         "1997-01-01T00:00:00.000000",
         "1998-01-01T00:00:00.000000",
         "1999-01-01T00:00:00.000000",
         "2000-01-01T00:00:00.000000",
         "2001-01-01T00:00:00.000000",
         "2002-01-01T00:00:00.000000",
         "2003-01-01T00:00:00.000000",
         "2004-01-01T00:00:00.000000",
         "2005-01-01T00:00:00.000000",
         "2006-01-01T00:00:00.000000",
         "2007-01-01T00:00:00.000000",
         "2008-01-01T00:00:00.000000",
         "2009-01-01T00:00:00.000000",
         "2010-01-01T00:00:00.000000",
         "2011-01-01T00:00:00.000000",
         "2012-01-01T00:00:00.000000",
         "2013-01-01T00:00:00.000000",
         "2014-01-01T00:00:00.000000"
        ]
       },
       "y": {
        "type": "float",
        "values": [
         null,
         null,
         null,
         null,
         null,
         null,
         null,
         null,
         null,
         null,
         null,
         null,
         null,
         null,
         null,
         null,
         null,
         null,
         null,
         null,
         null,
         null,
         null,
         null,
         null,
         null,
         null,
         null,
         null,
         null,
         null,
         null,
         null,
         null,
         null,
         null,
         null,
         null,
         null,
         null,
         null,
         null,
         null,
         null,
         null,
         null,
         null,
         null,
         null,
         null,
         null,
         null,
         null,
         null,
         null
        ]
       }
      }
     }
    },
    "version_major": 1,
    "version_minor": 0
   }
  }
 },
 "nbformat": 4,
 "nbformat_minor": 0
}
