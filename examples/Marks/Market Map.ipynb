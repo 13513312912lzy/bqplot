{
 "cells": [
  {
   "cell_type": "code",
   "execution_count": null,
   "metadata": {
    "collapsed": false
   },
   "outputs": [],
   "source": [
    "import pandas as pd\n",
    "from IPython.display import display\n",
    "from ipywidgets import Label\n",
    "from bqplot import *\n",
    "from bqplot.market_map import MarketMap\n",
    "import os"
   ]
  },
  {
   "cell_type": "markdown",
   "metadata": {},
   "source": [
    "## Get Data"
   ]
  },
  {
   "cell_type": "code",
   "execution_count": null,
   "metadata": {
    "collapsed": false
   },
   "outputs": [],
   "source": [
    "data = pd.read_csv(os.path.abspath('../data_files/country_codes.csv'), index_col=[0])\n",
    "country_codes = data.index.values\n",
    "country_names = data['Name']"
   ]
  },
  {
   "cell_type": "markdown",
   "metadata": {},
   "source": [
    "## Basic Market Map"
   ]
  },
  {
   "cell_type": "code",
   "execution_count": null,
   "metadata": {
    "collapsed": false
   },
   "outputs": [],
   "source": [
    "market_map = MarketMap(names=country_codes,      # basic data which needs to set for each map\n",
    "                       ref_data=data,            # Data frame which can be used for different properties of the map\n",
    "                       tooltip_fields=['Name'])  # Axis and scale for color data\n",
    "display(market_map)"
   ]
  },
  {
   "cell_type": "markdown",
   "metadata": {},
   "source": [
    "## GDP data with grouping by continent\n",
    "\n",
    "World Bank national accounts data, and OECD National Accounts data files. (The World Bank: GDP per capita (current US$))"
   ]
  },
  {
   "cell_type": "code",
   "execution_count": null,
   "metadata": {
    "collapsed": false
   },
   "outputs": [],
   "source": [
    "gdp_data = pd.read_csv(os.path.abspath('../data_files/gdp_per_capita.csv'), index_col=[0], parse_dates=True)\n",
    "gdp_data.fillna(method='backfill', inplace=True)\n",
    "gdp_data.fillna(method='ffill', inplace=True)"
   ]
  },
  {
   "cell_type": "code",
   "execution_count": null,
   "metadata": {
    "collapsed": false
   },
   "outputs": [],
   "source": [
    "col = ColorScale(scheme='Greens')\n",
    "continents = data['Continent'].values\n",
    "ax_c = ColorAxis(scale=col, label='GDP per Capita', visible=False)\n",
    "\n",
    "data['GDP'] = gdp_data.ix[-1]\n",
    "\n",
    "market_map = MarketMap(names=country_codes, groups=continents,       # Basic data which needs to set for each map\n",
    "                       cols=25, row_groups=3,                        # Properties for the visualization\n",
    "                       ref_data=data,                                # Data frame used for different properties of the map\n",
    "                       tooltip_fields=['Name', 'Continent', 'GDP'],  # Columns from data frame to be displayed as tooltip\n",
    "                       tooltip_formats=['', '', '.1f'],\n",
    "                       scales={'color': col}, axes=[ax_c])           # Axis and scale for color data"
   ]
  },
  {
   "cell_type": "code",
   "execution_count": null,
   "metadata": {
    "collapsed": false
   },
   "outputs": [],
   "source": [
    "deb_output = Label()\n",
    "def selected_index_changed(name, value):\n",
    "    deb_output.value = str(value)\n",
    "        \n",
    "market_map.on_trait_change(selected_index_changed, name='selected')\n",
    "display(deb_output)\n",
    "display(market_map)"
   ]
  },
  {
   "cell_type": "code",
   "execution_count": null,
   "metadata": {
    "collapsed": false
   },
   "outputs": [],
   "source": [
    "# Attribute to show the names of the groups, in this case the continents\n",
    "market_map.show_groups = True"
   ]
  },
  {
   "cell_type": "code",
   "execution_count": null,
   "metadata": {
    "collapsed": false
   },
   "outputs": [],
   "source": [
    "# Setting the selected countries\n",
    "market_map.show_groups = False\n",
    "market_map.selected = ['PAN', 'FRA', 'PHL']"
   ]
  },
  {
   "cell_type": "code",
   "execution_count": null,
   "metadata": {
    "collapsed": false
   },
   "outputs": [],
   "source": [
    "# changing selected stroke and hovered stroke variable\n",
    "market_map.selected_stroke = 'yellow'\n",
    "market_map.hovered_stroke = 'violet'"
   ]
  },
  {
   "cell_type": "markdown",
   "metadata": {},
   "source": [
    "## Setting the color based on data"
   ]
  },
  {
   "cell_type": "code",
   "execution_count": null,
   "metadata": {
    "collapsed": false
   },
   "outputs": [],
   "source": [
    "# Adding data for color and making color axis visible\n",
    "market_map.color = data['GDP']\n",
    "ax_c.visible = True"
   ]
  },
  {
   "cell_type": "markdown",
   "metadata": {},
   "source": [
    "## Adding a widget as tooltip"
   ]
  },
  {
   "cell_type": "code",
   "execution_count": null,
   "metadata": {
    "collapsed": false
   },
   "outputs": [],
   "source": [
    "# Creating the figure to be displayed as the tooltip\n",
    "sc_x = DateScale()\n",
    "sc_y = LinearScale()\n",
    "\n",
    "ax_x = Axis(scale=sc_x, grid_lines='dashed', label='Date')\n",
    "ax_y = Axis(scale=sc_y, orientation='vertical', grid_lines='dashed',\n",
    "            label='GDP', label_location='end', label_offset='-1em')\n",
    "\n",
    "line = Lines(x= gdp_data.index.values, scales={'x': sc_x, 'y': sc_y}, colors=['orange'])\n",
    "fig_tooltip = Figure(marks=[line], axes=[ax_x, ax_y], min_width=600, min_height=400)"
   ]
  },
  {
   "cell_type": "code",
   "execution_count": null,
   "metadata": {
    "collapsed": false
   },
   "outputs": [],
   "source": [
    "market_map = MarketMap(names=country_codes, groups=continents,\n",
    "                       cols=25, row_groups=3,\n",
    "                       color=data['GDP'], scales={'color': col}, axes=[ax_c],\n",
    "                       ref_data=data, tooltip_widget=fig_tooltip)\n",
    "\n",
    "# Update the tooltip chart\n",
    "hovered_symbol = ''\n",
    "def hover_handler(self, content):\n",
    "    global hovered_symbol\n",
    "    symbol = content.get('ref_data', {}).get('Country Code', '')\n",
    "    if(symbol != hovered_symbol):\n",
    "        hovered_symbol = symbol\n",
    "        if(gdp_data.get(hovered_symbol) is not None):\n",
    "            line.y = gdp_data[hovered_symbol].values\n",
    "            fig_tooltip.title = content.get('ref_data', {}).get('Name', '')\n",
    "\n",
    "# Custom msg sent when a particular cell is hovered on\n",
    "market_map.on_hover(hover_handler)\n",
    "display(market_map)"
   ]
  }
 ],
 "metadata": {
  "kernelspec": {
   "display_name": "Python 2",
   "language": "python",
   "name": "python2"
  },
  "language_info": {
   "codemirror_mode": {
    "name": "ipython",
    "version": 2
   },
   "file_extension": ".py",
   "mimetype": "text/x-python",
   "name": "python",
   "nbconvert_exporter": "python",
   "pygments_lexer": "ipython2",
   "version": "2.7.11"
  },
  "widgets": {
   "state": {
    "0ac53ba39ba94f61ad65be8d28ea776a": {
     "views": []
    },
    "0d84476fe71c45a79839a916f11164ea": {
     "views": []
    },
    "1a0c431cf2164037997ac637d9fbbc06": {
     "views": []
    },
    "1cc37041c8be44cfbed7a8ee2fda4b5a": {
     "views": []
    },
    "236ecaa091194a5a8d1383c59802d05a": {
     "views": []
    },
    "31a0db058663453c945ca6caeb52512a": {
     "views": []
    },
    "34c3398a38734aca90dec93684d0aa89": {
     "views": []
    },
    "38a4d4b9540841148517dca6641cd14c": {
     "views": []
    },
    "3d02e2d861414d3bba874c518a382f2c": {
     "views": []
    },
    "3eb8c53f2f884e25a138751cef6544c9": {
     "views": [
      {
       "cell_index": 16
      }
     ]
    },
    "456a185cea6c4d5ab5231bb63301c075": {
     "views": []
    },
    "47a548a15e52482180c4c86759acb08c": {
     "views": []
    },
    "4aa0475e802349f19ed02ce2e5f7894f": {
     "views": []
    },
    "4b349f755bdc473faf37234a8ea2882e": {
     "views": []
    },
    "4b541a88114243d5bbd9b3bd5221f5f2": {
     "views": [
      {
       "cell_index": 8
      }
     ]
    },
    "4f5f0d109b2749cfbe3fdd84c694ca80": {
     "views": []
    },
    "5388af06f74448f4bcec77c663156e08": {
     "views": []
    },
    "556d05b45e9e436cb5430fa56deda5f4": {
     "views": []
    },
    "564326a3f98b4d3da48dedf67565e939": {
     "views": []
    },
    "5ba7d038867f4024af6787c946b6ff4d": {
     "views": []
    },
    "5d49221086f2490aa2b9379794ff793e": {
     "views": []
    },
    "67068e4d8c974626a8cc0eeee85aee44": {
     "views": []
    },
    "6b5364e9b8ea4041b35a288f3091408b": {
     "views": []
    },
    "730d2538a3b3481bba6b9f4663065c97": {
     "views": []
    },
    "758c842803e64b53b4f26c7fa3065dbd": {
     "views": []
    },
    "871efd5c1576462892ecb526f9ef1576": {
     "views": [
      {
       "cell_index": 8
      }
     ]
    },
    "894df3e8acc54376a24e32220701fac3": {
     "views": []
    },
    "8fb2212e92534943840826bf97331a7d": {
     "views": []
    },
    "9093ea4426464ab4a91c3d653d83f61a": {
     "views": [
      {
       "cell_index": 8
      },
      {
       "cell_index": 8
      }
     ]
    },
    "9c9562833bef4eb7b8765778b15c17d1": {
     "views": []
    },
    "9d73767c1d76406f8f7236a424dc408d": {
     "views": []
    },
    "a2e42467ee944c21be424d4ca4db2ef5": {
     "views": [
      {
       "cell_index": 8
      },
      {
       "cell_index": 8
      }
     ]
    },
    "a7ddeb2af6f94aadb3f82ec95347b348": {
     "views": [
      {
       "cell_index": 4
      }
     ]
    },
    "ab7c3da3653f485cb96f59c90688c256": {
     "views": [
      {
       "cell_index": 8
      },
      {
       "cell_index": 8
      }
     ]
    },
    "ab933fe30a73479e80842412bf2089df": {
     "views": []
    },
    "ae07dc4cfea641cb8196dc64ee77c217": {
     "views": []
    },
    "b726b24536014fc09575123dc9ac7c87": {
     "views": []
    },
    "c1845e6ba46b4fa78d758531f74baecf": {
     "views": []
    },
    "c417c3ae6c5a469db68da5d66b25efb3": {
     "views": [
      {
       "cell_index": 8
      }
     ]
    },
    "c8259e34677743f5bea977c0e47ac52b": {
     "views": []
    },
    "cdf479d25ccd4740ba7d68c133280b93": {
     "views": []
    },
    "cef9cc3a2ea645378b3882b61d6b7b68": {
     "views": []
    },
    "d75ac3ea002f4d58b2be3c5fd846d6a5": {
     "views": []
    },
    "e1223619f4b645d0bb8eb03b9fe29f9b": {
     "views": []
    },
    "e9125ec144fb4199a962c9fbcbf3a605": {
     "views": []
    },
    "ea469f52d1b94883a93a90790de07a5c": {
     "views": []
    },
    "f4f59569c7f8419188141c5d82477475": {
     "views": []
    },
    "f7287e74c30b4d7dab7d046bee089d70": {
     "views": []
    },
    "f967ede07e1d4056b8d91c551565b8fc": {
     "views": []
    }
   },
   "version": "2.0.0-dev"
  }
 },
 "nbformat": 4,
 "nbformat_minor": 0
}
