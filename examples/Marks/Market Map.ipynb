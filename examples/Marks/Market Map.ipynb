{
 "cells": [
  {
   "cell_type": "code",
   "execution_count": 1,
   "metadata": {
    "collapsed": false
   },
   "outputs": [],
   "source": [
    "import pandas as pd\n",
    "from IPython.display import display\n",
    "from ipywidgets import Label\n",
    "from bqplot import *\n",
    "from bqplot.market_map import MarketMap\n",
    "import os"
   ]
  },
  {
   "cell_type": "markdown",
   "metadata": {},
   "source": [
    "## Get Data"
   ]
  },
  {
   "cell_type": "code",
   "execution_count": 2,
   "metadata": {
    "collapsed": false
   },
   "outputs": [],
   "source": [
    "data = pd.read_csv(os.path.abspath('../data_files/country_codes.csv'), index_col=[0])\n",
    "country_codes = data.index.values\n",
    "country_names = data['Name']"
   ]
  },
  {
   "cell_type": "markdown",
   "metadata": {},
   "source": [
    "## Basic Market Map"
   ]
  },
  {
   "cell_type": "code",
   "execution_count": 3,
   "metadata": {
    "collapsed": false
   },
   "outputs": [
    {
     "data": {
      "application/vnd.jupyter.widget": "71478711fa5448549c6d1b495c838472"
     },
     "metadata": {},
     "output_type": "display_data"
    }
   ],
   "source": [
    "market_map = MarketMap(names=country_codes,      \n",
    "                       # basic data which needs to set for each map\n",
    "                       ref_data=data,            \n",
    "                       # Data frame which can be used for different properties of the map\n",
    "                       # Axis and scale for color data\n",
    "                       tooltip_fields=['Name'])  \n",
    "\n",
    "display(market_map)"
   ]
  },
  {
   "cell_type": "code",
   "execution_count": 4,
   "metadata": {
    "collapsed": true
   },
   "outputs": [],
   "source": [
    "market_map.colors = ['MediumSeaGreen']"
   ]
  },
  {
   "cell_type": "code",
   "execution_count": 8,
   "metadata": {
    "collapsed": true
   },
   "outputs": [],
   "source": [
    "market_map.font_style = {'font-size': '22px', 'fill':'white'}"
   ]
  },
  {
   "cell_type": "code",
   "execution_count": 5,
   "metadata": {
    "collapsed": true
   },
   "outputs": [],
   "source": [
    "market_map.title = 'My First Market Map'\n",
    "market_map.title_style = {'fill': 'Red'}"
   ]
  },
  {
   "cell_type": "markdown",
   "metadata": {},
   "source": [
    "## GDP data with grouping by continent\n",
    "\n",
    "World Bank national accounts data, and OECD National Accounts data files. (The World Bank: GDP per capita (current US$))"
   ]
  },
  {
   "cell_type": "code",
   "execution_count": 15,
   "metadata": {
    "collapsed": false
   },
   "outputs": [],
   "source": [
    "gdp_data = pd.read_csv(os.path.abspath('../data_files/gdp_per_capita.csv'), index_col=[0], parse_dates=True)\n",
    "gdp_data.fillna(method='backfill', inplace=True)\n",
    "gdp_data.fillna(method='ffill', inplace=True)"
   ]
  },
  {
   "cell_type": "code",
   "execution_count": 16,
   "metadata": {
    "collapsed": false
   },
   "outputs": [],
   "source": [
    "col = ColorScale(scheme='Greens')\n",
    "continents = data['Continent'].values\n",
    "ax_c = ColorAxis(scale=col, label='GDP per Capita', visible=False)\n",
    "\n",
    "data['GDP'] = gdp_data.ix[-1]\n",
    "\n",
    "market_map = MarketMap(names=country_codes, groups=continents,       # Basic data which needs to set for each map\n",
    "                       cols=25, row_groups=3,                        # Properties for the visualization\n",
    "                       ref_data=data,                                # Data frame used for different properties of the map\n",
    "                       tooltip_fields=['Name', 'Continent', 'GDP'],  # Columns from data frame to be displayed as tooltip\n",
    "                       tooltip_formats=['', '', '.1f'],\n",
    "                       scales={'color': col}, axes=[ax_c])           # Axis and scale for color data"
   ]
  },
  {
   "cell_type": "code",
   "execution_count": 17,
   "metadata": {
    "collapsed": false
   },
   "outputs": [
    {
     "name": "stderr",
     "output_type": "stream",
     "text": [
      "/home/dhruv/anaconda2/lib/python2.7/site-packages/ipykernel/__main__.py:5: DeprecationWarning: on_trait_change is deprecated: use observe instead\n"
     ]
    },
    {
     "data": {
      "text/plain": [
       "<bqplot.marks.Label at 0x7fc4e1d02a50>"
      ]
     },
     "metadata": {},
     "output_type": "display_data"
    },
    {
     "data": {
      "application/vnd.jupyter.widget": "e176a702956a4aba812232fc231eddb6"
     },
     "metadata": {},
     "output_type": "display_data"
    }
   ],
   "source": [
    "deb_output = Label()\n",
    "def selected_index_changed(name, value):\n",
    "    deb_output.value = str(value)\n",
    "        \n",
    "market_map.on_trait_change(selected_index_changed, name='selected')\n",
    "display(deb_output)\n",
    "display(market_map)"
   ]
  },
  {
   "cell_type": "code",
   "execution_count": 18,
   "metadata": {
    "collapsed": false
   },
   "outputs": [],
   "source": [
    "# Attribute to show the names of the groups, in this case the continents\n",
    "market_map.show_groups = True"
   ]
  },
  {
   "cell_type": "code",
   "execution_count": 13,
   "metadata": {
    "collapsed": false
   },
   "outputs": [],
   "source": [
    "# Setting the selected countries\n",
    "market_map.show_groups = False\n",
    "market_map.selected = ['PAN', 'FRA', 'PHL']"
   ]
  },
  {
   "cell_type": "code",
   "execution_count": 14,
   "metadata": {
    "collapsed": false
   },
   "outputs": [],
   "source": [
    "# changing selected stroke and hovered stroke variable\n",
    "market_map.selected_stroke = 'yellow'\n",
    "market_map.hovered_stroke = 'violet'"
   ]
  },
  {
   "cell_type": "markdown",
   "metadata": {},
   "source": [
    "## Setting the color based on data"
   ]
  },
  {
   "cell_type": "code",
   "execution_count": null,
   "metadata": {
    "collapsed": false
   },
   "outputs": [],
   "source": [
    "# Adding data for color and making color axis visible\n",
    "market_map.color = data['GDP']\n",
    "ax_c.visible = True"
   ]
  },
  {
   "cell_type": "markdown",
   "metadata": {},
   "source": [
    "## Adding a widget as tooltip"
   ]
  },
  {
   "cell_type": "code",
   "execution_count": 19,
   "metadata": {
    "collapsed": false
   },
   "outputs": [],
   "source": [
    "# Creating the figure to be displayed as the tooltip\n",
    "sc_x = DateScale()\n",
    "sc_y = LinearScale()\n",
    "\n",
    "ax_x = Axis(scale=sc_x, grid_lines='dashed', label='Date')\n",
    "ax_y = Axis(scale=sc_y, orientation='vertical', grid_lines='dashed',\n",
    "            label='GDP', label_location='end', label_offset='-1em')\n",
    "\n",
    "line = Lines(x= gdp_data.index.values, scales={'x': sc_x, 'y': sc_y}, colors=['orange'])\n",
    "fig_tooltip = Figure(marks=[line], axes=[ax_x, ax_y], min_width=600, min_height=400)"
   ]
  },
  {
   "cell_type": "code",
   "execution_count": 20,
   "metadata": {
    "collapsed": false
   },
   "outputs": [
    {
     "data": {
      "application/vnd.jupyter.widget": "a0a53ecd2c22471eb65849bd46a28ee1"
     },
     "metadata": {},
     "output_type": "display_data"
    }
   ],
   "source": [
    "market_map = MarketMap(names=country_codes, groups=continents,\n",
    "                       cols=25, row_groups=3,\n",
    "                       color=data['GDP'], scales={'color': col}, axes=[ax_c],\n",
    "                       ref_data=data, tooltip_widget=fig_tooltip)\n",
    "\n",
    "# Update the tooltip chart\n",
    "hovered_symbol = ''\n",
    "def hover_handler(self, content):\n",
    "    global hovered_symbol\n",
    "    symbol = content.get('ref_data', {}).get('Country Code', '')\n",
    "    if(symbol != hovered_symbol):\n",
    "        hovered_symbol = symbol\n",
    "        if(gdp_data.get(hovered_symbol) is not None):\n",
    "            line.y = gdp_data[hovered_symbol].values\n",
    "            fig_tooltip.title = content.get('ref_data', {}).get('Name', '')\n",
    "\n",
    "# Custom msg sent when a particular cell is hovered on\n",
    "market_map.on_hover(hover_handler)\n",
    "display(market_map)"
   ]
  },
  {
   "cell_type": "markdown",
   "metadata": {},
   "source": [
    "This notebook uses data derived from the World Bank dataset.\n",
    "- The World Bank: GDP per capita (current US$)\n",
    "- The World Bank: Country Codes \n",
    "\n",
    "See the LICENSE file for more information."
   ]
  }
 ],
 "metadata": {
  "anaconda-cloud": {},
  "kernelspec": {
   "display_name": "Python 2",
   "language": "python",
   "name": "python2"
  },
  "language_info": {
   "codemirror_mode": {
    "name": "ipython",
    "version": 2
   },
   "file_extension": ".py",
   "mimetype": "text/x-python",
   "name": "python",
   "nbconvert_exporter": "python",
   "pygments_lexer": "ipython2",
   "version": "2.7.11"
  },
  "widgets": {
   "state": {
    "71478711fa5448549c6d1b495c838472": {
     "views": [
      {
       "cell_index": 4
      }
     ]
    }
   },
   "version": "2.0.0-dev"
  }
 },
 "nbformat": 4,
 "nbformat_minor": 0
}
