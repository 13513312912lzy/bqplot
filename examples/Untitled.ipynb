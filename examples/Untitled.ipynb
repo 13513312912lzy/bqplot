{
 "cells": [
  {
   "cell_type": "code",
   "execution_count": 1,
   "metadata": {},
   "outputs": [
    {
     "data": {
      "application/vnd.jupyter.widget-view+json": {
       "model_id": "c3464f6304ca4a409ee00b2700560f3d",
       "version_major": 2,
       "version_minor": 0
      },
      "text/plain": [
       "Figure(axes=[ColorAxis(scale=ColorScale(colors=['red', 'white', 'green'], max=0.11, mid=0.0, min=-0.36))], fig…"
      ]
     },
     "metadata": {},
     "output_type": "display_data"
    }
   ],
   "source": [
    "from bqplot import *\n",
    "import pandas as pd\n",
    "import numpy as np\n",
    "\n",
    "scale_color = ColorScale(colors=['red', 'white' ,'green'],\n",
    "                                          max=0.11, mid=0, min=-0.36)\n",
    "axis_c = ColorAxis(scale=scale_color)\n",
    "grid_map = GridHeatMap(color=np.array([[-0.13, 0.11],[0,-0.36]]),\n",
    "                       tooltip=Tooltip(fields=['color']),\n",
    "                       scales={'color': scale_color})\n",
    "Figure(marks=[grid_map], axes=[axis_c])"
   ]
  },
  {
   "cell_type": "code",
   "execution_count": null,
   "metadata": {},
   "outputs": [],
   "source": []
  }
 ],
 "metadata": {
  "kernelspec": {
   "display_name": "Python 3",
   "language": "python",
   "name": "python3"
  },
  "language_info": {
   "codemirror_mode": {
    "name": "ipython",
    "version": 3
   },
   "file_extension": ".py",
   "mimetype": "text/x-python",
   "name": "python",
   "nbconvert_exporter": "python",
   "pygments_lexer": "ipython3",
   "version": "3.7.3"
  }
 },
 "nbformat": 4,
 "nbformat_minor": 4
}
