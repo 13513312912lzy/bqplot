{
 "cells": [
  {
   "cell_type": "code",
   "execution_count": null,
   "id": "be5885ee",
   "metadata": {},
   "outputs": [],
   "source": [
    "from bqplot import *\n",
    "import numpy as np\n",
    "import string\n",
    "\n",
    "np.random.seed(0)\n",
    "data = np.random.rand(7)\n",
    "pie = Pie(sizes=data, display_labels='outside', labels=list(string.ascii_uppercase))\n",
    "fig = Figure(marks=[pie])\n",
    "fig"
   ]
  },
  {
   "cell_type": "code",
   "execution_count": null,
   "id": "cea626b9",
   "metadata": {},
   "outputs": [],
   "source": [
    "n = np.random.randint(1, 10)\n",
    "pie.sizes = np.random.rand(n)"
   ]
  },
  {
   "cell_type": "code",
   "execution_count": null,
   "id": "4e41334c",
   "metadata": {},
   "outputs": [],
   "source": [
    "pie.display_values = True"
   ]
  },
  {
   "cell_type": "code",
   "execution_count": null,
   "id": "fb300235",
   "metadata": {},
   "outputs": [],
   "source": [
    "pie.values_format = '.2f'"
   ]
  },
  {
   "cell_type": "code",
   "execution_count": null,
   "id": "eee9374b",
   "metadata": {},
   "outputs": [],
   "source": [
    "pie.sort = True"
   ]
  },
  {
   "cell_type": "code",
   "execution_count": null,
   "id": "74134dde",
   "metadata": {},
   "outputs": [],
   "source": [
    "pie.label_color = 'gray'"
   ]
  },
  {
   "cell_type": "code",
   "execution_count": null,
   "id": "50ed47d9",
   "metadata": {},
   "outputs": [],
   "source": [
    "pie.font_size = '13px'"
   ]
  },
  {
   "cell_type": "code",
   "execution_count": null,
   "id": "1fd9e1b8",
   "metadata": {},
   "outputs": [],
   "source": [
    "pie.font_weight = 'bold'"
   ]
  },
  {
   "cell_type": "code",
   "execution_count": null,
   "id": "e60ab0f1",
   "metadata": {},
   "outputs": [],
   "source": [
    "pie.radius = 150"
   ]
  },
  {
   "cell_type": "code",
   "execution_count": null,
   "id": "e95d9951",
   "metadata": {},
   "outputs": [],
   "source": [
    "pie.inner_radius = 100"
   ]
  },
  {
   "cell_type": "code",
   "execution_count": null,
   "id": "1ef9b315",
   "metadata": {},
   "outputs": [],
   "source": [
    "pie.start_angle = -90"
   ]
  },
  {
   "cell_type": "code",
   "execution_count": null,
   "id": "3cec0b04",
   "metadata": {},
   "outputs": [],
   "source": [
    "pie.end_angle = 90"
   ]
  },
  {
   "cell_type": "code",
   "execution_count": null,
   "id": "2ab0ec32",
   "metadata": {},
   "outputs": [],
   "source": [
    "pie.stroke = 'white'"
   ]
  },
  {
   "cell_type": "code",
   "execution_count": null,
   "id": "257f5eff",
   "metadata": {},
   "outputs": [],
   "source": [
    "pie.sort = False"
   ]
  },
  {
   "cell_type": "code",
   "execution_count": null,
   "id": "e0e0724f",
   "metadata": {},
   "outputs": [],
   "source": [
    "pie.colors = ['orange', 'darkviolet']"
   ]
  },
  {
   "cell_type": "code",
   "execution_count": null,
   "id": "dd61c76e",
   "metadata": {},
   "outputs": [],
   "source": [
    "pie.opacities = [0.3, 0.8]"
   ]
  },
  {
   "cell_type": "code",
   "execution_count": null,
   "id": "3e942d18",
   "metadata": {},
   "outputs": [],
   "source": [
    "pie.labels = [label + '_1' for label in pie.labels]"
   ]
  },
  {
   "cell_type": "code",
   "execution_count": null,
   "id": "dea2fbec",
   "metadata": {},
   "outputs": [],
   "source": [
    "# pie.display_labels = 'inside'"
   ]
  },
  {
   "cell_type": "code",
   "execution_count": null,
   "id": "9bc28100",
   "metadata": {},
   "outputs": [],
   "source": [
    "pie.selected_style = {'fill': 'green'}\n",
    "pie.unselected_style = {'fill': 'red'}\n",
    "pie.selected = [0, 3, 4]"
   ]
  }
 ],
 "metadata": {
  "kernelspec": {
   "display_name": "Python 3",
   "language": "python",
   "name": "python3"
  },
  "language_info": {
   "codemirror_mode": {
    "name": "ipython",
    "version": 3
   },
   "file_extension": ".py",
   "mimetype": "text/x-python",
   "name": "python",
   "nbconvert_exporter": "python",
   "pygments_lexer": "ipython3",
   "version": "3.9.2"
  }
 },
 "nbformat": 4,
 "nbformat_minor": 5
}
